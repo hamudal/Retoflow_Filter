{
 "cells": [
  {
   "cell_type": "code",
   "execution_count": 2,
   "metadata": {},
   "outputs": [
    {
     "name": "stdout",
     "output_type": "stream",
     "text": [
      "Connected to MongoDB\n"
     ]
    }
   ],
   "source": [
    "from pymongo import MongoClient\n",
    "from config import username, password, host, database_name\n",
    "\n",
    "# Create the connection string using an F-string\n",
    "uri = f\"mongodb+srv://{username}:{password}@{host}/?retryWrites=true&w=majority\"\n",
    "\n",
    "# Connect to the MongoDB instance\n",
    "client = MongoClient(uri)\n",
    "\n",
    "# Access a sample database\n",
    "db = client[database_name]\n",
    "\n",
    "print(\"Connected to MongoDB\")\n"
   ]
  },
  {
   "cell_type": "code",
   "execution_count": 3,
   "metadata": {},
   "outputs": [
    {
     "data": {
      "text/plain": [
       "Database(MongoClient(host=['ac-ppugtx3-shard-00-02.mzi74kp.mongodb.net:27017', 'ac-ppugtx3-shard-00-00.mzi74kp.mongodb.net:27017', 'ac-ppugtx3-shard-00-01.mzi74kp.mongodb.net:27017'], document_class=dict, tz_aware=False, connect=True, retrywrites=True, w='majority', authsource='admin', replicaset='atlas-mx4a5t-shard-0', tls=True), 'your_database_name')"
      ]
     },
     "execution_count": 3,
     "metadata": {},
     "output_type": "execute_result"
    }
   ],
   "source": [
    "db"
   ]
  },
  {
   "cell_type": "code",
   "execution_count": null,
   "metadata": {},
   "outputs": [],
   "source": [
    "# Query some data from a collection\n",
    "collection_name = 'your_collection_name'\n",
    "collection = db[collection_name]\n",
    "\n",
    "# Example: Find the first document in the collection\n",
    "result = collection.find_one()\n",
    "\n",
    "# Print the result\n",
    "print(result)\n"
   ]
  }
 ],
 "metadata": {
  "kernelspec": {
   "display_name": "Python 3",
   "language": "python",
   "name": "python3"
  },
  "language_info": {
   "codemirror_mode": {
    "name": "ipython",
    "version": 3
   },
   "file_extension": ".py",
   "mimetype": "text/x-python",
   "name": "python",
   "nbconvert_exporter": "python",
   "pygments_lexer": "ipython3",
   "version": "3.12.1"
  }
 },
 "nbformat": 4,
 "nbformat_minor": 2
}
