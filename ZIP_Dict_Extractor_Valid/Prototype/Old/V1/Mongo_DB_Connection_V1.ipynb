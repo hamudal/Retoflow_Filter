{
 "cells": [
  {
   "cell_type": "code",
   "execution_count": 5,
   "metadata": {},
   "outputs": [
    {
     "name": "stdout",
     "output_type": "stream",
     "text": [
      "Collection 'ZIP_Polygon' created.\n"
     ]
    }
   ],
   "source": [
    "from pymongo import MongoClient\n",
    "from config import username, password, host, database_name\n",
    "from urllib.parse import quote_plus\n",
    "\n",
    "# Escape the username and password\n",
    "escaped_username = quote_plus(username)\n",
    "escaped_password = quote_plus(password)\n",
    "\n",
    "# Create the connection string using an F-string\n",
    "uri = f\"mongodb+srv://{escaped_username}:{escaped_password}@{host}/?retryWrites=true&w=majority\"\n",
    "\n",
    "# Connect to the MongoDB instance\n",
    "client = MongoClient(uri)\n",
    "\n",
    "# Access the sample database\n",
    "db = client[database_name]\n",
    "\n",
    "# Specify the collection name\n",
    "collection_name = 'ZIP_Polygon'\n",
    "\n",
    "# Create the 'ZIP_Polygon' collection\n",
    "ZIP_Polygon = db[collection_name]\n",
    "print(f\"Collection '{collection_name}' created.\")\n"
   ]
  },
  {
   "cell_type": "code",
   "execution_count": 7,
   "metadata": {},
   "outputs": [
    {
     "name": "stdout",
     "output_type": "stream",
     "text": [
      "GeoJSON data inserted into MongoDB collection 'ZIP_Polygon'.\n"
     ]
    }
   ],
   "source": [
    "# Load GeoJSON data from the file\n",
    "geojson_file_path = 'kassel_geojson_data.geojson'\n",
    "\n",
    "with open(geojson_file_path, 'r') as file:\n",
    "    geojson_data = geojson.load(file)\n",
    "\n",
    "# Insert GeoJSON data into the 'ZIP_Polygon' collection\n",
    "ZIP_Polygon.insert_many(geojson_data['features'])\n",
    "print(f\"GeoJSON data inserted into MongoDB collection '{collection_name}'.\")\n"
   ]
  },
  {
   "cell_type": "code",
   "execution_count": null,
   "metadata": {},
   "outputs": [],
   "source": [
    "# Query some data from a collection\n",
    "collection_name = 'your_collection_name'\n",
    "collection = db[collection_name]\n",
    "\n",
    "# Example: Find the first document in the collection\n",
    "result = collection.find_one()\n",
    "\n",
    "# Print the result\n",
    "print(result)\n"
   ]
  }
 ],
 "metadata": {
  "kernelspec": {
   "display_name": "Python 3",
   "language": "python",
   "name": "python3"
  },
  "language_info": {
   "codemirror_mode": {
    "name": "ipython",
    "version": 3
   },
   "file_extension": ".py",
   "mimetype": "text/x-python",
   "name": "python",
   "nbconvert_exporter": "python",
   "pygments_lexer": "ipython3",
   "version": "3.12.1"
  }
 },
 "nbformat": 4,
 "nbformat_minor": 2
}
