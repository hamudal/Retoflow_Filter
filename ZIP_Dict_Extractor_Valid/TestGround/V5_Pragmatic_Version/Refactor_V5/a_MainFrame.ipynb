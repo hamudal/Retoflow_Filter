{
 "cells": [
  {
   "cell_type": "code",
   "execution_count": null,
   "metadata": {},
   "outputs": [],
   "source": [
    "from file_a import main as file_a_main\n",
    "from file_b import main as file_b_main\n",
    "from file_c import main as file_c_main\n",
    "from file_d import main as file_d_main\n",
    "from file_e import main as file_e_main\n",
    "from file_f import main as file_f_main\n",
    "\n",
    "def main_frame():\n",
    "    # Execute the main functions of each file as needed\n",
    "    file_a_main()\n",
    "    file_b_main()\n",
    "    file_c_main()\n",
    "    file_d_main()\n",
    "    file_e_main()\n",
    "    file_f_main()\n",
    "\n",
    "if __name__ == \"__main__\":\n",
    "    main_frame()\n"
   ]
  }
 ],
 "metadata": {
  "language_info": {
   "name": "python"
  }
 },
 "nbformat": 4,
 "nbformat_minor": 2
}
