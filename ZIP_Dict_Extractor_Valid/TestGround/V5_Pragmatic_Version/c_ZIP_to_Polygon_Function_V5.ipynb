{
 "cells": [
  {
   "cell_type": "code",
   "execution_count": null,
   "metadata": {},
   "outputs": [],
   "source": [
    "import json\n",
    "from shapely.geometry import shape\n",
    "import geopandas as gpd\n",
    "import matplotlib.pyplot as plt\n",
    "\n",
    "def load_geojson(file_path):\n",
    "    \"\"\"\n",
    "    Loads GeoJSON data from a file and converts it to a dictionary mapping postal codes to polygons.\n",
    "    \"\"\"\n",
    "    with open(file_path, 'r') as file:\n",
    "        geojson_data = json.load(file)\n",
    "\n",
    "    postal_code_polygons = {feature['properties']['postal_code']: shape(feature['geometry']) for feature in geojson_data['features']}\n",
    "    return postal_code_polygons\n",
    "\n",
    "def plot_polygon(postal_code_polygons, postal_code):\n",
    "    \"\"\"\n",
    "    Plots the polygon for a given postal code.\n",
    "    \"\"\"\n",
    "    polygon = postal_code_polygons.get(postal_code)\n",
    "    if polygon:\n",
    "        gdf = gpd.GeoDataFrame(geometry=[polygon])\n",
    "        gdf.plot()\n",
    "        plt.title(f\"Postal Code Polygon: {postal_code}\")\n",
    "        plt.xlabel(\"Longitude\")\n",
    "        plt.ylabel(\"Latitude\")\n",
    "        plt.show()\n",
    "    else:\n",
    "        print(f\"No polygon found for postal code: {postal_code}\")\n",
    "\n",
    "# Example usage\n",
    "file_path = r'C:\\Users\\hamud\\Documents\\Retoflow\\Project_Filter\\Retoflow_Filter\\Check_Out_Leon\\Germany_geojson_data.geojson'\n",
    "postal_code_polygons = load_geojson(file_path)\n",
    "\n",
    "# Input the postal code you want to plot\n",
    "input_postal_code = input(\"Enter a postal code: \")\n",
    "\n",
    "# Plot the polygon for the specified postal code\n",
    "plot_polygon(postal_code_polygons, input_postal_code)\n",
    "\n"
   ]
  },
  {
   "cell_type": "code",
   "execution_count": 4,
   "metadata": {},
   "outputs": [],
   "source": [
    "from pymongo import MongoClient\n",
    "from shapely.geometry import shape\n",
    "\n",
    "class MongoDBDataRetriever:\n",
    "    def __init__(self, database_name, collection_name):\n",
    "        self.client = MongoClient('localhost', 27017)\n",
    "        self.db = self.client[database_name]\n",
    "        self.collection = self.db[collection_name]\n",
    "\n",
    "    def retrieve_geojson_data(self):\n",
    "        \"\"\"\n",
    "        Retrieves GeoJSON data from MongoDB and converts it to a dictionary mapping postal codes to polygons.\n",
    "        \"\"\"\n",
    "        cursor = self.collection.find({}, {'_id': 0, 'postal_code': 1, 'geometry': 1})  # Include only necessary fields\n",
    "        geojson_data = {'features': list(cursor)}\n",
    "        postal_code_polygons = {feature['postal_code']: shape(feature['geometry']) for feature in geojson_data['features']}\n",
    "        return postal_code_polygons\n",
    "\n",
    "    def close_connection(self):\n",
    "        self.client.close()\n",
    "        print(\"Closed MongoDB connection.\")\n",
    "\n",
    "\n"
   ]
  },
  {
   "cell_type": "code",
   "execution_count": 5,
   "metadata": {},
   "outputs": [
    {
     "ename": "NameError",
     "evalue": "name 'get_place_postal_code_polygons' is not defined",
     "output_type": "error",
     "traceback": [
      "\u001b[1;31m---------------------------------------------------------------------------\u001b[0m",
      "\u001b[1;31mNameError\u001b[0m                                 Traceback (most recent call last)",
      "Cell \u001b[1;32mIn[5], line 36\u001b[0m\n\u001b[0;32m     33\u001b[0m     plot_polygon(postal_code_polygons, input_postal_code)\n\u001b[0;32m     35\u001b[0m \u001b[38;5;28;01mif\u001b[39;00m \u001b[38;5;18m__name__\u001b[39m \u001b[38;5;241m==\u001b[39m \u001b[38;5;124m\"\u001b[39m\u001b[38;5;124m__main__\u001b[39m\u001b[38;5;124m\"\u001b[39m:\n\u001b[1;32m---> 36\u001b[0m     \u001b[43mmain\u001b[49m\u001b[43m(\u001b[49m\u001b[43m)\u001b[49m\n",
      "Cell \u001b[1;32mIn[5], line 6\u001b[0m, in \u001b[0;36mmain\u001b[1;34m()\u001b[0m\n\u001b[0;32m      3\u001b[0m \u001b[38;5;28;01mdef\u001b[39;00m \u001b[38;5;21mmain\u001b[39m():\n\u001b[0;32m      4\u001b[0m     place_input \u001b[38;5;241m=\u001b[39m \u001b[38;5;28minput\u001b[39m(\u001b[38;5;124m\"\u001b[39m\u001b[38;5;124mGeben Sie den Stadtnamen oder Ländernamen ein: \u001b[39m\u001b[38;5;124m\"\u001b[39m)\n\u001b[1;32m----> 6\u001b[0m     place_postal_code_polygons \u001b[38;5;241m=\u001b[39m \u001b[43mget_place_postal_code_polygons\u001b[49m(place_input)\n\u001b[0;32m      7\u001b[0m     place_geojson_data \u001b[38;5;241m=\u001b[39m format_geojson_data(place_postal_code_polygons)\n\u001b[0;32m      9\u001b[0m     file_name \u001b[38;5;241m=\u001b[39m \u001b[38;5;124mf\u001b[39m\u001b[38;5;124m\"\u001b[39m\u001b[38;5;132;01m{\u001b[39;00mplace_input\u001b[38;5;132;01m}\u001b[39;00m\u001b[38;5;124m_geojson_data.geojson\u001b[39m\u001b[38;5;124m\"\u001b[39m\n",
      "\u001b[1;31mNameError\u001b[0m: name 'get_place_postal_code_polygons' is not defined"
     ]
    }
   ],
   "source": [
    "# ... (other imports and functions)\n",
    "\n"
   ]
  }
 ],
 "metadata": {
  "kernelspec": {
   "display_name": "Python 3",
   "language": "python",
   "name": "python3"
  },
  "language_info": {
   "codemirror_mode": {
    "name": "ipython",
    "version": 3
   },
   "file_extension": ".py",
   "mimetype": "text/x-python",
   "name": "python",
   "nbconvert_exporter": "python",
   "pygments_lexer": "ipython3",
   "version": "3.12.1"
  }
 },
 "nbformat": 4,
 "nbformat_minor": 2
}
