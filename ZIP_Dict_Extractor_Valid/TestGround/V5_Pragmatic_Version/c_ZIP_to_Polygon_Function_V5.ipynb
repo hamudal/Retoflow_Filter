{
 "cells": [
  {
   "cell_type": "code",
   "execution_count": null,
   "metadata": {},
   "outputs": [],
   "source": [
    "import json\n",
    "from shapely.geometry import shape\n",
    "import geopandas as gpd\n",
    "import matplotlib.pyplot as plt\n",
    "\n",
    "def load_geojson(file_path):\n",
    "    \"\"\"\n",
    "    Loads GeoJSON data from a file and converts it to a dictionary mapping postal codes to polygons.\n",
    "    \"\"\"\n",
    "    with open(file_path, 'r') as file:\n",
    "        geojson_data = json.load(file)\n",
    "\n",
    "    postal_code_polygons = {feature['properties']['postal_code']: shape(feature['geometry']) for feature in geojson_data['features']}\n",
    "    return postal_code_polygons\n",
    "\n",
    "def plot_polygon(postal_code_polygons, postal_code):\n",
    "    \"\"\"\n",
    "    Plots the polygon for a given postal code.\n",
    "    \"\"\"\n",
    "    polygon = postal_code_polygons.get(postal_code)\n",
    "    if polygon:\n",
    "        gdf = gpd.GeoDataFrame(geometry=[polygon])\n",
    "        gdf.plot()\n",
    "        plt.title(f\"Postal Code Polygon: {postal_code}\")\n",
    "        plt.xlabel(\"Longitude\")\n",
    "        plt.ylabel(\"Latitude\")\n",
    "        plt.show()\n",
    "    else:\n",
    "        print(f\"No polygon found for postal code: {postal_code}\")\n",
    "\n",
    "# Example usage\n",
    "file_path = r'C:\\Users\\hamud\\Documents\\Retoflow\\Project_Filter\\Retoflow_Filter\\Check_Out_Leon\\Germany_geojson_data.geojson'\n",
    "postal_code_polygons = load_geojson(file_path)\n",
    "\n",
    "# Input the postal code you want to plot\n",
    "input_postal_code = input(\"Enter a postal code: \")\n",
    "\n",
    "# Plot the polygon for the specified postal code\n",
    "plot_polygon(postal_code_polygons, input_postal_code)\n",
    "\n"
   ]
  },
  {
   "cell_type": "code",
   "execution_count": 4,
   "metadata": {},
   "outputs": [],
   "source": [
    "from pymongo import MongoClient\n",
    "from shapely.geometry import shape\n",
    "\n",
    "class MongoDBDataRetriever:\n",
    "    def __init__(self, database_name, collection_name):\n",
    "        self.client = MongoClient('localhost', 27017)\n",
    "        self.db = self.client[database_name]\n",
    "        self.collection = self.db[collection_name]\n",
    "\n",
    "    def retrieve_geojson_data(self):\n",
    "        \"\"\"\n",
    "        Retrieves GeoJSON data from MongoDB and converts it to a dictionary mapping postal codes to polygons.\n",
    "        \"\"\"\n",
    "        cursor = self.collection.find({}, {'_id': 0, 'postal_code': 1, 'geometry': 1})  # Include only necessary fields\n",
    "        geojson_data = {'features': list(cursor)}\n",
    "        postal_code_polygons = {feature['postal_code']: shape(feature['geometry']) for feature in geojson_data['features']}\n",
    "        return postal_code_polygons\n",
    "\n",
    "    def close_connection(self):\n",
    "        self.client.close()\n",
    "        print(\"Closed MongoDB connection.\")\n",
    "\n",
    "\n"
   ]
  }
 ],
 "metadata": {
  "kernelspec": {
   "display_name": "Python 3",
   "language": "python",
   "name": "python3"
  },
  "language_info": {
   "codemirror_mode": {
    "name": "ipython",
    "version": 3
   },
   "file_extension": ".py",
   "mimetype": "text/x-python",
   "name": "python",
   "nbconvert_exporter": "python",
   "pygments_lexer": "ipython3",
   "version": "3.12.1"
  }
 },
 "nbformat": 4,
 "nbformat_minor": 2
}
