{
 "cells": [
  {
   "cell_type": "code",
   "execution_count": null,
   "metadata": {},
   "outputs": [],
   "source": [
    "import json\n",
    "from shapely.geometry import shape\n",
    "import geopandas as gpd\n",
    "import matplotlib.pyplot as plt\n",
    "\n",
    "def load_geojson(file_path):\n",
    "    \"\"\"\n",
    "    Loads GeoJSON data from a file and converts it to a dictionary mapping postal codes to polygons.\n",
    "    \"\"\"\n",
    "    with open(file_path, 'r') as file:\n",
    "        geojson_data = json.load(file)\n",
    "\n",
    "    postal_code_polygons = {feature['properties']['postal_code']: shape(feature['geometry']) for feature in geojson_data['features']}\n",
    "    return postal_code_polygons\n",
    "\n",
    "def plot_polygon(postal_code_polygons, postal_code):\n",
    "    \"\"\"\n",
    "    Plots the polygon for a given postal code.\n",
    "    \"\"\"\n",
    "    polygon = postal_code_polygons.get(postal_code)\n",
    "    if polygon:\n",
    "        gdf = gpd.GeoDataFrame(geometry=[polygon])\n",
    "        gdf.plot()\n",
    "        plt.title(f\"Postal Code Polygon: {postal_code}\")\n",
    "        plt.xlabel(\"Longitude\")\n",
    "        plt.ylabel(\"Latitude\")\n",
    "        plt.show()\n",
    "    else:\n",
    "        print(f\"No polygon found for postal code: {postal_code}\")\n",
    "\n",
    "# Example usage\n",
    "file_path = r'C:\\Users\\hamud\\Documents\\Retoflow\\Project_Filter\\Retoflow_Filter\\Check_Out_Leon\\Germany_geojson_data.geojson'\n",
    "postal_code_polygons = load_geojson(file_path)\n",
    "\n",
    "# Input the postal code you want to plot\n",
    "input_postal_code = input(\"Enter a postal code: \")\n",
    "\n",
    "# Plot the polygon for the specified postal code\n",
    "plot_polygon(postal_code_polygons, input_postal_code)\n",
    "\n"
   ]
  }
 ],
 "metadata": {
  "language_info": {
   "name": "python"
  }
 },
 "nbformat": 4,
 "nbformat_minor": 2
}
