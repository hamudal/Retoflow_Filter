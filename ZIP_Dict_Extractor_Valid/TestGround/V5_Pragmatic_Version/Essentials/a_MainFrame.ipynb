{
 "cells": [
  {
   "cell_type": "code",
   "execution_count": 5,
   "metadata": {},
   "outputs": [
    {
     "name": "stderr",
     "output_type": "stream",
     "text": [
      "  0% (0 of 5) |                          | Elapsed Time: 0:00:00 ETA:  --:--:--\n"
     ]
    },
    {
     "name": "stdout",
     "output_type": "stream",
     "text": [
      "Connected to local MongoDB\n",
      "Connected to local MongoDB\n",
      "Extracting postal code polygons for Germany...\n"
     ]
    },
    {
     "ename": "TypeError",
     "evalue": "geocode_to_gdf() got an unexpected keyword argument 'tags'",
     "output_type": "error",
     "traceback": [
      "\u001b[1;31m---------------------------------------------------------------------------\u001b[0m",
      "\u001b[1;31mTypeError\u001b[0m                                 Traceback (most recent call last)",
      "Cell \u001b[1;32mIn[5], line 65\u001b[0m\n\u001b[0;32m     62\u001b[0m     \u001b[38;5;28mprint\u001b[39m(\u001b[38;5;124m\"\u001b[39m\u001b[38;5;124mOperations completed successfully.\u001b[39m\u001b[38;5;124m\"\u001b[39m)\n\u001b[0;32m     64\u001b[0m \u001b[38;5;28;01mif\u001b[39;00m \u001b[38;5;18m__name__\u001b[39m \u001b[38;5;241m==\u001b[39m \u001b[38;5;124m\"\u001b[39m\u001b[38;5;124m__main__\u001b[39m\u001b[38;5;124m\"\u001b[39m:\n\u001b[1;32m---> 65\u001b[0m     \u001b[43mmain\u001b[49m\u001b[43m(\u001b[49m\u001b[43m)\u001b[49m\n",
      "Cell \u001b[1;32mIn[5], line 35\u001b[0m, in \u001b[0;36mmain\u001b[1;34m()\u001b[0m\n\u001b[0;32m     33\u001b[0m progress_bar\u001b[38;5;241m.\u001b[39mupdate(\u001b[38;5;241m1\u001b[39m)\n\u001b[0;32m     34\u001b[0m \u001b[38;5;28mprint\u001b[39m(\u001b[38;5;124m\"\u001b[39m\u001b[38;5;124mExtracting postal code polygons for Germany...\u001b[39m\u001b[38;5;124m\"\u001b[39m)\n\u001b[1;32m---> 35\u001b[0m germany_polygons \u001b[38;5;241m=\u001b[39m \u001b[43mpostal_code_polygon_dict_extractor\u001b[49m\u001b[43m(\u001b[49m\u001b[43mgermany_place_name\u001b[49m\u001b[43m,\u001b[49m\u001b[43m \u001b[49m\u001b[43msave_geojson\u001b[49m\u001b[38;5;241;43m=\u001b[39;49m\u001b[38;5;28;43;01mTrue\u001b[39;49;00m\u001b[43m,\u001b[49m\u001b[43m \u001b[49m\u001b[43mgeojson_filename\u001b[49m\u001b[38;5;241;43m=\u001b[39;49m\u001b[43mgermany_geojson_path\u001b[49m\u001b[43m)\u001b[49m\n\u001b[0;32m     37\u001b[0m \u001b[38;5;66;03m# Step 2: Insert GeoJSON data into MongoDB for Germany\u001b[39;00m\n\u001b[0;32m     38\u001b[0m progress_bar\u001b[38;5;241m.\u001b[39mupdate(\u001b[38;5;241m2\u001b[39m)\n",
      "File \u001b[1;32mc:\\Users\\Admin\\OneDrive\\Dokumente\\Projects\\Retoflow_Filter-1\\ZIP_Dict_Extractor_Valid\\TestGround\\V5_Pragmatic_Version\\Essentials\\B_test.py:16\u001b[0m, in \u001b[0;36mpostal_code_polygon_dict_extractor\u001b[1;34m(place_name, save_geojson, geojson_filename)\u001b[0m\n\u001b[0;32m     15\u001b[0m \u001b[38;5;28;01mdef\u001b[39;00m \u001b[38;5;21mpostal_code_polygon_dict_extractor\u001b[39m(place_name, save_geojson\u001b[38;5;241m=\u001b[39m\u001b[38;5;28;01mFalse\u001b[39;00m, geojson_filename\u001b[38;5;241m=\u001b[39m\u001b[38;5;28;01mNone\u001b[39;00m):\n\u001b[1;32m---> 16\u001b[0m     postal_code_polygons \u001b[38;5;241m=\u001b[39m \u001b[43mox\u001b[49m\u001b[38;5;241;43m.\u001b[39;49m\u001b[43mgeocode_to_gdf\u001b[49m\u001b[43m(\u001b[49m\u001b[43mplace_name\u001b[49m\u001b[43m,\u001b[49m\u001b[43m \u001b[49m\u001b[43mtags\u001b[49m\u001b[38;5;241;43m=\u001b[39;49m\u001b[43m{\u001b[49m\u001b[38;5;124;43m\"\u001b[39;49m\u001b[38;5;124;43mboundary\u001b[39;49m\u001b[38;5;124;43m\"\u001b[39;49m\u001b[43m:\u001b[49m\u001b[43m \u001b[49m\u001b[38;5;124;43m\"\u001b[39;49m\u001b[38;5;124;43mpostal_code\u001b[39;49m\u001b[38;5;124;43m\"\u001b[39;49m\u001b[43m}\u001b[49m\u001b[43m)\u001b[49m\n\u001b[0;32m     18\u001b[0m     gdf \u001b[38;5;241m=\u001b[39m gpd\u001b[38;5;241m.\u001b[39mGeoDataFrame(postal_code_polygons)\u001b[38;5;241m.\u001b[39mdropna(subset\u001b[38;5;241m=\u001b[39m[\u001b[38;5;124m'\u001b[39m\u001b[38;5;124mpostal_code\u001b[39m\u001b[38;5;124m'\u001b[39m, \u001b[38;5;124m'\u001b[39m\u001b[38;5;124mgeometry\u001b[39m\u001b[38;5;124m'\u001b[39m])\n\u001b[0;32m     20\u001b[0m     postal_code_polygon_dict \u001b[38;5;241m=\u001b[39m {}\n",
      "\u001b[1;31mTypeError\u001b[0m: geocode_to_gdf() got an unexpected keyword argument 'tags'"
     ]
    }
   ],
   "source": [
    "from progressbar import ProgressBar\n",
    "import time\n",
    "from B_test import postal_code_polygon_dict_extractor, plot_all_postal_code_polygons\n",
    "from C_test import MongoDBConnector\n",
    "\n",
    "def main():\n",
    "    # Example place names\n",
    "    germany_place_name = \"Germany\"\n",
    "    kassel_place_name = \"Kassel\"\n",
    "\n",
    "    # Example GeoJSON file paths\n",
    "    germany_geojson_path = 'Germany_postal_codes.geojson'\n",
    "    kassel_geojson_path = 'Kassel_postal_codes.geojson'\n",
    "\n",
    "    # Example database and collection names\n",
    "    database_name = \"ZIP_Poly_Ger_Test\"\n",
    "    germany_collection_name = \"ZIP_Poly_Ger_Collection_Test\"\n",
    "    kassel_collection_name = \"ZIP_Poly_Kassel_Collection_Test\"\n",
    "\n",
    "    # Create an instance of MongoDBConnector\n",
    "    mongo_connector_germany = MongoDBConnector(database_name, germany_collection_name)\n",
    "    mongo_connector_kassel = MongoDBConnector(database_name, kassel_collection_name)\n",
    "\n",
    "    # Connect to MongoDB\n",
    "    mongo_client_germany, mongo_collection_germany = mongo_connector_germany.connect_to_local_mongodb()\n",
    "    mongo_client_kassel, mongo_collection_kassel = mongo_connector_kassel.connect_to_local_mongodb()\n",
    "\n",
    "    # Example progress bar\n",
    "    total_steps = 5\n",
    "    progress_bar = ProgressBar(max_value=total_steps)\n",
    "\n",
    "    # Step 1: Extract postal code polygons for Germany\n",
    "    progress_bar.update(1)\n",
    "    print(\"Extracting postal code polygons for Germany...\")\n",
    "    germany_polygons = postal_code_polygon_dict_extractor(germany_place_name, save_geojson=True, geojson_filename=germany_geojson_path)\n",
    "\n",
    "    # Step 2: Insert GeoJSON data into MongoDB for Germany\n",
    "    progress_bar.update(2)\n",
    "    print(\"Inserting GeoJSON data into MongoDB for Germany...\")\n",
    "    mongo_connector_germany.insert_geojson_data(germany_geojson_path, chunk_size=1000)\n",
    "\n",
    "    # Step 3: Plot Germany map with highlighted postal code\n",
    "    progress_bar.update(3)\n",
    "    print(\"Plotting Germany map with highlighted postal code...\")\n",
    "    plot_all_postal_code_polygons(germany_polygons, highlight_postal_code=\"34117\", zoom_into_city=True)\n",
    "\n",
    "    # Step 4: Extract postal code polygons for Kassel\n",
    "    progress_bar.update(4)\n",
    "    print(\"Extracting postal code polygons for Kassel...\")\n",
    "    kassel_polygons = postal_code_polygon_dict_extractor(kassel_place_name, save_geojson=True, geojson_filename=kassel_geojson_path)\n",
    "\n",
    "    # Step 5: Insert GeoJSON data into MongoDB for Kassel\n",
    "    progress_bar.update(5)\n",
    "    print(\"Inserting GeoJSON data into MongoDB for Kassel...\")\n",
    "    mongo_connector_kassel.insert_geojson_data(kassel_geojson_path, chunk_size=1000)\n",
    "\n",
    "    # Close MongoDB connections when done\n",
    "    mongo_connector_germany.close_connection()\n",
    "    mongo_connector_kassel.close_connection()\n",
    "\n",
    "    progress_bar.finish()\n",
    "    print(\"Operations completed successfully.\")\n",
    "\n",
    "if __name__ == \"__main__\":\n",
    "    main()\n"
   ]
  },
  {
   "cell_type": "code",
   "execution_count": null,
   "metadata": {},
   "outputs": [],
   "source": []
  }
 ],
 "metadata": {
  "kernelspec": {
   "display_name": "Python 3",
   "language": "python",
   "name": "python3"
  },
  "language_info": {
   "codemirror_mode": {
    "name": "ipython",
    "version": 3
   },
   "file_extension": ".py",
   "mimetype": "text/x-python",
   "name": "python",
   "nbconvert_exporter": "python",
   "pygments_lexer": "ipython3",
   "version": "3.12.1"
  }
 },
 "nbformat": 4,
 "nbformat_minor": 2
}
