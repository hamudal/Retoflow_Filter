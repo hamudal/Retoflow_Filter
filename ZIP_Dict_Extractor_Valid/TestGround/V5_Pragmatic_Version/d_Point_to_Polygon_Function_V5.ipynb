{
 "cells": [
  {
   "cell_type": "code",
   "execution_count": 1,
   "metadata": {},
   "outputs": [
    {
     "name": "stdout",
     "output_type": "stream",
     "text": [
      "The postal code for the point (51.316669, 9.5) is: 34117\n"
     ]
    }
   ],
   "source": [
    "from shapely.geometry import Point\n",
    "from pymongo import MongoClient\n",
    "from shapely.geometry import Point, Polygon\n",
    "\n",
    "\n",
    "def connect_to_mongodb(database_name, collection_name):\n",
    "    \"\"\"\n",
    "    Connects to MongoDB and returns the MongoDB client and collection.\n",
    "    \"\"\"\n",
    "    client = MongoClient('localhost', 27017)\n",
    "    db = client[database_name]\n",
    "    collection = db[collection_name]\n",
    "    return client, collection\n",
    "\n",
    "def retrieve_data_from_mongodb(collection):\n",
    "    \"\"\"\n",
    "    Retrieves GeoJSON data from MongoDB collection.\n",
    "    \"\"\"\n",
    "    cursor = collection.find()\n",
    "    geojson_data = {\"type\": \"FeatureCollection\", \"features\": []}\n",
    "\n",
    "    for document in cursor:\n",
    "        geojson_data[\"features\"].append(document)\n",
    "\n",
    "    return geojson_data\n",
    "\n",
    "def coordinates_to_polygon(coordinates):\n",
    "    \"\"\"\n",
    "    Converts coordinates to a Shapely Polygon.\n",
    "    \"\"\"\n",
    "    return Polygon(coordinates)\n",
    "\n",
    "def get_postal_code_for_point(latitude, longitude, postal_code_polygons):\n",
    "    \"\"\"\n",
    "    Returns the postal code for a point specified by latitude and longitude.\n",
    "    \"\"\"\n",
    "    # Create a Point object for the specified latitude and longitude\n",
    "    point = Point(longitude, latitude)\n",
    "    \n",
    "    # Check each postal code polygon to see if it contains the point\n",
    "    for postal_code, polygon in postal_code_polygons.items():\n",
    "        if polygon.contains(point):\n",
    "            # If the polygon contains the point, return its postal code\n",
    "            return postal_code\n",
    "    \n",
    "    # If no polygon contains the point, return None\n",
    "    return None\n",
    "\n",
    "# Example usage\n",
    "if __name__ == \"__main__\":\n",
    "    # MongoDB configuration\n",
    "    database_name = \"ZIP_Poly_Ger_Test\"\n",
    "    collection_name = \"ZIP_Poly_Ger_Collection_Test\"\n",
    "\n",
    "    # Connect to MongoDB\n",
    "    mongo_client, mongo_collection = connect_to_mongodb(database_name, collection_name)\n",
    "\n",
    "    # Retrieve GeoJSON data from MongoDB\n",
    "    geojson_data_from_mongo = retrieve_data_from_mongodb(mongo_collection)\n",
    "\n",
    "    # Load GeoJSON data from MongoDB for comparison\n",
    "    postal_code_polygons_mongo = {document.get('postal_code'): coordinates_to_polygon(document.get('geometry')['coordinates'][0]) for document in geojson_data_from_mongo['features']}\n",
    "\n",
    "    # Test the get_postal_code_for_point function\n",
    "    latitude = 51.316669\n",
    "    longitude = 9.500000\n",
    "    postal_code = get_postal_code_for_point(latitude, longitude, postal_code_polygons_mongo)\n",
    "    print(f\"The postal code for the point ({latitude}, {longitude}) is: {postal_code}\")\n",
    "\n",
    "    # Close MongoDB connection when done\n",
    "    mongo_client.close()\n"
   ]
  }
 ],
 "metadata": {
  "kernelspec": {
   "display_name": "Python 3",
   "language": "python",
   "name": "python3"
  },
  "language_info": {
   "codemirror_mode": {
    "name": "ipython",
    "version": 3
   },
   "file_extension": ".py",
   "mimetype": "text/x-python",
   "name": "python",
   "nbconvert_exporter": "python",
   "pygments_lexer": "ipython3",
   "version": "3.12.1"
  }
 },
 "nbformat": 4,
 "nbformat_minor": 2
}
