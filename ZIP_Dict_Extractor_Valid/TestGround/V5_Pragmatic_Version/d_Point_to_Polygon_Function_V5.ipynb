{
 "cells": [
  {
   "cell_type": "code",
   "execution_count": 1,
   "metadata": {},
   "outputs": [],
   "source": [
    "from shapely.geometry import Point\n",
    "\n",
    "def get_postal_code_for_point(latitude, longitude, postal_code_polygons):\n",
    "    \"\"\"\n",
    "    Returns the postal code for a point specified by latitude and longitude.\n",
    "    \"\"\"\n",
    "    # Create a Point object for the specified latitude and longitude\n",
    "    point = Point(longitude, latitude)\n",
    "    \n",
    "    # Check each postal code polygon to see if it contains the point\n",
    "    for postal_code, polygon in postal_code_polygons.items():\n",
    "        if polygon.contains(point):\n",
    "            # If the polygon contains the point, return its postal code\n",
    "            return postal_code\n",
    "    \n",
    "    # If no polygon contains the point, return None\n",
    "    return None\n"
   ]
  },
  {
   "cell_type": "code",
   "execution_count": 2,
   "metadata": {},
   "outputs": [
    {
     "ename": "FileNotFoundError",
     "evalue": "[Errno 2] No such file or directory: 'C:\\\\Users\\\\hamud\\\\Documents\\\\Retoflow\\\\Project_Filter\\\\Retoflow_Filter\\\\Check_Out_Leon\\\\Germany_geojson_data.geojson'",
     "output_type": "error",
     "traceback": [
      "\u001b[1;31m---------------------------------------------------------------------------\u001b[0m",
      "\u001b[1;31mFileNotFoundError\u001b[0m                         Traceback (most recent call last)",
      "Cell \u001b[1;32mIn[2], line 7\u001b[0m\n\u001b[0;32m      4\u001b[0m saved_file_path \u001b[38;5;241m=\u001b[39m \u001b[38;5;124mr\u001b[39m\u001b[38;5;124m'\u001b[39m\u001b[38;5;124mC:\u001b[39m\u001b[38;5;124m\\\u001b[39m\u001b[38;5;124mUsers\u001b[39m\u001b[38;5;124m\\\u001b[39m\u001b[38;5;124mhamud\u001b[39m\u001b[38;5;124m\\\u001b[39m\u001b[38;5;124mDocuments\u001b[39m\u001b[38;5;124m\\\u001b[39m\u001b[38;5;124mRetoflow\u001b[39m\u001b[38;5;124m\\\u001b[39m\u001b[38;5;124mProject_Filter\u001b[39m\u001b[38;5;124m\\\u001b[39m\u001b[38;5;124mRetoflow_Filter\u001b[39m\u001b[38;5;124m\\\u001b[39m\u001b[38;5;124mCheck_Out_Leon\u001b[39m\u001b[38;5;124m\\\u001b[39m\u001b[38;5;124mGermany_geojson_data.geojson\u001b[39m\u001b[38;5;124m'\u001b[39m\n\u001b[0;32m      6\u001b[0m \u001b[38;5;66;03m# Load the GeoJSON data from the file\u001b[39;00m\n\u001b[1;32m----> 7\u001b[0m \u001b[38;5;28;01mwith\u001b[39;00m \u001b[38;5;28;43mopen\u001b[39;49m\u001b[43m(\u001b[49m\u001b[43msaved_file_path\u001b[49m\u001b[43m,\u001b[49m\u001b[43m \u001b[49m\u001b[38;5;124;43m'\u001b[39;49m\u001b[38;5;124;43mr\u001b[39;49m\u001b[38;5;124;43m'\u001b[39;49m\u001b[43m)\u001b[49m \u001b[38;5;28;01mas\u001b[39;00m file:\n\u001b[0;32m      8\u001b[0m     geojson_data \u001b[38;5;241m=\u001b[39m json\u001b[38;5;241m.\u001b[39mload(file)\n\u001b[0;32m     10\u001b[0m \u001b[38;5;66;03m# Convert the GeoJSON data to a dictionary mapping postal codes to polygons\u001b[39;00m\n",
      "File \u001b[1;32m~\\AppData\\Roaming\\Python\\Python312\\site-packages\\IPython\\core\\interactiveshell.py:310\u001b[0m, in \u001b[0;36m_modified_open\u001b[1;34m(file, *args, **kwargs)\u001b[0m\n\u001b[0;32m    303\u001b[0m \u001b[38;5;28;01mif\u001b[39;00m file \u001b[38;5;129;01min\u001b[39;00m {\u001b[38;5;241m0\u001b[39m, \u001b[38;5;241m1\u001b[39m, \u001b[38;5;241m2\u001b[39m}:\n\u001b[0;32m    304\u001b[0m     \u001b[38;5;28;01mraise\u001b[39;00m \u001b[38;5;167;01mValueError\u001b[39;00m(\n\u001b[0;32m    305\u001b[0m         \u001b[38;5;124mf\u001b[39m\u001b[38;5;124m\"\u001b[39m\u001b[38;5;124mIPython won\u001b[39m\u001b[38;5;124m'\u001b[39m\u001b[38;5;124mt let you open fd=\u001b[39m\u001b[38;5;132;01m{\u001b[39;00mfile\u001b[38;5;132;01m}\u001b[39;00m\u001b[38;5;124m by default \u001b[39m\u001b[38;5;124m\"\u001b[39m\n\u001b[0;32m    306\u001b[0m         \u001b[38;5;124m\"\u001b[39m\u001b[38;5;124mas it is likely to crash IPython. If you know what you are doing, \u001b[39m\u001b[38;5;124m\"\u001b[39m\n\u001b[0;32m    307\u001b[0m         \u001b[38;5;124m\"\u001b[39m\u001b[38;5;124myou can use builtins\u001b[39m\u001b[38;5;124m'\u001b[39m\u001b[38;5;124m open.\u001b[39m\u001b[38;5;124m\"\u001b[39m\n\u001b[0;32m    308\u001b[0m     )\n\u001b[1;32m--> 310\u001b[0m \u001b[38;5;28;01mreturn\u001b[39;00m \u001b[43mio_open\u001b[49m\u001b[43m(\u001b[49m\u001b[43mfile\u001b[49m\u001b[43m,\u001b[49m\u001b[43m \u001b[49m\u001b[38;5;241;43m*\u001b[39;49m\u001b[43margs\u001b[49m\u001b[43m,\u001b[49m\u001b[43m \u001b[49m\u001b[38;5;241;43m*\u001b[39;49m\u001b[38;5;241;43m*\u001b[39;49m\u001b[43mkwargs\u001b[49m\u001b[43m)\u001b[49m\n",
      "\u001b[1;31mFileNotFoundError\u001b[0m: [Errno 2] No such file or directory: 'C:\\\\Users\\\\hamud\\\\Documents\\\\Retoflow\\\\Project_Filter\\\\Retoflow_Filter\\\\Check_Out_Leon\\\\Germany_geojson_data.geojson'"
     ]
    }
   ],
   "source": [
    "import json\n",
    "from shapely.geometry import shape\n",
    "\n",
    "saved_file_path = r'C:\\Users\\hamud\\Documents\\Retoflow\\Project_Filter\\Retoflow_Filter\\Check_Out_Leon\\Germany_geojson_data.geojson'\n",
    "\n",
    "# Load the GeoJSON data from the file\n",
    "with open(saved_file_path, 'r') as file:\n",
    "    geojson_data = json.load(file)\n",
    "\n",
    "# Convert the GeoJSON data to a dictionary mapping postal codes to polygons\n",
    "postal_code_polygons = {feature['properties']['postal_code']: shape(feature['geometry']) for feature in geojson_data['features']}\n",
    "\n",
    "# Now you can use this dictionary with the get_postal_code_for_point function\n",
    "latitude = 51.316669\n",
    "longitude = 9.500000\n",
    "postal_code = get_postal_code_for_point(latitude, longitude, postal_code_polygons)\n",
    "print(f\"The postal code for the point ({latitude}, {longitude}) is: {postal_code}\")\n",
    "\n"
   ]
  },
  {
   "cell_type": "code",
   "execution_count": 2,
   "metadata": {},
   "outputs": [
    {
     "name": "stdout",
     "output_type": "stream",
     "text": [
      "The postal code for the point (51.316669, 9.5) is: 34117\n"
     ]
    }
   ],
   "source": [
    "from shapely.geometry import Point\n",
    "from pymongo import MongoClient\n",
    "from shapely.geometry import Point, Polygon\n",
    "\n",
    "\n",
    "def connect_to_mongodb(database_name, collection_name):\n",
    "    \"\"\"\n",
    "    Connects to MongoDB and returns the MongoDB client and collection.\n",
    "    \"\"\"\n",
    "    client = MongoClient('localhost', 27017)\n",
    "    db = client[database_name]\n",
    "    collection = db[collection_name]\n",
    "    return client, collection\n",
    "\n",
    "def retrieve_data_from_mongodb(collection):\n",
    "    \"\"\"\n",
    "    Retrieves GeoJSON data from MongoDB collection.\n",
    "    \"\"\"\n",
    "    cursor = collection.find()\n",
    "    geojson_data = {\"type\": \"FeatureCollection\", \"features\": []}\n",
    "\n",
    "    for document in cursor:\n",
    "        geojson_data[\"features\"].append(document)\n",
    "\n",
    "    return geojson_data\n",
    "\n",
    "def coordinates_to_polygon(coordinates):\n",
    "    \"\"\"\n",
    "    Converts coordinates to a Shapely Polygon.\n",
    "    \"\"\"\n",
    "    return Polygon(coordinates)\n",
    "\n",
    "def get_postal_code_for_point(latitude, longitude, postal_code_polygons):\n",
    "    \"\"\"\n",
    "    Returns the postal code for a point specified by latitude and longitude.\n",
    "    \"\"\"\n",
    "    # Create a Point object for the specified latitude and longitude\n",
    "    point = Point(longitude, latitude)\n",
    "    \n",
    "    # Check each postal code polygon to see if it contains the point\n",
    "    for postal_code, polygon in postal_code_polygons.items():\n",
    "        if polygon.contains(point):\n",
    "            # If the polygon contains the point, return its postal code\n",
    "            return postal_code\n",
    "    \n",
    "    # If no polygon contains the point, return None\n",
    "    return None\n",
    "\n",
    "# Example usage\n",
    "if __name__ == \"__main__\":\n",
    "    # MongoDB configuration\n",
    "    database_name = \"ZIP_Poly_Ger_Test\"\n",
    "    collection_name = \"ZIP_Poly_Ger_Collection_Test\"\n",
    "\n",
    "    # Connect to MongoDB\n",
    "    mongo_client, mongo_collection = connect_to_mongodb(database_name, collection_name)\n",
    "\n",
    "    # Retrieve GeoJSON data from MongoDB\n",
    "    geojson_data_from_mongo = retrieve_data_from_mongodb(mongo_collection)\n",
    "\n",
    "    # Load GeoJSON data from MongoDB for comparison\n",
    "    postal_code_polygons_mongo = {document.get('postal_code'): coordinates_to_polygon(document.get('geometry')['coordinates'][0]) for document in geojson_data_from_mongo['features']}\n",
    "\n",
    "    # Test the get_postal_code_for_point function\n",
    "    latitude = 51.316669\n",
    "    longitude = 9.500000\n",
    "    postal_code = get_postal_code_for_point(latitude, longitude, postal_code_polygons_mongo)\n",
    "    print(f\"The postal code for the point ({latitude}, {longitude}) is: {postal_code}\")\n",
    "\n",
    "    # Close MongoDB connection when done\n",
    "    mongo_client.close()\n"
   ]
  }
 ],
 "metadata": {
  "kernelspec": {
   "display_name": "Python 3",
   "language": "python",
   "name": "python3"
  },
  "language_info": {
   "codemirror_mode": {
    "name": "ipython",
    "version": 3
   },
   "file_extension": ".py",
   "mimetype": "text/x-python",
   "name": "python",
   "nbconvert_exporter": "python",
   "pygments_lexer": "ipython3",
   "version": "3.12.1"
  }
 },
 "nbformat": 4,
 "nbformat_minor": 2
}
