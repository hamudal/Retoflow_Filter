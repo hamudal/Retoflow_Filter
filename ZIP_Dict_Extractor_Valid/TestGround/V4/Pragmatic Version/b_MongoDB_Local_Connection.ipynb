{
 "cells": [
  {
   "cell_type": "markdown",
   "metadata": {},
   "source": [
    "MongoDB Local Connector: Splittet große GeoJson Data in mehrere Insertions in MongoDB"
   ]
  },
  {
   "cell_type": "code",
   "execution_count": 1,
   "metadata": {},
   "outputs": [
    {
     "name": "stdout",
     "output_type": "stream",
     "text": [
      "Connected to local MongoDB\n",
      "Collection 'ZIP_Polygon_Local_Ger_Test' created or accessed.\n",
      "Inserted 1000 features into local MongoDB collection 'ZIP_Polygon_Local_Ger_Test'.\n",
      "Inserted 1000 features into local MongoDB collection 'ZIP_Polygon_Local_Ger_Test'.\n",
      "Inserted 1000 features into local MongoDB collection 'ZIP_Polygon_Local_Ger_Test'.\n",
      "Inserted 1000 features into local MongoDB collection 'ZIP_Polygon_Local_Ger_Test'.\n",
      "Inserted 1000 features into local MongoDB collection 'ZIP_Polygon_Local_Ger_Test'.\n",
      "Inserted 1000 features into local MongoDB collection 'ZIP_Polygon_Local_Ger_Test'.\n",
      "Inserted 1000 features into local MongoDB collection 'ZIP_Polygon_Local_Ger_Test'.\n",
      "Inserted 1000 features into local MongoDB collection 'ZIP_Polygon_Local_Ger_Test'.\n",
      "Inserted 264 features into local MongoDB collection 'ZIP_Polygon_Local_Ger_Test'.\n"
     ]
    }
   ],
   "source": [
    "from pymongo import MongoClient\n",
    "import json\n",
    "\n",
    "def connect_to_local_mongodb():\n",
    "    \"\"\"\n",
    "    Establishes a connection to a local MongoDB instance and returns the client and collection objects.\n",
    "    \"\"\"\n",
    "    # Connect to the local MongoDB instance (assuming it's running on the default port 27017)\n",
    "    client = MongoClient('localhost', 27017)\n",
    "\n",
    "    # Access the specified MongoDB database\n",
    "    db = client['ZIP_Polygon_Ger_Test']  # Replace 'your_local_database_name' with your desired local database name\n",
    "\n",
    "    print(\"Connected to local MongoDB\")\n",
    "\n",
    "    # Specify the MongoDB collection name\n",
    "    collection_name = 'ZIP_Polygon_Local_Ger_Test'\n",
    "\n",
    "    # Create or access the 'ZIP_Polygon' collection\n",
    "    zip_polygon_collection = db[collection_name]\n",
    "    print(f\"Collection '{collection_name}' created or accessed.\")\n",
    "\n",
    "    return client, zip_polygon_collection\n",
    "\n",
    "def insert_geojson_data_into_local_mongodb(collection, geojson_file_path, chunk_size=1000):\n",
    "    \"\"\"\n",
    "    Inserts GeoJSON data into the specified local MongoDB collection in chunks.\n",
    "    \"\"\"\n",
    "    with open(geojson_file_path, 'r') as file:\n",
    "        # Load GeoJSON data from the file\n",
    "        geojson_data = json.load(file)\n",
    "\n",
    "    # Split the GeoJSON features into chunks\n",
    "    features = geojson_data['features']\n",
    "    for i in range(0, len(features), chunk_size):\n",
    "        chunk = features[i:i+chunk_size]\n",
    "        # Insert the chunk into the specified collection\n",
    "        collection.insert_many(chunk)\n",
    "        print(f\"Inserted {len(chunk)} features into local MongoDB collection '{collection.name}'.\")\n",
    "\n",
    "# Example usage of the function with a chunk size of 1000 features\n",
    "mongo_client, zip_polygon_collection = connect_to_local_mongodb()\n",
    "geojson_file_path = 'Germany_postal_code_polygons.json'  # Update the file path accordingly\n",
    "insert_geojson_data_into_local_mongodb(zip_polygon_collection, geojson_file_path, chunk_size=1000)\n",
    "\n",
    "# Close the local MongoDB connection when done\n",
    "mongo_client.close()\n"
   ]
  },
  {
   "cell_type": "code",
   "execution_count": 11,
   "metadata": {},
   "outputs": [
    {
     "ename": "InsufficientResponseError",
     "evalue": "Nominatim geocoder returned 0 results for query ''",
     "output_type": "error",
     "traceback": [
      "\u001b[1;31m---------------------------------------------------------------------------\u001b[0m",
      "\u001b[1;31mInsufficientResponseError\u001b[0m                 Traceback (most recent call last)",
      "Cell \u001b[1;32mIn[11], line 35\u001b[0m\n\u001b[0;32m     29\u001b[0m         \u001b[38;5;28mprint\u001b[39m(\u001b[38;5;124mf\u001b[39m\u001b[38;5;124m\"\u001b[39m\u001b[38;5;124mInserted \u001b[39m\u001b[38;5;132;01m{\u001b[39;00m\u001b[38;5;28mlen\u001b[39m(chunk)\u001b[38;5;132;01m}\u001b[39;00m\u001b[38;5;124m documents into MongoDB collection \u001b[39m\u001b[38;5;124m'\u001b[39m\u001b[38;5;132;01m{\u001b[39;00mcollection\u001b[38;5;241m.\u001b[39mname\u001b[38;5;132;01m}\u001b[39;00m\u001b[38;5;124m'\u001b[39m\u001b[38;5;124m.\u001b[39m\u001b[38;5;124m\"\u001b[39m)\n\u001b[0;32m     31\u001b[0m \u001b[38;5;66;03m# User input for the city or country name\u001b[39;00m\n\u001b[0;32m     32\u001b[0m \u001b[38;5;66;03m#place_input = input(\"Geben Sie den Stadtnamen oder Ländernamen ein: \")\u001b[39;00m\n\u001b[0;32m     33\u001b[0m \n\u001b[0;32m     34\u001b[0m \u001b[38;5;66;03m# Fetch postal code polygons using OSMnx\u001b[39;00m\n\u001b[1;32m---> 35\u001b[0m place_postal_code_polygons \u001b[38;5;241m=\u001b[39m \u001b[43mox\u001b[49m\u001b[38;5;241;43m.\u001b[39;49m\u001b[43mfeatures_from_place\u001b[49m\u001b[43m(\u001b[49m\u001b[43mplace_input\u001b[49m\u001b[43m,\u001b[49m\u001b[43m \u001b[49m\u001b[43mtags\u001b[49m\u001b[38;5;241;43m=\u001b[39;49m\u001b[43m{\u001b[49m\u001b[38;5;124;43m\"\u001b[39;49m\u001b[38;5;124;43mboundary\u001b[39;49m\u001b[38;5;124;43m\"\u001b[39;49m\u001b[43m:\u001b[49m\u001b[43m \u001b[49m\u001b[38;5;124;43m\"\u001b[39;49m\u001b[38;5;124;43mpostal_code\u001b[39;49m\u001b[38;5;124;43m\"\u001b[39;49m\u001b[43m}\u001b[49m\u001b[43m)\u001b[49m\n\u001b[0;32m     36\u001b[0m df \u001b[38;5;241m=\u001b[39m pd\u001b[38;5;241m.\u001b[39mDataFrame(place_postal_code_polygons)\u001b[38;5;241m.\u001b[39mdropna(subset\u001b[38;5;241m=\u001b[39m[\u001b[38;5;124m'\u001b[39m\u001b[38;5;124mpostal_code\u001b[39m\u001b[38;5;124m'\u001b[39m, \u001b[38;5;124m'\u001b[39m\u001b[38;5;124mgeometry\u001b[39m\u001b[38;5;124m'\u001b[39m])\n\u001b[0;32m     38\u001b[0m \u001b[38;5;66;03m# Create GeoJSON features from the input data\u001b[39;00m\n",
      "File \u001b[1;32m~\\AppData\\Roaming\\Python\\Python312\\site-packages\\osmnx\\features.py:270\u001b[0m, in \u001b[0;36mfeatures_from_place\u001b[1;34m(query, tags, which_result, buffer_dist)\u001b[0m\n\u001b[0;32m    266\u001b[0m \u001b[38;5;66;03m# create a GeoDataFrame with the spatial boundaries of the place(s)\u001b[39;00m\n\u001b[0;32m    267\u001b[0m \u001b[38;5;28;01mif\u001b[39;00m \u001b[38;5;28misinstance\u001b[39m(query, (\u001b[38;5;28mstr\u001b[39m, \u001b[38;5;28mdict\u001b[39m)):\n\u001b[0;32m    268\u001b[0m     \u001b[38;5;66;03m# if it is a string (place name) or dict (structured place query),\u001b[39;00m\n\u001b[0;32m    269\u001b[0m     \u001b[38;5;66;03m# then it is a single place\u001b[39;00m\n\u001b[1;32m--> 270\u001b[0m     gdf_place \u001b[38;5;241m=\u001b[39m \u001b[43mgeocoder\u001b[49m\u001b[38;5;241;43m.\u001b[39;49m\u001b[43mgeocode_to_gdf\u001b[49m\u001b[43m(\u001b[49m\n\u001b[0;32m    271\u001b[0m \u001b[43m        \u001b[49m\u001b[43mquery\u001b[49m\u001b[43m,\u001b[49m\u001b[43m \u001b[49m\u001b[43mwhich_result\u001b[49m\u001b[38;5;241;43m=\u001b[39;49m\u001b[43mwhich_result\u001b[49m\u001b[43m,\u001b[49m\u001b[43m \u001b[49m\u001b[43mbuffer_dist\u001b[49m\u001b[38;5;241;43m=\u001b[39;49m\u001b[43mbuffer_dist\u001b[49m\n\u001b[0;32m    272\u001b[0m \u001b[43m    \u001b[49m\u001b[43m)\u001b[49m\n\u001b[0;32m    273\u001b[0m \u001b[38;5;28;01melif\u001b[39;00m \u001b[38;5;28misinstance\u001b[39m(query, \u001b[38;5;28mlist\u001b[39m):\n\u001b[0;32m    274\u001b[0m     \u001b[38;5;66;03m# if it is a list, it contains multiple places to get\u001b[39;00m\n\u001b[0;32m    275\u001b[0m     gdf_place \u001b[38;5;241m=\u001b[39m geocoder\u001b[38;5;241m.\u001b[39mgeocode_to_gdf(query, buffer_dist\u001b[38;5;241m=\u001b[39mbuffer_dist)\n",
      "File \u001b[1;32m~\\AppData\\Roaming\\Python\\Python312\\site-packages\\osmnx\\geocoder.py:137\u001b[0m, in \u001b[0;36mgeocode_to_gdf\u001b[1;34m(query, which_result, by_osmid, buffer_dist)\u001b[0m\n\u001b[0;32m    135\u001b[0m gdf \u001b[38;5;241m=\u001b[39m gpd\u001b[38;5;241m.\u001b[39mGeoDataFrame()\n\u001b[0;32m    136\u001b[0m \u001b[38;5;28;01mfor\u001b[39;00m q, wr \u001b[38;5;129;01min\u001b[39;00m \u001b[38;5;28mzip\u001b[39m(query, which_result):\n\u001b[1;32m--> 137\u001b[0m     gdf \u001b[38;5;241m=\u001b[39m pd\u001b[38;5;241m.\u001b[39mconcat([gdf, \u001b[43m_geocode_query_to_gdf\u001b[49m\u001b[43m(\u001b[49m\u001b[43mq\u001b[49m\u001b[43m,\u001b[49m\u001b[43m \u001b[49m\u001b[43mwr\u001b[49m\u001b[43m,\u001b[49m\u001b[43m \u001b[49m\u001b[43mby_osmid\u001b[49m\u001b[43m)\u001b[49m])\n\u001b[0;32m    139\u001b[0m \u001b[38;5;66;03m# reset GeoDataFrame index and set its CRS\u001b[39;00m\n\u001b[0;32m    140\u001b[0m gdf \u001b[38;5;241m=\u001b[39m gdf\u001b[38;5;241m.\u001b[39mreset_index(drop\u001b[38;5;241m=\u001b[39m\u001b[38;5;28;01mTrue\u001b[39;00m)\n",
      "File \u001b[1;32m~\\AppData\\Roaming\\Python\\Python312\\site-packages\\osmnx\\geocoder.py:184\u001b[0m, in \u001b[0;36m_geocode_query_to_gdf\u001b[1;34m(query, which_result, by_osmid)\u001b[0m\n\u001b[0;32m    181\u001b[0m \u001b[38;5;28;01mif\u001b[39;00m \u001b[38;5;129;01mnot\u001b[39;00m results:\n\u001b[0;32m    182\u001b[0m     \u001b[38;5;66;03m# if no results were returned, raise error\u001b[39;00m\n\u001b[0;32m    183\u001b[0m     msg \u001b[38;5;241m=\u001b[39m \u001b[38;5;124mf\u001b[39m\u001b[38;5;124m\"\u001b[39m\u001b[38;5;124mNominatim geocoder returned 0 results for query \u001b[39m\u001b[38;5;132;01m{\u001b[39;00mquery\u001b[38;5;132;01m!r}\u001b[39;00m\u001b[38;5;124m\"\u001b[39m\n\u001b[1;32m--> 184\u001b[0m     \u001b[38;5;28;01mraise\u001b[39;00m InsufficientResponseError(msg)\n\u001b[0;32m    186\u001b[0m \u001b[38;5;28;01mif\u001b[39;00m by_osmid:\n\u001b[0;32m    187\u001b[0m     \u001b[38;5;66;03m# if searching by OSM ID, always take the first (ie, only) result\u001b[39;00m\n\u001b[0;32m    188\u001b[0m     result \u001b[38;5;241m=\u001b[39m results[\u001b[38;5;241m0\u001b[39m]\n",
      "\u001b[1;31mInsufficientResponseError\u001b[0m: Nominatim geocoder returned 0 results for query ''"
     ]
    }
   ],
   "source": [
    "from pymongo import MongoClient\n",
    "import json\n",
    "import os\n",
    "import geojson\n",
    "import osmnx as ox\n",
    "import pandas as pd\n",
    "\n",
    "def connect_to_local_mongodb(database_name, collection_name):\n",
    "    \"\"\"\n",
    "    Establishes a connection to a local MongoDB instance and returns the client and collection objects.\n",
    "    \"\"\"\n",
    "    client = MongoClient('localhost', 27017)\n",
    "    db = client[database_name]\n",
    "    target_collection = db[collection_name]\n",
    "    return client, target_collection\n",
    "\n",
    "def insert_geojson_data_into_mongodb(collection, geojson_data, chunk_size=1000):\n",
    "    \"\"\"\n",
    "    Inserts GeoJSON data into the specified MongoDB collection in chunks.\n",
    "    \"\"\"\n",
    "    # Transform the data into a list of dictionaries\n",
    "    mongo_data = [{'postal_code': feature['properties'].get('postal_code', None), 'polygon': feature['geometry']} for feature in geojson_data['features']]\n",
    "\n",
    "    # Split the GeoJSON features into chunks\n",
    "    for i in range(0, len(mongo_data), chunk_size):\n",
    "        chunk = mongo_data[i:i + chunk_size]\n",
    "        # Insert the chunk into the specified collection\n",
    "        collection.insert_many(chunk)\n",
    "        print(f\"Inserted {len(chunk)} documents into MongoDB collection '{collection.name}'.\")\n",
    "\n",
    "# User input for the city or country name\n",
    "#place_input = input(\"Geben Sie den Stadtnamen oder Ländernamen ein: \")\n",
    "\n",
    "# Fetch postal code polygons using OSMnx\n",
    "place_postal_code_polygons = ox.features_from_place(place_input, tags={\"boundary\": \"postal_code\"})\n",
    "df = pd.DataFrame(place_postal_code_polygons).dropna(subset=['postal_code', 'geometry'])\n",
    "\n",
    "# Create GeoJSON features from the input data\n",
    "geojson_features = [geojson.Feature(geometry=feature['geometry'], properties={'postal_code': feature['postal_code']}) for _, feature in df.iterrows()]\n",
    "\n",
    "# Create a GeoJSON FeatureCollection\n",
    "geojson_data = geojson.FeatureCollection(geojson_features)\n",
    "\n",
    "# Example call for user input\n",
    "file_name = \"germany_geojson_data.geojson\"\n",
    "\n",
    "# Determine the script's directory\n",
    "script_dir = os.path.dirname(os.path.abspath(__file__)) if \"__file__\" in locals() else os.getcwd()\n",
    "\n",
    "# Create the full path for the GeoJSON file\n",
    "geojson_file_path = os.path.join(script_dir, file_name)\n",
    "\n",
    "# Example usage of the function with a chunk size of 1000 features\n",
    "database_name = 'ZIP_Polygon_Ger_Test'  # Update the database name accordingly\n",
    "collection_name = 'ZIP_Polygon_Local_Ger_Test_'  # Using place_input for collection name\n",
    "mongo_client, zip_polygon_collection = connect_to_local_mongodb(database_name, collection_name)\n",
    "insert_geojson_data_into_mongodb(zip_polygon_collection, geojson_data, chunk_size=1000)\n",
    "\n",
    "# Close the MongoDB connection when done\n",
    "mongo_client.close()\n"
   ]
  },
  {
   "cell_type": "code",
   "execution_count": null,
   "metadata": {},
   "outputs": [],
   "source": []
  }
 ],
 "metadata": {
  "kernelspec": {
   "display_name": "Python 3",
   "language": "python",
   "name": "python3"
  },
  "language_info": {
   "codemirror_mode": {
    "name": "ipython",
    "version": 3
   },
   "file_extension": ".py",
   "mimetype": "text/x-python",
   "name": "python",
   "nbconvert_exporter": "python",
   "pygments_lexer": "ipython3",
   "version": "3.12.1"
  }
 },
 "nbformat": 4,
 "nbformat_minor": 2
}
