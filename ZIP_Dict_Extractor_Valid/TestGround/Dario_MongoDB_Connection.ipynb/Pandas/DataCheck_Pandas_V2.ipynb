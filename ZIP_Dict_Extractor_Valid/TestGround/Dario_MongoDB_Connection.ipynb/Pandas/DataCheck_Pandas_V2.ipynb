{
 "cells": [
  {
   "cell_type": "markdown",
   "metadata": {},
   "source": [
    "Columns are Default: element, type, text, name\n",
    "Filtered by: Isolated Areas , Leistung != 0"
   ]
  },
  {
   "cell_type": "code",
   "execution_count": 30,
   "metadata": {},
   "outputs": [
    {
     "name": "stdout",
     "output_type": "stream",
     "text": [
      "   element_index element level     type               text           name  \\\n",
      "0              0    area    lv  warning  Isoliertes Gebiet  isolated area   \n",
      "1              1    area    lv  warning  Isoliertes Gebiet  isolated area   \n",
      "2              2    area    lv  warning  Isoliertes Gebiet  isolated area   \n",
      "3              7    area    lv  warning  Isoliertes Gebiet  isolated area   \n",
      "4             14    area    lv  warning  Isoliertes Gebiet  isolated area   \n",
      "\n",
      "   Leistung  \n",
      "0    0.0536  \n",
      "1    0.0356  \n",
      "2    0.0128  \n",
      "3    0.0328  \n",
      "4    0.1965  \n"
     ]
    }
   ],
   "source": [
    "import pandas as pd\n",
    "import re\n",
    "\n",
    "# Constants\n",
    "DEFAULT_VALUES = {\n",
    "    'element': 'area',\n",
    "    'type': 'warning',\n",
    "    'text': 'Isoliertes Gebiet',\n",
    "    'name': 'isolated area'\n",
    "}\n",
    "\n",
    "def load_data(file_path, sheet_name='Sheet1'):\n",
    "    return pd.read_excel(file_path, sheet_name=sheet_name)\n",
    "\n",
    "def filter_isolated_areas(df):\n",
    "    return df.loc[df['name'] == DEFAULT_VALUES['name']]\n",
    "\n",
    "def extract_leistung(load_column):\n",
    "    return load_column.str.extract(r'p_mw\\': (\\d+\\.\\d+)', expand=False).astype(float).round(4)\n",
    "\n",
    "def fill_template(df, data, default_values):\n",
    "    df = pd.concat([df, pd.DataFrame(data)], ignore_index=True)\n",
    "    df = df.fillna(default_values)\n",
    "    return df\n",
    "\n",
    "def reorder_columns(df):\n",
    "    return df[['element_index'] + ['element', 'level'] + [col for col in df.columns if col not in ['element', 'element_index', 'level']]]\n",
    "\n",
    "# Load data from Excel file\n",
    "net_areas_file = load_data('net_areas.xlsx')\n",
    "\n",
    "# Filter isolated areas without zero load\n",
    "isolated_areas = filter_isolated_areas(net_areas_file)\n",
    "isolated_areas_without_zero_load = isolated_areas[isolated_areas['load'].notnull()].copy()  # Explicitly create a copy\n",
    "\n",
    "# Extract 'Leistung' values using vectorized regex\n",
    "isolated_areas_without_zero_load['Leistung'] = extract_leistung(isolated_areas_without_zero_load['load'])\n",
    "\n",
    "# Prepare data to add to the template DataFrame\n",
    "data_to_add = {\n",
    "    'element': DEFAULT_VALUES['element'],\n",
    "    'type': DEFAULT_VALUES['type'],\n",
    "    'text': DEFAULT_VALUES['text'],\n",
    "    'name': DEFAULT_VALUES['name'],\n",
    "    'element_index': isolated_areas_without_zero_load.index,\n",
    "    'Leistung': isolated_areas_without_zero_load['Leistung'].tolist(),\n",
    "    'level': isolated_areas_without_zero_load['level'].tolist(),  # Include 'level' values\n",
    "}\n",
    "\n",
    "# Fill the template DataFrame\n",
    "template_df = fill_template(pd.DataFrame(), data_to_add, DEFAULT_VALUES)\n",
    "\n",
    "# Filter 'Leistung' column to remove rows with NaN values and where 'Leistung' is 0\n",
    "template_df = template_df[(template_df['Leistung'].notna()) & (template_df['Leistung'] != 0)]\n",
    "\n",
    "# Reset the index\n",
    "template_df = template_df.reset_index(drop=True)\n",
    "\n",
    "# Reorder columns with 'element_index' as the second column\n",
    "template_df = reorder_columns(template_df)\n",
    "\n",
    "# Display the updated DataFrame\n",
    "print(template_df.head())\n"
   ]
  },
  {
   "cell_type": "code",
   "execution_count": 31,
   "metadata": {},
   "outputs": [
    {
     "data": {
      "text/html": [
       "<div>\n",
       "<style scoped>\n",
       "    .dataframe tbody tr th:only-of-type {\n",
       "        vertical-align: middle;\n",
       "    }\n",
       "\n",
       "    .dataframe tbody tr th {\n",
       "        vertical-align: top;\n",
       "    }\n",
       "\n",
       "    .dataframe thead th {\n",
       "        text-align: right;\n",
       "    }\n",
       "</style>\n",
       "<table border=\"1\" class=\"dataframe\">\n",
       "  <thead>\n",
       "    <tr style=\"text-align: right;\">\n",
       "      <th></th>\n",
       "      <th>element_index</th>\n",
       "      <th>Leistung</th>\n",
       "    </tr>\n",
       "  </thead>\n",
       "  <tbody>\n",
       "    <tr>\n",
       "      <th>count</th>\n",
       "      <td>483.000000</td>\n",
       "      <td>483.000000</td>\n",
       "    </tr>\n",
       "    <tr>\n",
       "      <th>mean</th>\n",
       "      <td>4723.151139</td>\n",
       "      <td>0.044849</td>\n",
       "    </tr>\n",
       "    <tr>\n",
       "      <th>std</th>\n",
       "      <td>1058.891021</td>\n",
       "      <td>0.102392</td>\n",
       "    </tr>\n",
       "    <tr>\n",
       "      <th>min</th>\n",
       "      <td>0.000000</td>\n",
       "      <td>0.000200</td>\n",
       "    </tr>\n",
       "    <tr>\n",
       "      <th>25%</th>\n",
       "      <td>4547.500000</td>\n",
       "      <td>0.005400</td>\n",
       "    </tr>\n",
       "    <tr>\n",
       "      <th>50%</th>\n",
       "      <td>4726.000000</td>\n",
       "      <td>0.013900</td>\n",
       "    </tr>\n",
       "    <tr>\n",
       "      <th>75%</th>\n",
       "      <td>5402.500000</td>\n",
       "      <td>0.038300</td>\n",
       "    </tr>\n",
       "    <tr>\n",
       "      <th>max</th>\n",
       "      <td>5937.000000</td>\n",
       "      <td>1.404000</td>\n",
       "    </tr>\n",
       "  </tbody>\n",
       "</table>\n",
       "</div>"
      ],
      "text/plain": [
       "       element_index    Leistung\n",
       "count     483.000000  483.000000\n",
       "mean     4723.151139    0.044849\n",
       "std      1058.891021    0.102392\n",
       "min         0.000000    0.000200\n",
       "25%      4547.500000    0.005400\n",
       "50%      4726.000000    0.013900\n",
       "75%      5402.500000    0.038300\n",
       "max      5937.000000    1.404000"
      ]
     },
     "execution_count": 31,
     "metadata": {},
     "output_type": "execute_result"
    }
   ],
   "source": [
    "template_df.describe()"
   ]
  },
  {
   "cell_type": "code",
   "execution_count": 32,
   "metadata": {},
   "outputs": [
    {
     "name": "stdout",
     "output_type": "stream",
     "text": [
      "Rows with 'lv' level:\n",
      "483\n",
      "\n",
      "Rows with 'mv' level:\n",
      "0\n",
      "\n",
      "Rows with 'hv' level:\n",
      "0\n"
     ]
    }
   ],
   "source": [
    "# Filter rows for 'lv' level\n",
    "lv_rows = template_df[template_df['level'] == 'lv']\n",
    "print(\"Rows with 'lv' level:\")\n",
    "print(len(lv_rows))\n",
    "\n",
    "# Filter rows for 'mv' level\n",
    "mv_rows = template_df[template_df['level'] == 'mv']\n",
    "print(\"\\nRows with 'mv' level:\")\n",
    "print(len(mv_rows))\n",
    "\n",
    "# Filter rows for 'hv' level\n",
    "hv_rows = template_df[template_df['level'] == 'hv']\n",
    "print(\"\\nRows with 'hv' level:\")\n",
    "print(len(hv_rows))\n"
   ]
  },
  {
   "cell_type": "code",
   "execution_count": 33,
   "metadata": {},
   "outputs": [],
   "source": [
    "template_df.to_csv('Neo_Data_Check.csv')"
   ]
  }
 ],
 "metadata": {
  "kernelspec": {
   "display_name": "Python 3",
   "language": "python",
   "name": "python3"
  },
  "language_info": {
   "codemirror_mode": {
    "name": "ipython",
    "version": 3
   },
   "file_extension": ".py",
   "mimetype": "text/x-python",
   "name": "python",
   "nbconvert_exporter": "python",
   "pygments_lexer": "ipython3",
   "version": "3.12.1"
  }
 },
 "nbformat": 4,
 "nbformat_minor": 2
}
