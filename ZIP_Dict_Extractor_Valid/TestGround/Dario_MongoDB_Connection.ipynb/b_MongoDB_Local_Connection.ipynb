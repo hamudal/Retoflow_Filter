{
 "cells": [
  {
   "cell_type": "markdown",
   "metadata": {},
   "source": [
    "MongoDB Local Connector: Splittet große GeoJson Data in mehrere Insertions in MongoDB"
   ]
  },
  {
   "cell_type": "code",
   "execution_count": 4,
   "metadata": {},
   "outputs": [
    {
     "name": "stdout",
     "output_type": "stream",
     "text": [
      "Connected to local MongoDB\n",
      "Collection 'net_bus' created or accessed.\n",
      "Inserted 35 entries into MongoDB collection 'net_bus'.\n",
      "Collection 'net_area' created or accessed.\n",
      "Inserted 3 entries into MongoDB collection 'net_area'.\n"
     ]
    }
   ],
   "source": [
    "from pymongo import MongoClient\n",
    "import json\n",
    "import os\n",
    "\n",
    "def connect_to_local_mongodb():\n",
    "    \"\"\"\n",
    "    Establishes a connection to a local MongoDB instance and returns the client and collection objects.\n",
    "    \"\"\"\n",
    "    # Connect to the local MongoDB instance (assuming it's running on the default port 27017)\n",
    "    client = MongoClient('localhost', 27017)\n",
    "\n",
    "    # Access the specified MongoDB database\n",
    "    db = client['DataCheckTestDB']  # Replace 'YourDatabaseName' with your desired local database name\n",
    "\n",
    "    print(\"Connected to local MongoDB\")\n",
    "\n",
    "    return client, db\n",
    "\n",
    "def insert_json_data_into_mongodb(db, json_file_path, chunk_size=1000):\n",
    "    \"\"\"\n",
    "    Inserts JSON data into the specified MongoDB collection in chunks.\n",
    "    Collection name is derived from the file name.\n",
    "    \"\"\"\n",
    "    # Extract collection name from the file name\n",
    "    collection_name = os.path.splitext(os.path.basename(json_file_path))[0]\n",
    "\n",
    "    # Create or access the collection\n",
    "    data_collection = db[collection_name]\n",
    "    print(f\"Collection '{collection_name}' created or accessed.\")\n",
    "\n",
    "    with open(json_file_path, 'r') as file:\n",
    "        # Load JSON data from the file\n",
    "        json_data = json.load(file)\n",
    "\n",
    "    # Split the JSON data into chunks\n",
    "    data_list = json_data  # Update this line based on the actual structure of your JSON data\n",
    "    for i in range(0, len(data_list), chunk_size):\n",
    "        chunk = data_list[i:i+chunk_size]\n",
    "        # Insert the chunk into the specified collection\n",
    "        data_collection.insert_many(chunk)\n",
    "        print(f\"Inserted {len(chunk)} entries into MongoDB collection '{collection_name}'.\")\n",
    "\n",
    "# Example usage for net_bus.json\n",
    "mongo_client, mongo_db = connect_to_local_mongodb()\n",
    "json_file_path_net_bus = 'net_bus.json'  # Update the file path accordingly\n",
    "insert_json_data_into_mongodb(mongo_db, json_file_path_net_bus, chunk_size=1000)\n",
    "\n",
    "# Example usage for net_area.json\n",
    "json_file_path_net_area = 'net_area.json'  # Update the file path accordingly\n",
    "insert_json_data_into_mongodb(mongo_db, json_file_path_net_area, chunk_size=1000)\n",
    "\n",
    "# Close the local MongoDB connection when done\n",
    "mongo_client.close()\n"
   ]
  },
  {
   "cell_type": "code",
   "execution_count": null,
   "metadata": {},
   "outputs": [],
   "source": []
  }
 ],
 "metadata": {
  "kernelspec": {
   "display_name": "Python 3",
   "language": "python",
   "name": "python3"
  },
  "language_info": {
   "codemirror_mode": {
    "name": "ipython",
    "version": 3
   },
   "file_extension": ".py",
   "mimetype": "text/x-python",
   "name": "python",
   "nbconvert_exporter": "python",
   "pygments_lexer": "ipython3",
   "version": "3.12.1"
  }
 },
 "nbformat": 4,
 "nbformat_minor": 2
}
