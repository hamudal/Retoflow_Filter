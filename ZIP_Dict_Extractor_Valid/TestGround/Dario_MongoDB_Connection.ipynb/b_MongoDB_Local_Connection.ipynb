{
 "cells": [
  {
   "cell_type": "markdown",
   "metadata": {},
   "source": [
    "MongoDB Local Connector: Splittet große GeoJson Data in mehrere Insertions in MongoDB"
   ]
  },
  {
   "cell_type": "code",
   "execution_count": 2,
   "metadata": {},
   "outputs": [
    {
     "name": "stdout",
     "output_type": "stream",
     "text": [
      "Connected to local MongoDB - Database: DataChecks_TestDB\n",
      "Collection 'DataCheck_Collection' created or accessed.\n"
     ]
    }
   ],
   "source": [
    "from pymongo import MongoClient\n",
    "\n",
    "def connect_to_local_mongodb(database_name, collection_name):\n",
    "    \"\"\"\n",
    "    Establishes a connection to a local MongoDB instance and returns the client and collection objects.\n",
    "\n",
    "    Parameters:\n",
    "    - database_name (str): The name of the MongoDB database.\n",
    "    - collection_name (str): The name of the MongoDB collection.\n",
    "\n",
    "    Returns:\n",
    "    - MongoClient: The MongoDB client object.\n",
    "    - collection: The MongoDB collection object.\n",
    "    \"\"\"\n",
    "    # Verbindung zur lokalen MongoDB-Instanz herstellen (vorausgesetzt, sie läuft auf dem Standardport 27017)\n",
    "    client = MongoClient('localhost', 27017)\n",
    "\n",
    "    # Auf die angegebene MongoDB-Datenbank zugreifen\n",
    "    db = client[database_name]\n",
    "\n",
    "    print(f\"Connected to local MongoDB - Database: {database_name}\")\n",
    "\n",
    "    # Datenbankkollektion festlegen\n",
    "    collection = db[collection_name]\n",
    "    print(f\"Collection '{collection_name}' created or accessed.\")\n",
    "\n",
    "    return client, collection\n",
    "\n",
    "\n",
    "# Beispielaufruf der Funktionen\n",
    "database_name = 'DataChecks_TestDB'\n",
    "collection_name = 'DataCheck_Collection'\n",
    "mongo_client = connect_to_local_mongodb(database_name, collection_name)\n",
    "\n",
    "# # Pfad zur GeoJSON-Datei aktualisieren\n",
    "# geojson_file_path = 'Germany_geojson_data.geojson'\n",
    "\n",
    "# # GeoJSON-Daten aus der Datei laden\n",
    "# with open(geojson_file_path, 'r') as file:\n",
    "#     geojson_data = json.load(file)\n",
    "\n",
    "# # GeoJSON-Daten in MongoDB einfügen\n",
    "# insert_geojson_data_into_mongodb(zip_polygon_collection, geojson_data)\n",
    "\n",
    "# Verbindung zur lokalen MongoDB schließen, wenn fertig\n",
    "# mongo_client.close()"
   ]
  },
  {
   "cell_type": "code",
   "execution_count": null,
   "metadata": {},
   "outputs": [],
   "source": []
  }
 ],
 "metadata": {
  "kernelspec": {
   "display_name": "Python 3",
   "language": "python",
   "name": "python3"
  },
  "language_info": {
   "codemirror_mode": {
    "name": "ipython",
    "version": 3
   },
   "file_extension": ".py",
   "mimetype": "text/x-python",
   "name": "python",
   "nbconvert_exporter": "python",
   "pygments_lexer": "ipython3",
   "version": "3.12.1"
  }
 },
 "nbformat": 4,
 "nbformat_minor": 2
}
