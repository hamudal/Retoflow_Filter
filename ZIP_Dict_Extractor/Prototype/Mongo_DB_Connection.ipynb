{
 "cells": [
  {
   "cell_type": "code",
   "execution_count": null,
   "metadata": {},
   "outputs": [],
   "source": [
    "import pymongo\n",
    "\n",
    "# Verbindung zur MongoDB herstellen\n",
    "client = pymongo.MongoClient(\"Deine_MongoDB_Connection_String\")\n",
    "\n",
    "# Wähle die Datenbank aus\n",
    "db = client[\"Deine_DB_Name\"]\n",
    "\n",
    "# Wähle die Sammlung aus (entspricht einer Tabelle in relationalen Datenbanken)\n",
    "collection = db[\"postal_codes\"]\n",
    "\n",
    "# Dictionary mit den PLZ-Daten\n",
    "postal_code_data = {\n",
    "    \"34131\": \"<Polygon1>\",\n",
    "    \"34121\": \"<Polygon2>\",\n",
    "    # Weitere PLZ und ihre Polygone hier hinzufügen\n",
    "}\n",
    "\n",
    "try:\n",
    "    # Füge Daten aus dem Dictionary in die MongoDB ein\n",
    "    for postal_code, polygon in postal_code_data.items():\n",
    "        document = {\"postal_code\": postal_code, \"polygon\": polygon}\n",
    "        collection.insert_one(document)\n",
    "\n",
    "    print(\"Daten erfolgreich in die MongoDB eingeführt.\")\n",
    "\n",
    "except Exception as e:\n",
    "    print(f\"Fehler: {e}\")\n",
    "\n",
    "finally:\n",
    "    # Schließe die Verbindung zur MongoDB\n",
    "    client.close()\n"
   ]
  },
  {
   "cell_type": "code",
   "execution_count": 1,
   "metadata": {},
   "outputs": [
    {
     "name": "stdout",
     "output_type": "stream",
     "text": [
      "Defaulting to user installation because normal site-packages is not writeable\n",
      "Collecting pymongo\n",
      "  Downloading pymongo-4.6.1-cp312-cp312-win_amd64.whl.metadata (22 kB)\n",
      "Collecting dnspython<3.0.0,>=1.16.0 (from pymongo)\n",
      "  Downloading dnspython-2.4.2-py3-none-any.whl.metadata (4.9 kB)\n",
      "Downloading pymongo-4.6.1-cp312-cp312-win_amd64.whl (472 kB)\n",
      "   ---------------------------------------- 0.0/472.8 kB ? eta -:--:--\n",
      "   -- ------------------------------------ 30.7/472.8 kB 660.6 kB/s eta 0:00:01\n",
      "   ----------------- ---------------------- 204.8/472.8 kB 2.5 MB/s eta 0:00:01\n",
      "   ---------------------------------------  471.0/472.8 kB 4.2 MB/s eta 0:00:01\n",
      "   ---------------------------------------- 472.8/472.8 kB 3.7 MB/s eta 0:00:00\n",
      "Downloading dnspython-2.4.2-py3-none-any.whl (300 kB)\n",
      "   ---------------------------------------- 0.0/300.4 kB ? eta -:--:--\n",
      "   ---------------------------------------- 300.4/300.4 kB 9.4 MB/s eta 0:00:00\n",
      "Installing collected packages: dnspython, pymongo\n",
      "Successfully installed dnspython-2.4.2 pymongo-4.6.1\n",
      "Note: you may need to restart the kernel to use updated packages.\n"
     ]
    }
   ],
   "source": [
    "pip install pymongo"
   ]
  },
  {
   "cell_type": "code",
   "execution_count": null,
   "metadata": {},
   "outputs": [],
   "source": []
  }
 ],
 "metadata": {
  "kernelspec": {
   "display_name": "Python 3",
   "language": "python",
   "name": "python3"
  },
  "language_info": {
   "codemirror_mode": {
    "name": "ipython",
    "version": 3
   },
   "file_extension": ".py",
   "mimetype": "text/x-python",
   "name": "python",
   "nbconvert_exporter": "python",
   "pygments_lexer": "ipython3",
   "version": "3.12.1"
  }
 },
 "nbformat": 4,
 "nbformat_minor": 2
}
