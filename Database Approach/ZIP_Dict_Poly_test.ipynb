{
 "cells": [
  {
   "cell_type": "code",
   "execution_count": 1,
   "metadata": {},
   "outputs": [
    {
     "name": "stderr",
     "output_type": "stream",
     "text": [
      "C:\\Users\\hamud\\AppData\\Local\\Temp\\ipykernel_14156\\562165576.py:5: UserWarning: The `geometries` module and `geometries_from_X` functions have been renamed the `features` module and `features_from_X` functions. Use these instead. The `geometries` module and function names are deprecated and will be removed in a future release.\n",
      "  zip_polygons = ox.geometries_from_place(place, tags={\"boundary\": \"postal_code\"})\n"
     ]
    },
    {
     "name": "stdout",
     "output_type": "stream",
     "text": [
      "{nan: <LINESTRING (9.489 51.324, 9.486 51.323, 9.486 51.322, 9.487 51.322, 9.482 5...>, '34123': <POLYGON ((9.489 51.292, 9.489 51.293, 9.489 51.293, 9.49 51.294, 9.49 51.29...>, '34121': <POLYGON ((9.449 51.313, 9.45 51.313, 9.478 51.312, 9.478 51.312, 9.479 51.3...>, '34233': <POLYGON ((9.485 51.378, 9.485 51.378, 9.486 51.378, 9.486 51.378, 9.486 51....>, '34125': <POLYGON ((9.503 51.321, 9.504 51.321, 9.504 51.321, 9.506 51.321, 9.507 51....>, '34128': <POLYGON ((9.369 51.349, 9.37 51.349, 9.37 51.35, 9.371 51.35, 9.371 51.35, ...>, '34131': <POLYGON ((9.351 51.307, 9.352 51.307, 9.352 51.308, 9.353 51.308, 9.354 51....>, '34132': <POLYGON ((9.362 51.293, 9.362 51.293, 9.363 51.293, 9.363 51.294, 9.364 51....>, '34119': <POLYGON ((9.446 51.315, 9.446 51.317, 9.447 51.317, 9.448 51.318, 9.449 51....>, '34130': <POLYGON ((9.409 51.326, 9.41 51.328, 9.412 51.328, 9.414 51.328, 9.42 51.32...>, '34134': <POLYGON ((9.43 51.3, 9.431 51.301, 9.433 51.301, 9.434 51.301, 9.442 51.302...>, '34117': <POLYGON ((9.476 51.321, 9.478 51.321, 9.48 51.321, 9.482 51.321, 9.487 51.3...>, '34127': <POLYGON ((9.465 51.325, 9.466 51.325, 9.467 51.327, 9.468 51.328, 9.469 51....>, '34355': <POLYGON ((9.531 51.366, 9.531 51.366, 9.531 51.366, 9.531 51.367, 9.531 51....>, '34270': <POLYGON ((9.25 51.293, 9.25 51.293, 9.25 51.293, 9.251 51.293, 9.252 51.293...>, '34225': <POLYGON ((9.327 51.258, 9.328 51.259, 9.328 51.26, 9.328 51.26, 9.328 51.26...>, '34253': <POLYGON ((9.515 51.266, 9.515 51.266, 9.515 51.266, 9.515 51.266, 9.515 51....>, '34260': <POLYGON ((9.554 51.29, 9.555 51.291, 9.556 51.291, 9.556 51.291, 9.556 51.2...>, '34292': <POLYGON ((9.352 51.36, 9.352 51.361, 9.352 51.361, 9.352 51.362, 9.352 51.3...>, '34246': <POLYGON ((9.431 51.38, 9.431 51.38, 9.432 51.38, 9.432 51.38, 9.432 51.38, ...>, '34277': <POLYGON ((9.461 51.244, 9.461 51.244, 9.461 51.244, 9.461 51.245, 9.461 51....>, '34317': <POLYGON ((9.283 51.34, 9.284 51.341, 9.284 51.341, 9.284 51.341, 9.284 51.3...>, '34266': <POLYGON ((9.531 51.318, 9.531 51.318, 9.531 51.319, 9.532 51.319, 9.532 51....>}\n"
     ]
    },
    {
     "name": "stderr",
     "output_type": "stream",
     "text": [
      "C:\\Users\\hamud\\AppData\\Roaming\\Python\\Python312\\site-packages\\jupyter_client\\session.py:200: DeprecationWarning: datetime.datetime.utcnow() is deprecated and scheduled for removal in a future version. Use timezone-aware objects to represent datetimes in UTC: datetime.datetime.now(datetime.UTC).\n",
      "  return datetime.utcnow().replace(tzinfo=utc)  # noqa\n"
     ]
    }
   ],
   "source": [
    "import osmnx as ox\n",
    "\n",
    "def get_place_zip_polygons(place):\n",
    "    # Get postal code polygons for the specified place using OSMnx\n",
    "    zip_polygons = ox.geometries_from_place(place, tags={\"boundary\": \"postal_code\"})\n",
    "\n",
    "    # Dictionary to store postal code areas and their polygons\n",
    "    zip_polygon_dict = {}\n",
    "\n",
    "    for idx, row in zip_polygons.iterrows():\n",
    "        # Extract postal code and polygon\n",
    "        zip_code = row['postal_code']\n",
    "        zip_polygon = row['geometry']\n",
    "\n",
    "        # Add the postal code and polygon to the dictionary\n",
    "        zip_polygon_dict[zip_code] = zip_polygon\n",
    "\n",
    "    return zip_polygon_dict\n",
    "\n",
    "# Example call for Berlin\n",
    "berlin_zip_polygons = get_place_zip_polygons(\"Kassel\")\n",
    "\n",
    "# Print the resulting dictionary (for testing purposes)\n",
    "print(berlin_zip_polygons)\n"
   ]
  },
  {
   "cell_type": "code",
   "execution_count": 1,
   "metadata": {},
   "outputs": [
    {
     "name": "stderr",
     "output_type": "stream",
     "text": [
      "C:\\Users\\hamud\\AppData\\Local\\Temp\\ipykernel_12588\\2496572211.py:4: UserWarning: The `geometries` module and `geometries_from_X` functions have been renamed the `features` module and `features_from_X` functions. Use these instead. The `geometries` module and function names are deprecated and will be removed in a future release.\n",
      "  zip_polygons = ox.geometries_from_place(\"Kassel\", tags={\"boundary\": \"postal_code\"})\n"
     ]
    },
    {
     "name": "stdout",
     "output_type": "stream",
     "text": [
      "{nan: <LINESTRING (9.489 51.324, 9.486 51.323, 9.486 51.322, 9.487 51.322, 9.482 5...>, '34123': <POLYGON ((9.489 51.292, 9.489 51.293, 9.489 51.293, 9.49 51.294, 9.49 51.29...>, '34121': <POLYGON ((9.449 51.313, 9.45 51.313, 9.478 51.312, 9.478 51.312, 9.479 51.3...>, '34233': <POLYGON ((9.485 51.378, 9.485 51.378, 9.486 51.378, 9.486 51.378, 9.486 51....>, '34125': <POLYGON ((9.503 51.321, 9.504 51.321, 9.504 51.321, 9.506 51.321, 9.507 51....>, '34128': <POLYGON ((9.369 51.349, 9.37 51.349, 9.37 51.35, 9.371 51.35, 9.371 51.35, ...>, '34131': <POLYGON ((9.351 51.307, 9.352 51.307, 9.352 51.308, 9.353 51.308, 9.354 51....>, '34132': <POLYGON ((9.362 51.293, 9.362 51.293, 9.363 51.293, 9.363 51.294, 9.364 51....>, '34119': <POLYGON ((9.446 51.315, 9.446 51.317, 9.447 51.317, 9.448 51.318, 9.449 51....>, '34130': <POLYGON ((9.409 51.326, 9.41 51.328, 9.412 51.328, 9.414 51.328, 9.42 51.32...>, '34134': <POLYGON ((9.43 51.3, 9.431 51.301, 9.433 51.301, 9.434 51.301, 9.442 51.302...>, '34117': <POLYGON ((9.476 51.321, 9.478 51.321, 9.48 51.321, 9.482 51.321, 9.487 51.3...>, '34127': <POLYGON ((9.465 51.325, 9.466 51.325, 9.467 51.327, 9.468 51.328, 9.469 51....>, '34355': <POLYGON ((9.531 51.366, 9.531 51.366, 9.531 51.366, 9.531 51.367, 9.531 51....>, '34270': <POLYGON ((9.25 51.293, 9.25 51.293, 9.25 51.293, 9.251 51.293, 9.252 51.293...>, '34225': <POLYGON ((9.327 51.258, 9.328 51.259, 9.328 51.26, 9.328 51.26, 9.328 51.26...>, '34253': <POLYGON ((9.515 51.266, 9.515 51.266, 9.515 51.266, 9.515 51.266, 9.515 51....>, '34260': <POLYGON ((9.554 51.29, 9.555 51.291, 9.556 51.291, 9.556 51.291, 9.556 51.2...>, '34292': <POLYGON ((9.352 51.36, 9.352 51.361, 9.352 51.361, 9.352 51.362, 9.352 51.3...>, '34246': <POLYGON ((9.431 51.38, 9.431 51.38, 9.432 51.38, 9.432 51.38, 9.432 51.38, ...>, '34277': <POLYGON ((9.461 51.244, 9.461 51.244, 9.461 51.244, 9.461 51.245, 9.461 51....>, '34317': <POLYGON ((9.283 51.34, 9.284 51.341, 9.284 51.341, 9.284 51.341, 9.284 51.3...>, '34266': <POLYGON ((9.531 51.318, 9.531 51.318, 9.531 51.319, 9.532 51.319, 9.532 51....>}\n"
     ]
    },
    {
     "name": "stderr",
     "output_type": "stream",
     "text": [
      "C:\\Users\\hamud\\AppData\\Roaming\\Python\\Python312\\site-packages\\jupyter_client\\session.py:200: DeprecationWarning: datetime.datetime.utcnow() is deprecated and scheduled for removal in a future version. Use timezone-aware objects to represent datetimes in UTC: datetime.datetime.now(datetime.UTC).\n",
      "  return datetime.utcnow().replace(tzinfo=utc)  # noqa\n"
     ]
    }
   ],
   "source": [
    "import osmnx as ox\n",
    "\n",
    "# Get postal code polygons for the specified place using OSMnx\n",
    "zip_polygons = ox.geometries_from_place(\"Kassel\", tags={\"boundary\": \"postal_code\"})\n",
    "\n",
    "# Dictionary to store postal code areas and their polygons\n",
    "zip_polygon_dict = {}\n",
    "\n",
    "for idx, row in zip_polygons.iterrows():\n",
    "    # Extract postal code and polygon\n",
    "    zip_code = row['postal_code']\n",
    "    zip_polygon = row['geometry']\n",
    "\n",
    "    # Add the postal code and polygon to the dictionary\n",
    "    zip_polygon_dict[zip_code] = zip_polygon\n",
    "\n",
    "# Print the resulting dictionary (for testing purposes)\n",
    "print(zip_polygon_dict)\n"
   ]
  },
  {
   "cell_type": "code",
   "execution_count": 2,
   "metadata": {},
   "outputs": [
    {
     "data": {
      "text/plain": [
       "{nan: <LINESTRING (9.489 51.324, 9.486 51.323, 9.486 51.322, 9.487 51.322, 9.482 5...>,\n",
       " '34123': <POLYGON ((9.489 51.292, 9.489 51.293, 9.489 51.293, 9.49 51.294, 9.49 51.29...>,\n",
       " '34121': <POLYGON ((9.449 51.313, 9.45 51.313, 9.478 51.312, 9.478 51.312, 9.479 51.3...>,\n",
       " '34233': <POLYGON ((9.485 51.378, 9.485 51.378, 9.486 51.378, 9.486 51.378, 9.486 51....>,\n",
       " '34125': <POLYGON ((9.503 51.321, 9.504 51.321, 9.504 51.321, 9.506 51.321, 9.507 51....>,\n",
       " '34128': <POLYGON ((9.369 51.349, 9.37 51.349, 9.37 51.35, 9.371 51.35, 9.371 51.35, ...>,\n",
       " '34131': <POLYGON ((9.351 51.307, 9.352 51.307, 9.352 51.308, 9.353 51.308, 9.354 51....>,\n",
       " '34132': <POLYGON ((9.362 51.293, 9.362 51.293, 9.363 51.293, 9.363 51.294, 9.364 51....>,\n",
       " '34119': <POLYGON ((9.446 51.315, 9.446 51.317, 9.447 51.317, 9.448 51.318, 9.449 51....>,\n",
       " '34130': <POLYGON ((9.409 51.326, 9.41 51.328, 9.412 51.328, 9.414 51.328, 9.42 51.32...>,\n",
       " '34134': <POLYGON ((9.43 51.3, 9.431 51.301, 9.433 51.301, 9.434 51.301, 9.442 51.302...>,\n",
       " '34117': <POLYGON ((9.476 51.321, 9.478 51.321, 9.48 51.321, 9.482 51.321, 9.487 51.3...>,\n",
       " '34127': <POLYGON ((9.465 51.325, 9.466 51.325, 9.467 51.327, 9.468 51.328, 9.469 51....>,\n",
       " '34355': <POLYGON ((9.531 51.366, 9.531 51.366, 9.531 51.366, 9.531 51.367, 9.531 51....>,\n",
       " '34270': <POLYGON ((9.25 51.293, 9.25 51.293, 9.25 51.293, 9.251 51.293, 9.252 51.293...>,\n",
       " '34225': <POLYGON ((9.327 51.258, 9.328 51.259, 9.328 51.26, 9.328 51.26, 9.328 51.26...>,\n",
       " '34253': <POLYGON ((9.515 51.266, 9.515 51.266, 9.515 51.266, 9.515 51.266, 9.515 51....>,\n",
       " '34260': <POLYGON ((9.554 51.29, 9.555 51.291, 9.556 51.291, 9.556 51.291, 9.556 51.2...>,\n",
       " '34292': <POLYGON ((9.352 51.36, 9.352 51.361, 9.352 51.361, 9.352 51.362, 9.352 51.3...>,\n",
       " '34246': <POLYGON ((9.431 51.38, 9.431 51.38, 9.432 51.38, 9.432 51.38, 9.432 51.38, ...>,\n",
       " '34277': <POLYGON ((9.461 51.244, 9.461 51.244, 9.461 51.244, 9.461 51.245, 9.461 51....>,\n",
       " '34317': <POLYGON ((9.283 51.34, 9.284 51.341, 9.284 51.341, 9.284 51.341, 9.284 51.3...>,\n",
       " '34266': <POLYGON ((9.531 51.318, 9.531 51.318, 9.531 51.319, 9.532 51.319, 9.532 51....>}"
      ]
     },
     "execution_count": 2,
     "metadata": {},
     "output_type": "execute_result"
    }
   ],
   "source": [
    "zip_polygon_dict"
   ]
  }
 ],
 "metadata": {
  "kernelspec": {
   "display_name": "Python 3",
   "language": "python",
   "name": "python3"
  },
  "language_info": {
   "codemirror_mode": {
    "name": "ipython",
    "version": 3
   },
   "file_extension": ".py",
   "mimetype": "text/x-python",
   "name": "python",
   "nbconvert_exporter": "python",
   "pygments_lexer": "ipython3",
   "version": "3.12.1"
  }
 },
 "nbformat": 4,
 "nbformat_minor": 2
}
