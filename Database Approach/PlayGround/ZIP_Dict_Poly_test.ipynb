{
 "cells": [
  {
   "cell_type": "code",
   "execution_count": 1,
   "metadata": {},
   "outputs": [
    {
     "name": "stderr",
     "output_type": "stream",
     "text": [
      "C:\\Users\\hamud\\AppData\\Local\\Temp\\ipykernel_14156\\562165576.py:5: UserWarning: The `geometries` module and `geometries_from_X` functions have been renamed the `features` module and `features_from_X` functions. Use these instead. The `geometries` module and function names are deprecated and will be removed in a future release.\n",
      "  zip_polygons = ox.geometries_from_place(place, tags={\"boundary\": \"postal_code\"})\n"
     ]
    },
    {
     "name": "stdout",
     "output_type": "stream",
     "text": [
      "{nan: <LINESTRING (9.489 51.324, 9.486 51.323, 9.486 51.322, 9.487 51.322, 9.482 5...>, '34123': <POLYGON ((9.489 51.292, 9.489 51.293, 9.489 51.293, 9.49 51.294, 9.49 51.29...>, '34121': <POLYGON ((9.449 51.313, 9.45 51.313, 9.478 51.312, 9.478 51.312, 9.479 51.3...>, '34233': <POLYGON ((9.485 51.378, 9.485 51.378, 9.486 51.378, 9.486 51.378, 9.486 51....>, '34125': <POLYGON ((9.503 51.321, 9.504 51.321, 9.504 51.321, 9.506 51.321, 9.507 51....>, '34128': <POLYGON ((9.369 51.349, 9.37 51.349, 9.37 51.35, 9.371 51.35, 9.371 51.35, ...>, '34131': <POLYGON ((9.351 51.307, 9.352 51.307, 9.352 51.308, 9.353 51.308, 9.354 51....>, '34132': <POLYGON ((9.362 51.293, 9.362 51.293, 9.363 51.293, 9.363 51.294, 9.364 51....>, '34119': <POLYGON ((9.446 51.315, 9.446 51.317, 9.447 51.317, 9.448 51.318, 9.449 51....>, '34130': <POLYGON ((9.409 51.326, 9.41 51.328, 9.412 51.328, 9.414 51.328, 9.42 51.32...>, '34134': <POLYGON ((9.43 51.3, 9.431 51.301, 9.433 51.301, 9.434 51.301, 9.442 51.302...>, '34117': <POLYGON ((9.476 51.321, 9.478 51.321, 9.48 51.321, 9.482 51.321, 9.487 51.3...>, '34127': <POLYGON ((9.465 51.325, 9.466 51.325, 9.467 51.327, 9.468 51.328, 9.469 51....>, '34355': <POLYGON ((9.531 51.366, 9.531 51.366, 9.531 51.366, 9.531 51.367, 9.531 51....>, '34270': <POLYGON ((9.25 51.293, 9.25 51.293, 9.25 51.293, 9.251 51.293, 9.252 51.293...>, '34225': <POLYGON ((9.327 51.258, 9.328 51.259, 9.328 51.26, 9.328 51.26, 9.328 51.26...>, '34253': <POLYGON ((9.515 51.266, 9.515 51.266, 9.515 51.266, 9.515 51.266, 9.515 51....>, '34260': <POLYGON ((9.554 51.29, 9.555 51.291, 9.556 51.291, 9.556 51.291, 9.556 51.2...>, '34292': <POLYGON ((9.352 51.36, 9.352 51.361, 9.352 51.361, 9.352 51.362, 9.352 51.3...>, '34246': <POLYGON ((9.431 51.38, 9.431 51.38, 9.432 51.38, 9.432 51.38, 9.432 51.38, ...>, '34277': <POLYGON ((9.461 51.244, 9.461 51.244, 9.461 51.244, 9.461 51.245, 9.461 51....>, '34317': <POLYGON ((9.283 51.34, 9.284 51.341, 9.284 51.341, 9.284 51.341, 9.284 51.3...>, '34266': <POLYGON ((9.531 51.318, 9.531 51.318, 9.531 51.319, 9.532 51.319, 9.532 51....>}\n"
     ]
    },
    {
     "name": "stderr",
     "output_type": "stream",
     "text": [
      "C:\\Users\\hamud\\AppData\\Roaming\\Python\\Python312\\site-packages\\jupyter_client\\session.py:200: DeprecationWarning: datetime.datetime.utcnow() is deprecated and scheduled for removal in a future version. Use timezone-aware objects to represent datetimes in UTC: datetime.datetime.now(datetime.UTC).\n",
      "  return datetime.utcnow().replace(tzinfo=utc)  # noqa\n"
     ]
    }
   ],
   "source": [
    "import osmnx as ox\n",
    "\n",
    "def get_place_zip_polygons(place):\n",
    "    # Get postal code polygons for the specified place using OSMnx\n",
    "    zip_polygons = ox.geometries_from_place(place, tags={\"boundary\": \"postal_code\"})\n",
    "\n",
    "    # Dictionary to store postal code areas and their polygons\n",
    "    zip_polygon_dict = {}\n",
    "\n",
    "    for idx, row in zip_polygons.iterrows():\n",
    "        # Extract postal code and polygon\n",
    "        zip_code = row['postal_code']\n",
    "        zip_polygon = row['geometry']\n",
    "\n",
    "        # Add the postal code and polygon to the dictionary\n",
    "        zip_polygon_dict[zip_code] = zip_polygon\n",
    "\n",
    "    return zip_polygon_dict\n",
    "\n",
    "# Example call for Berlin\n",
    "berlin_zip_polygons = get_place_zip_polygons(\"Kassel\")\n",
    "\n",
    "# Print the resulting dictionary (for testing purposes)\n",
    "print(berlin_zip_polygons)\n"
   ]
  },
  {
   "cell_type": "code",
   "execution_count": 3,
   "metadata": {},
   "outputs": [
    {
     "name": "stdout",
     "output_type": "stream",
     "text": [
      "{nan: <LINESTRING (9.489 51.324, 9.486 51.323, 9.486 51.322, 9.487 51.322, 9.482 5...>, '34123': <POLYGON ((9.489 51.292, 9.489 51.293, 9.489 51.293, 9.49 51.294, 9.49 51.29...>, '34121': <POLYGON ((9.449 51.313, 9.45 51.313, 9.478 51.312, 9.478 51.312, 9.479 51.3...>, '34233': <POLYGON ((9.485 51.378, 9.485 51.378, 9.486 51.378, 9.486 51.378, 9.486 51....>, '34125': <POLYGON ((9.503 51.321, 9.504 51.321, 9.504 51.321, 9.506 51.321, 9.507 51....>, '34128': <POLYGON ((9.369 51.349, 9.37 51.349, 9.37 51.35, 9.371 51.35, 9.371 51.35, ...>, '34131': <POLYGON ((9.351 51.307, 9.352 51.307, 9.352 51.308, 9.353 51.308, 9.354 51....>, '34132': <POLYGON ((9.362 51.293, 9.362 51.293, 9.363 51.293, 9.363 51.294, 9.364 51....>, '34119': <POLYGON ((9.446 51.315, 9.446 51.317, 9.447 51.317, 9.448 51.318, 9.449 51....>, '34130': <POLYGON ((9.409 51.326, 9.41 51.328, 9.412 51.328, 9.414 51.328, 9.42 51.32...>, '34134': <POLYGON ((9.43 51.3, 9.431 51.301, 9.433 51.301, 9.434 51.301, 9.442 51.302...>, '34117': <POLYGON ((9.476 51.321, 9.478 51.321, 9.48 51.321, 9.482 51.321, 9.487 51.3...>, '34127': <POLYGON ((9.465 51.325, 9.466 51.325, 9.467 51.327, 9.468 51.328, 9.469 51....>, '34355': <POLYGON ((9.531 51.366, 9.531 51.366, 9.531 51.366, 9.531 51.367, 9.531 51....>, '34270': <POLYGON ((9.25 51.293, 9.25 51.293, 9.25 51.293, 9.251 51.293, 9.252 51.293...>, '34225': <POLYGON ((9.327 51.258, 9.328 51.259, 9.328 51.26, 9.328 51.26, 9.328 51.26...>, '34253': <POLYGON ((9.515 51.266, 9.515 51.266, 9.515 51.266, 9.515 51.266, 9.515 51....>, '34260': <POLYGON ((9.554 51.29, 9.555 51.291, 9.556 51.291, 9.556 51.291, 9.556 51.2...>, '34292': <POLYGON ((9.352 51.36, 9.352 51.361, 9.352 51.361, 9.352 51.362, 9.352 51.3...>, '34246': <POLYGON ((9.431 51.38, 9.431 51.38, 9.432 51.38, 9.432 51.38, 9.432 51.38, ...>, '34277': <POLYGON ((9.461 51.244, 9.461 51.244, 9.461 51.244, 9.461 51.245, 9.461 51....>, '34317': <POLYGON ((9.283 51.34, 9.284 51.341, 9.284 51.341, 9.284 51.341, 9.284 51.3...>, '34266': <POLYGON ((9.531 51.318, 9.531 51.318, 9.531 51.319, 9.532 51.319, 9.532 51....>}\n"
     ]
    },
    {
     "name": "stderr",
     "output_type": "stream",
     "text": [
      "C:\\Users\\hamud\\AppData\\Roaming\\Python\\Python312\\site-packages\\jupyter_client\\session.py:200: DeprecationWarning: datetime.datetime.utcnow() is deprecated and scheduled for removal in a future version. Use timezone-aware objects to represent datetimes in UTC: datetime.datetime.now(datetime.UTC).\n",
      "  return datetime.utcnow().replace(tzinfo=utc)  # noqa\n"
     ]
    }
   ],
   "source": [
    "import osmnx as ox\n",
    "\n",
    "# Get postal code polygons for the specified place using OSMnx\n",
    "zip_polygons = ox.features_from_place(\"Kassel\", tags={\"boundary\": \"postal_code\"})\n",
    "\n",
    "# Dictionary to store postal code areas and their polygons\n",
    "zip_polygon_dict = {}\n",
    "\n",
    "for idx, row in zip_polygons.iterrows():\n",
    "    # Extract postal code and polygon\n",
    "    zip_code = row['postal_code']\n",
    "    zip_polygon = row['geometry']\n",
    "\n",
    "    # Add the postal code and polygon to the dictionary\n",
    "    zip_polygon_dict[zip_code] = zip_polygon\n",
    "\n",
    "# Print the resulting dictionary (for testing purposes)\n",
    "print(zip_polygon_dict)\n"
   ]
  },
  {
   "cell_type": "code",
   "execution_count": 4,
   "metadata": {},
   "outputs": [
    {
     "data": {
      "text/plain": [
       "{nan: <LINESTRING (9.489 51.324, 9.486 51.323, 9.486 51.322, 9.487 51.322, 9.482 5...>,\n",
       " '34123': <POLYGON ((9.489 51.292, 9.489 51.293, 9.489 51.293, 9.49 51.294, 9.49 51.29...>,\n",
       " '34121': <POLYGON ((9.449 51.313, 9.45 51.313, 9.478 51.312, 9.478 51.312, 9.479 51.3...>,\n",
       " '34233': <POLYGON ((9.485 51.378, 9.485 51.378, 9.486 51.378, 9.486 51.378, 9.486 51....>,\n",
       " '34125': <POLYGON ((9.503 51.321, 9.504 51.321, 9.504 51.321, 9.506 51.321, 9.507 51....>,\n",
       " '34128': <POLYGON ((9.369 51.349, 9.37 51.349, 9.37 51.35, 9.371 51.35, 9.371 51.35, ...>,\n",
       " '34131': <POLYGON ((9.351 51.307, 9.352 51.307, 9.352 51.308, 9.353 51.308, 9.354 51....>,\n",
       " '34132': <POLYGON ((9.362 51.293, 9.362 51.293, 9.363 51.293, 9.363 51.294, 9.364 51....>,\n",
       " '34119': <POLYGON ((9.446 51.315, 9.446 51.317, 9.447 51.317, 9.448 51.318, 9.449 51....>,\n",
       " '34130': <POLYGON ((9.409 51.326, 9.41 51.328, 9.412 51.328, 9.414 51.328, 9.42 51.32...>,\n",
       " '34134': <POLYGON ((9.43 51.3, 9.431 51.301, 9.433 51.301, 9.434 51.301, 9.442 51.302...>,\n",
       " '34117': <POLYGON ((9.476 51.321, 9.478 51.321, 9.48 51.321, 9.482 51.321, 9.487 51.3...>,\n",
       " '34127': <POLYGON ((9.465 51.325, 9.466 51.325, 9.467 51.327, 9.468 51.328, 9.469 51....>,\n",
       " '34355': <POLYGON ((9.531 51.366, 9.531 51.366, 9.531 51.366, 9.531 51.367, 9.531 51....>,\n",
       " '34270': <POLYGON ((9.25 51.293, 9.25 51.293, 9.25 51.293, 9.251 51.293, 9.252 51.293...>,\n",
       " '34225': <POLYGON ((9.327 51.258, 9.328 51.259, 9.328 51.26, 9.328 51.26, 9.328 51.26...>,\n",
       " '34253': <POLYGON ((9.515 51.266, 9.515 51.266, 9.515 51.266, 9.515 51.266, 9.515 51....>,\n",
       " '34260': <POLYGON ((9.554 51.29, 9.555 51.291, 9.556 51.291, 9.556 51.291, 9.556 51.2...>,\n",
       " '34292': <POLYGON ((9.352 51.36, 9.352 51.361, 9.352 51.361, 9.352 51.362, 9.352 51.3...>,\n",
       " '34246': <POLYGON ((9.431 51.38, 9.431 51.38, 9.432 51.38, 9.432 51.38, 9.432 51.38, ...>,\n",
       " '34277': <POLYGON ((9.461 51.244, 9.461 51.244, 9.461 51.244, 9.461 51.245, 9.461 51....>,\n",
       " '34317': <POLYGON ((9.283 51.34, 9.284 51.341, 9.284 51.341, 9.284 51.341, 9.284 51.3...>,\n",
       " '34266': <POLYGON ((9.531 51.318, 9.531 51.318, 9.531 51.319, 9.532 51.319, 9.532 51....>}"
      ]
     },
     "execution_count": 4,
     "metadata": {},
     "output_type": "execute_result"
    }
   ],
   "source": [
    "zip_polygon_dict"
   ]
  },
  {
   "cell_type": "code",
   "execution_count": 5,
   "metadata": {},
   "outputs": [
    {
     "name": "stderr",
     "output_type": "stream",
     "text": [
      "C:\\Users\\hamud\\AppData\\Roaming\\Python\\Python312\\site-packages\\osmnx\\_overpass.py:211: UserWarning: This area is 183 times your configured Overpass max query area size. It will automatically be divided up into multiple sub-queries accordingly. This may take a long time.\n",
      "  multi_poly_proj = utils_geo._consolidate_subdivide_geometry(poly_proj)\n",
      "C:\\Users\\hamud\\AppData\\Roaming\\Python\\Python312\\site-packages\\jupyter_client\\session.py:200: DeprecationWarning: datetime.datetime.utcnow() is deprecated and scheduled for removal in a future version. Use timezone-aware objects to represent datetimes in UTC: datetime.datetime.now(datetime.UTC).\n",
      "  return datetime.utcnow().replace(tzinfo=utc)  # noqa\n"
     ]
    },
    {
     "ename": "KeyboardInterrupt",
     "evalue": "",
     "output_type": "error",
     "traceback": [
      "\u001b[1;31m---------------------------------------------------------------------------\u001b[0m",
      "\u001b[1;31mKeyboardInterrupt\u001b[0m                         Traceback (most recent call last)",
      "Cell \u001b[1;32mIn[5], line 24\u001b[0m\n\u001b[0;32m     21\u001b[0m kassel_zip_polygons \u001b[38;5;241m=\u001b[39m get_place_zip_polygons(\u001b[38;5;124m\"\u001b[39m\u001b[38;5;124mKassel\u001b[39m\u001b[38;5;124m\"\u001b[39m)\n\u001b[0;32m     23\u001b[0m \u001b[38;5;66;03m# Example call for Germany\u001b[39;00m\n\u001b[1;32m---> 24\u001b[0m germany_zip_polygons \u001b[38;5;241m=\u001b[39m \u001b[43mget_place_zip_polygons\u001b[49m\u001b[43m(\u001b[49m\u001b[38;5;124;43m\"\u001b[39;49m\u001b[38;5;124;43mGermany\u001b[39;49m\u001b[38;5;124;43m\"\u001b[39;49m\u001b[43m)\u001b[49m\n\u001b[0;32m     26\u001b[0m \u001b[38;5;66;03m# Print the resulting dictionaries (for testing purposes)\u001b[39;00m\n\u001b[0;32m     27\u001b[0m \u001b[38;5;28mprint\u001b[39m(kassel_zip_polygons)\n",
      "Cell \u001b[1;32mIn[5], line 5\u001b[0m, in \u001b[0;36mget_place_zip_polygons\u001b[1;34m(place)\u001b[0m\n\u001b[0;32m      3\u001b[0m \u001b[38;5;28;01mdef\u001b[39;00m \u001b[38;5;21mget_place_zip_polygons\u001b[39m(place):\n\u001b[0;32m      4\u001b[0m     \u001b[38;5;66;03m# Get postal code polygons for the specified place using OSMnx\u001b[39;00m\n\u001b[1;32m----> 5\u001b[0m     zip_polygons \u001b[38;5;241m=\u001b[39m \u001b[43mox\u001b[49m\u001b[38;5;241;43m.\u001b[39;49m\u001b[43mfeatures_from_place\u001b[49m\u001b[43m(\u001b[49m\u001b[43mplace\u001b[49m\u001b[43m,\u001b[49m\u001b[43m \u001b[49m\u001b[43mtags\u001b[49m\u001b[38;5;241;43m=\u001b[39;49m\u001b[43m{\u001b[49m\u001b[38;5;124;43m\"\u001b[39;49m\u001b[38;5;124;43mboundary\u001b[39;49m\u001b[38;5;124;43m\"\u001b[39;49m\u001b[43m:\u001b[49m\u001b[43m \u001b[49m\u001b[38;5;124;43m\"\u001b[39;49m\u001b[38;5;124;43mpostal_code\u001b[39;49m\u001b[38;5;124;43m\"\u001b[39;49m\u001b[43m}\u001b[49m\u001b[43m)\u001b[49m\n\u001b[0;32m      7\u001b[0m     \u001b[38;5;66;03m# Dictionary to store postal code areas and their polygons\u001b[39;00m\n\u001b[0;32m      8\u001b[0m     zip_polygon_dict \u001b[38;5;241m=\u001b[39m {}\n",
      "File \u001b[1;32m~\\AppData\\Roaming\\Python\\Python312\\site-packages\\osmnx\\features.py:285\u001b[0m, in \u001b[0;36mfeatures_from_place\u001b[1;34m(query, tags, which_result, buffer_dist)\u001b[0m\n\u001b[0;32m    282\u001b[0m utils\u001b[38;5;241m.\u001b[39mlog(\u001b[38;5;124m\"\u001b[39m\u001b[38;5;124mConstructed place geometry polygon(s) to query API\u001b[39m\u001b[38;5;124m\"\u001b[39m)\n\u001b[0;32m    284\u001b[0m \u001b[38;5;66;03m# create GeoDataFrame using this polygon(s) geometry\u001b[39;00m\n\u001b[1;32m--> 285\u001b[0m \u001b[38;5;28;01mreturn\u001b[39;00m \u001b[43mfeatures_from_polygon\u001b[49m\u001b[43m(\u001b[49m\u001b[43mpolygon\u001b[49m\u001b[43m,\u001b[49m\u001b[43m \u001b[49m\u001b[43mtags\u001b[49m\u001b[43m)\u001b[49m\n",
      "File \u001b[1;32m~\\AppData\\Roaming\\Python\\Python312\\site-packages\\osmnx\\features.py:336\u001b[0m, in \u001b[0;36mfeatures_from_polygon\u001b[1;34m(polygon, tags)\u001b[0m\n\u001b[0;32m    333\u001b[0m response_jsons \u001b[38;5;241m=\u001b[39m _overpass\u001b[38;5;241m.\u001b[39m_download_overpass_features(polygon, tags)\n\u001b[0;32m    335\u001b[0m \u001b[38;5;66;03m# create GeoDataFrame from the downloaded data\u001b[39;00m\n\u001b[1;32m--> 336\u001b[0m \u001b[38;5;28;01mreturn\u001b[39;00m \u001b[43m_create_gdf\u001b[49m\u001b[43m(\u001b[49m\u001b[43mresponse_jsons\u001b[49m\u001b[43m,\u001b[49m\u001b[43m \u001b[49m\u001b[43mpolygon\u001b[49m\u001b[43m,\u001b[49m\u001b[43m \u001b[49m\u001b[43mtags\u001b[49m\u001b[43m)\u001b[49m\n",
      "File \u001b[1;32m~\\AppData\\Roaming\\Python\\Python312\\site-packages\\osmnx\\features.py:457\u001b[0m, in \u001b[0;36m_create_gdf\u001b[1;34m(response_jsons, polygon, tags)\u001b[0m\n\u001b[0;32m    453\u001b[0m         geometries[unique_id] \u001b[38;5;241m=\u001b[39m point\n\u001b[0;32m    455\u001b[0m \u001b[38;5;28;01melif\u001b[39;00m element[\u001b[38;5;124m\"\u001b[39m\u001b[38;5;124mtype\u001b[39m\u001b[38;5;124m\"\u001b[39m] \u001b[38;5;241m==\u001b[39m \u001b[38;5;124m\"\u001b[39m\u001b[38;5;124mway\u001b[39m\u001b[38;5;124m\"\u001b[39m:\n\u001b[0;32m    456\u001b[0m     \u001b[38;5;66;03m# Parse all ways to linestrings or polygons\u001b[39;00m\n\u001b[1;32m--> 457\u001b[0m     linestring_or_polygon \u001b[38;5;241m=\u001b[39m \u001b[43m_parse_way_to_linestring_or_polygon\u001b[49m\u001b[43m(\u001b[49m\n\u001b[0;32m    458\u001b[0m \u001b[43m        \u001b[49m\u001b[43melement\u001b[49m\u001b[38;5;241;43m=\u001b[39;49m\u001b[43melement\u001b[49m\u001b[43m,\u001b[49m\u001b[43m \u001b[49m\u001b[43mcoords\u001b[49m\u001b[38;5;241;43m=\u001b[39;49m\u001b[43mcoords\u001b[49m\n\u001b[0;32m    459\u001b[0m \u001b[43m    \u001b[49m\u001b[43m)\u001b[49m\n\u001b[0;32m    460\u001b[0m     geometries[unique_id] \u001b[38;5;241m=\u001b[39m linestring_or_polygon\n\u001b[0;32m    462\u001b[0m \u001b[38;5;28;01melif\u001b[39;00m (\n\u001b[0;32m    463\u001b[0m     element[\u001b[38;5;124m\"\u001b[39m\u001b[38;5;124mtype\u001b[39m\u001b[38;5;124m\"\u001b[39m] \u001b[38;5;241m==\u001b[39m \u001b[38;5;124m\"\u001b[39m\u001b[38;5;124mrelation\u001b[39m\u001b[38;5;124m\"\u001b[39m \u001b[38;5;129;01mand\u001b[39;00m element\u001b[38;5;241m.\u001b[39mget(\u001b[38;5;124m\"\u001b[39m\u001b[38;5;124mtags\u001b[39m\u001b[38;5;124m\"\u001b[39m)\u001b[38;5;241m.\u001b[39mget(\u001b[38;5;124m\"\u001b[39m\u001b[38;5;124mtype\u001b[39m\u001b[38;5;124m\"\u001b[39m) \u001b[38;5;129;01min\u001b[39;00m relation_types\n\u001b[0;32m    464\u001b[0m ):\n\u001b[0;32m    465\u001b[0m     \u001b[38;5;66;03m# parse relations to (multi)polygons\u001b[39;00m\n",
      "File \u001b[1;32m~\\AppData\\Roaming\\Python\\Python312\\site-packages\\osmnx\\features.py:594\u001b[0m, in \u001b[0;36m_parse_way_to_linestring_or_polygon\u001b[1;34m(element, coords)\u001b[0m\n\u001b[0;32m    592\u001b[0m \u001b[38;5;28;01mif\u001b[39;00m element[\u001b[38;5;124m\"\u001b[39m\u001b[38;5;124mnodes\u001b[39m\u001b[38;5;124m\"\u001b[39m][\u001b[38;5;241m0\u001b[39m] \u001b[38;5;241m!=\u001b[39m element[\u001b[38;5;124m\"\u001b[39m\u001b[38;5;124mnodes\u001b[39m\u001b[38;5;124m\"\u001b[39m][\u001b[38;5;241m-\u001b[39m\u001b[38;5;241m1\u001b[39m]:\n\u001b[0;32m    593\u001b[0m     \u001b[38;5;28;01mtry\u001b[39;00m:\n\u001b[1;32m--> 594\u001b[0m         geometry \u001b[38;5;241m=\u001b[39m \u001b[43mLineString\u001b[49m\u001b[43m(\u001b[49m\u001b[43m[\u001b[49m\u001b[43m(\u001b[49m\u001b[43mcoords\u001b[49m\u001b[43m[\u001b[49m\u001b[43mnode\u001b[49m\u001b[43m]\u001b[49m\u001b[43m[\u001b[49m\u001b[38;5;124;43m\"\u001b[39;49m\u001b[38;5;124;43mlon\u001b[39;49m\u001b[38;5;124;43m\"\u001b[39;49m\u001b[43m]\u001b[49m\u001b[43m,\u001b[49m\u001b[43m \u001b[49m\u001b[43mcoords\u001b[49m\u001b[43m[\u001b[49m\u001b[43mnode\u001b[49m\u001b[43m]\u001b[49m\u001b[43m[\u001b[49m\u001b[38;5;124;43m\"\u001b[39;49m\u001b[38;5;124;43mlat\u001b[39;49m\u001b[38;5;124;43m\"\u001b[39;49m\u001b[43m]\u001b[49m\u001b[43m)\u001b[49m\u001b[43m \u001b[49m\u001b[38;5;28;43;01mfor\u001b[39;49;00m\u001b[43m \u001b[49m\u001b[43mnode\u001b[49m\u001b[43m \u001b[49m\u001b[38;5;129;43;01min\u001b[39;49;00m\u001b[43m \u001b[49m\u001b[43mnodes\u001b[49m\u001b[43m]\u001b[49m\u001b[43m)\u001b[49m\n\u001b[0;32m    595\u001b[0m     \u001b[38;5;28;01mexcept\u001b[39;00m \u001b[38;5;167;01mKeyError\u001b[39;00m \u001b[38;5;28;01mas\u001b[39;00m e:  \u001b[38;5;66;03m# pragma: no cover\u001b[39;00m\n\u001b[0;32m    596\u001b[0m         \u001b[38;5;66;03m# XMLs may include geometries that are incomplete, in which case\u001b[39;00m\n\u001b[0;32m    597\u001b[0m         \u001b[38;5;66;03m# return an empty geometry\u001b[39;00m\n\u001b[0;32m    598\u001b[0m         utils\u001b[38;5;241m.\u001b[39mlog(\n\u001b[0;32m    599\u001b[0m             \u001b[38;5;124mf\u001b[39m\u001b[38;5;124m\"\u001b[39m\u001b[38;5;124mnode/\u001b[39m\u001b[38;5;132;01m{\u001b[39;00me\u001b[38;5;132;01m}\u001b[39;00m\u001b[38;5;124m was not found in `coords`.\u001b[39m\u001b[38;5;130;01m\\n\u001b[39;00m\u001b[38;5;124m\"\u001b[39m\n\u001b[0;32m    600\u001b[0m             \u001b[38;5;124mf\u001b[39m\u001b[38;5;124m\"\u001b[39m\u001b[38;5;124mhttps://www.openstreetmap.org/\u001b[39m\u001b[38;5;132;01m{\u001b[39;00melement[\u001b[38;5;124m'\u001b[39m\u001b[38;5;124mtype\u001b[39m\u001b[38;5;124m'\u001b[39m]\u001b[38;5;132;01m}\u001b[39;00m\u001b[38;5;124m/\u001b[39m\u001b[38;5;132;01m{\u001b[39;00melement[\u001b[38;5;124m'\u001b[39m\u001b[38;5;124mid\u001b[39m\u001b[38;5;124m'\u001b[39m]\u001b[38;5;132;01m}\u001b[39;00m\u001b[38;5;124m was not created.\u001b[39m\u001b[38;5;124m\"\u001b[39m\n\u001b[0;32m    601\u001b[0m         )\n",
      "File \u001b[1;32m~\\AppData\\Roaming\\Python\\Python312\\site-packages\\shapely\\geometry\\linestring.py:73\u001b[0m, in \u001b[0;36mLineString.__new__\u001b[1;34m(self, coordinates)\u001b[0m\n\u001b[0;32m     68\u001b[0m \u001b[38;5;28;01mif\u001b[39;00m \u001b[38;5;28mlen\u001b[39m(coordinates) \u001b[38;5;241m==\u001b[39m \u001b[38;5;241m0\u001b[39m:\n\u001b[0;32m     69\u001b[0m     \u001b[38;5;66;03m# empty geometry\u001b[39;00m\n\u001b[0;32m     70\u001b[0m     \u001b[38;5;66;03m# TODO better constructor + should shapely.linestrings handle this?\u001b[39;00m\n\u001b[0;32m     71\u001b[0m     \u001b[38;5;28;01mreturn\u001b[39;00m shapely\u001b[38;5;241m.\u001b[39mfrom_wkt(\u001b[38;5;124m\"\u001b[39m\u001b[38;5;124mLINESTRING EMPTY\u001b[39m\u001b[38;5;124m\"\u001b[39m)\n\u001b[1;32m---> 73\u001b[0m geom \u001b[38;5;241m=\u001b[39m \u001b[43mshapely\u001b[49m\u001b[38;5;241;43m.\u001b[39;49m\u001b[43mlinestrings\u001b[49m\u001b[43m(\u001b[49m\u001b[43mcoordinates\u001b[49m\u001b[43m)\u001b[49m\n\u001b[0;32m     74\u001b[0m \u001b[38;5;28;01mif\u001b[39;00m \u001b[38;5;129;01mnot\u001b[39;00m \u001b[38;5;28misinstance\u001b[39m(geom, LineString):\n\u001b[0;32m     75\u001b[0m     \u001b[38;5;28;01mraise\u001b[39;00m \u001b[38;5;167;01mValueError\u001b[39;00m(\u001b[38;5;124m\"\u001b[39m\u001b[38;5;124mInvalid values passed to LineString constructor\u001b[39m\u001b[38;5;124m\"\u001b[39m)\n",
      "File \u001b[1;32m~\\AppData\\Roaming\\Python\\Python312\\site-packages\\shapely\\decorators.py:77\u001b[0m, in \u001b[0;36mmultithreading_enabled.<locals>.wrapped\u001b[1;34m(*args, **kwargs)\u001b[0m\n\u001b[0;32m     75\u001b[0m     \u001b[38;5;28;01mfor\u001b[39;00m arr \u001b[38;5;129;01min\u001b[39;00m array_args:\n\u001b[0;32m     76\u001b[0m         arr\u001b[38;5;241m.\u001b[39mflags\u001b[38;5;241m.\u001b[39mwriteable \u001b[38;5;241m=\u001b[39m \u001b[38;5;28;01mFalse\u001b[39;00m\n\u001b[1;32m---> 77\u001b[0m     \u001b[38;5;28;01mreturn\u001b[39;00m \u001b[43mfunc\u001b[49m\u001b[43m(\u001b[49m\u001b[38;5;241;43m*\u001b[39;49m\u001b[43margs\u001b[49m\u001b[43m,\u001b[49m\u001b[43m \u001b[49m\u001b[38;5;241;43m*\u001b[39;49m\u001b[38;5;241;43m*\u001b[39;49m\u001b[43mkwargs\u001b[49m\u001b[43m)\u001b[49m\n\u001b[0;32m     78\u001b[0m \u001b[38;5;28;01mfinally\u001b[39;00m:\n\u001b[0;32m     79\u001b[0m     \u001b[38;5;28;01mfor\u001b[39;00m arr, old_flag \u001b[38;5;129;01min\u001b[39;00m \u001b[38;5;28mzip\u001b[39m(array_args, old_flags):\n",
      "File \u001b[1;32m~\\AppData\\Roaming\\Python\\Python312\\site-packages\\shapely\\creation.py:119\u001b[0m, in \u001b[0;36mlinestrings\u001b[1;34m(coords, y, z, indices, out, **kwargs)\u001b[0m\n\u001b[0;32m    117\u001b[0m coords \u001b[38;5;241m=\u001b[39m _xyz_to_coords(coords, y, z)\n\u001b[0;32m    118\u001b[0m \u001b[38;5;28;01mif\u001b[39;00m indices \u001b[38;5;129;01mis\u001b[39;00m \u001b[38;5;28;01mNone\u001b[39;00m:\n\u001b[1;32m--> 119\u001b[0m     \u001b[38;5;28;01mreturn\u001b[39;00m \u001b[43mlib\u001b[49m\u001b[38;5;241;43m.\u001b[39;49m\u001b[43mlinestrings\u001b[49m\u001b[43m(\u001b[49m\u001b[43mcoords\u001b[49m\u001b[43m,\u001b[49m\u001b[43m \u001b[49m\u001b[43mout\u001b[49m\u001b[38;5;241;43m=\u001b[39;49m\u001b[43mout\u001b[49m\u001b[43m,\u001b[49m\u001b[43m \u001b[49m\u001b[38;5;241;43m*\u001b[39;49m\u001b[38;5;241;43m*\u001b[39;49m\u001b[43mkwargs\u001b[49m\u001b[43m)\u001b[49m\n\u001b[0;32m    120\u001b[0m \u001b[38;5;28;01melse\u001b[39;00m:\n\u001b[0;32m    121\u001b[0m     \u001b[38;5;28;01mreturn\u001b[39;00m simple_geometries_1d(coords, indices, GeometryType\u001b[38;5;241m.\u001b[39mLINESTRING, out\u001b[38;5;241m=\u001b[39mout)\n",
      "\u001b[1;31mKeyboardInterrupt\u001b[0m: "
     ]
    }
   ],
   "source": [
    "import osmnx as ox\n",
    "\n",
    "def get_place_zip_polygons(place):\n",
    "    # Get postal code polygons for the specified place using OSMnx\n",
    "    zip_polygons = ox.features_from_place(place, tags={\"boundary\": \"postal_code\"})\n",
    "\n",
    "    # Dictionary to store postal code areas and their polygons\n",
    "    zip_polygon_dict = {}\n",
    "\n",
    "    for idx, row in zip_polygons.iterrows():\n",
    "        # Extract postal code and polygon\n",
    "        zip_code = row['postal_code']\n",
    "        zip_polygon = row['geometry']\n",
    "\n",
    "        # Add the postal code and polygon to the dictionary\n",
    "        zip_polygon_dict[zip_code] = zip_polygon\n",
    "\n",
    "    return zip_polygon_dict\n",
    "\n",
    "# Example call for Kassel\n",
    "kassel_zip_polygons = get_place_zip_polygons(\"Kassel\")\n",
    "\n",
    "# Example call for Germany\n",
    "germany_zip_polygons = get_place_zip_polygons(\"Germany\")\n",
    "\n",
    "# Print the resulting dictionaries (for testing purposes)\n",
    "print(kassel_zip_polygons)\n",
    "print(germany_zip_polygons)\n"
   ]
  },
  {
   "cell_type": "code",
   "execution_count": 6,
   "metadata": {},
   "outputs": [
    {
     "data": {
      "text/plain": [
       "{nan: <LINESTRING (9.489 51.324, 9.486 51.323, 9.486 51.322, 9.487 51.322, 9.482 5...>,\n",
       " '34123': <POLYGON ((9.489 51.292, 9.489 51.293, 9.489 51.293, 9.49 51.294, 9.49 51.29...>,\n",
       " '34121': <POLYGON ((9.449 51.313, 9.45 51.313, 9.478 51.312, 9.478 51.312, 9.479 51.3...>,\n",
       " '34233': <POLYGON ((9.485 51.378, 9.485 51.378, 9.486 51.378, 9.486 51.378, 9.486 51....>,\n",
       " '34125': <POLYGON ((9.503 51.321, 9.504 51.321, 9.504 51.321, 9.506 51.321, 9.507 51....>,\n",
       " '34128': <POLYGON ((9.369 51.349, 9.37 51.349, 9.37 51.35, 9.371 51.35, 9.371 51.35, ...>,\n",
       " '34131': <POLYGON ((9.351 51.307, 9.352 51.307, 9.352 51.308, 9.353 51.308, 9.354 51....>,\n",
       " '34132': <POLYGON ((9.362 51.293, 9.362 51.293, 9.363 51.293, 9.363 51.294, 9.364 51....>,\n",
       " '34119': <POLYGON ((9.446 51.315, 9.446 51.317, 9.447 51.317, 9.448 51.318, 9.449 51....>,\n",
       " '34130': <POLYGON ((9.409 51.326, 9.41 51.328, 9.412 51.328, 9.414 51.328, 9.42 51.32...>,\n",
       " '34134': <POLYGON ((9.43 51.3, 9.431 51.301, 9.433 51.301, 9.434 51.301, 9.442 51.302...>,\n",
       " '34117': <POLYGON ((9.476 51.321, 9.478 51.321, 9.48 51.321, 9.482 51.321, 9.487 51.3...>,\n",
       " '34127': <POLYGON ((9.465 51.325, 9.466 51.325, 9.467 51.327, 9.468 51.328, 9.469 51....>,\n",
       " '34355': <POLYGON ((9.531 51.366, 9.531 51.366, 9.531 51.366, 9.531 51.367, 9.531 51....>,\n",
       " '34270': <POLYGON ((9.25 51.293, 9.25 51.293, 9.25 51.293, 9.251 51.293, 9.252 51.293...>,\n",
       " '34225': <POLYGON ((9.327 51.258, 9.328 51.259, 9.328 51.26, 9.328 51.26, 9.328 51.26...>,\n",
       " '34253': <POLYGON ((9.515 51.266, 9.515 51.266, 9.515 51.266, 9.515 51.266, 9.515 51....>,\n",
       " '34260': <POLYGON ((9.554 51.29, 9.555 51.291, 9.556 51.291, 9.556 51.291, 9.556 51.2...>,\n",
       " '34292': <POLYGON ((9.352 51.36, 9.352 51.361, 9.352 51.361, 9.352 51.362, 9.352 51.3...>,\n",
       " '34246': <POLYGON ((9.431 51.38, 9.431 51.38, 9.432 51.38, 9.432 51.38, 9.432 51.38, ...>,\n",
       " '34277': <POLYGON ((9.461 51.244, 9.461 51.244, 9.461 51.244, 9.461 51.245, 9.461 51....>,\n",
       " '34317': <POLYGON ((9.283 51.34, 9.284 51.341, 9.284 51.341, 9.284 51.341, 9.284 51.3...>,\n",
       " '34266': <POLYGON ((9.531 51.318, 9.531 51.318, 9.531 51.319, 9.532 51.319, 9.532 51....>}"
      ]
     },
     "execution_count": 6,
     "metadata": {},
     "output_type": "execute_result"
    }
   ],
   "source": [
    "kassel_zip_polygons"
   ]
  },
  {
   "cell_type": "code",
   "execution_count": 7,
   "metadata": {},
   "outputs": [
    {
     "ename": "NameError",
     "evalue": "name 'germany_zip_polygons' is not defined",
     "output_type": "error",
     "traceback": [
      "\u001b[1;31m---------------------------------------------------------------------------\u001b[0m",
      "\u001b[1;31mNameError\u001b[0m                                 Traceback (most recent call last)",
      "Cell \u001b[1;32mIn[7], line 1\u001b[0m\n\u001b[1;32m----> 1\u001b[0m \u001b[43mgermany_zip_polygons\u001b[49m\n",
      "\u001b[1;31mNameError\u001b[0m: name 'germany_zip_polygons' is not defined"
     ]
    }
   ],
   "source": [
    "germany_zip_polygons"
   ]
  }
 ],
 "metadata": {
  "kernelspec": {
   "display_name": "Python 3",
   "language": "python",
   "name": "python3"
  },
  "language_info": {
   "codemirror_mode": {
    "name": "ipython",
    "version": 3
   },
   "file_extension": ".py",
   "mimetype": "text/x-python",
   "name": "python",
   "nbconvert_exporter": "python",
   "pygments_lexer": "ipython3",
   "version": "3.12.1"
  }
 },
 "nbformat": 4,
 "nbformat_minor": 2
}
