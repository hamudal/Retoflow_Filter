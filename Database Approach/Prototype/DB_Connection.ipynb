{
 "cells": [
  {
   "cell_type": "code",
   "execution_count": null,
   "metadata": {},
   "outputs": [],
   "source": [
    "import pymongo\n",
    "\n",
    "# Verbindung zur MongoDB herstellen\n",
    "client = pymongo.MongoClient(\"Deine_MongoDB_Connection_String\")\n",
    "\n",
    "# Wähle die Datenbank aus\n",
    "db = client[\"Deine_DB_Name\"]\n",
    "\n",
    "# Wähle die Sammlung aus (entspricht einer Tabelle in relationalen Datenbanken)\n",
    "collection = db[\"postal_codes\"]\n",
    "\n",
    "# Dictionary mit den PLZ-Daten\n",
    "postal_code_data = {\n",
    "    \"34131\": \"<Polygon1>\",\n",
    "    \"34121\": \"<Polygon2>\",\n",
    "    # Weitere PLZ und ihre Polygone hier hinzufügen\n",
    "}\n",
    "\n",
    "try:\n",
    "    # Füge Daten aus dem Dictionary in die MongoDB ein\n",
    "    for postal_code, polygon in postal_code_data.items():\n",
    "        document = {\"postal_code\": postal_code, \"polygon\": polygon}\n",
    "        collection.insert_one(document)\n",
    "\n",
    "    print(\"Daten erfolgreich in die MongoDB eingeführt.\")\n",
    "\n",
    "except Exception as e:\n",
    "    print(f\"Fehler: {e}\")\n",
    "\n",
    "finally:\n",
    "    # Schließe die Verbindung zur MongoDB\n",
    "    client.close()\n"
   ]
  }
 ],
 "metadata": {
  "language_info": {
   "name": "python"
  }
 },
 "nbformat": 4,
 "nbformat_minor": 2
}
