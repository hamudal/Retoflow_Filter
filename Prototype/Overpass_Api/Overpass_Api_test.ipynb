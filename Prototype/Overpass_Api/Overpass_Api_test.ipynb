{
 "cells": [
  {
   "cell_type": "markdown",
   "metadata": {},
   "source": [
    "# Query Turbo API\n",
    "\n",
    "area[name=\"Kassel\"][admin_level=6][boundary=administrative]->.myarea;\n",
    "rel(area.myarea)[\"boundary\"=\"postal_code\"][\"postal_code\"=\"34125\"];\n",
    "out geom;\n"
   ]
  },
  {
   "cell_type": "code",
   "execution_count": 3,
   "metadata": {},
   "outputs": [
    {
     "name": "stdout",
     "output_type": "stream",
     "text": [
      "No features found for postal code 34131. Please check and try again.\n"
     ]
    }
   ],
   "source": [
    "import requests\n",
    "import json\n",
    "import geopandas as gpd\n",
    "\n",
    "def get_zip_features_osm(postal_code):\n",
    "    overpass_url = \"https://overpass-api.de/api/interpreter\"\n",
    "    \n",
    "    overpass_query = f\"\"\"\n",
    "        [out:json];\n",
    "        area[name=\"Kassel\"][admin_level=6][boundary=administrative]->.myarea;\n",
    "        rel(area.myarea)[\"boundary\"=\"postal_code\"][\"postal_code\"=\"{postal_code}\"];\n",
    "        out geom;\n",
    "    \"\"\"\n",
    "\n",
    "    response = requests.get(overpass_url, params={'data': overpass_query})\n",
    "    data = response.json()\n",
    "\n",
    "    features = []\n",
    "    for element in data['elements']:\n",
    "        if 'geometry' in element:\n",
    "            features.append(element)\n",
    "\n",
    "    gdf = gpd.GeoDataFrame.from_features(features)\n",
    "    return gdf\n",
    "\n",
    "def plot_zip(zip_gdf):\n",
    "    zip_gdf.boundary.plot(color=\"black\", linewidth=2)\n",
    "    plt.title(f'Postal Code {postal_code}')\n",
    "    plt.gca().set_facecolor('white')\n",
    "    plt.show()\n",
    "\n",
    "def main():\n",
    "    postal_code = \"34131\"\n",
    "    \n",
    "    postal_code_geometry = get_zip_features_osm(postal_code)\n",
    "\n",
    "    if not postal_code_geometry.empty:\n",
    "        plot_zip(postal_code_geometry)\n",
    "    else:\n",
    "        print(f\"No features found for postal code {postal_code}. Please check and try again.\")\n",
    "\n",
    "if __name__ == \"__main__\":\n",
    "    main()\n"
   ]
  },
  {
   "cell_type": "code",
   "execution_count": 4,
   "metadata": {},
   "outputs": [
    {
     "name": "stdout",
     "output_type": "stream",
     "text": [
      "No features found for postal code 34131. Please check and try again.\n"
     ]
    }
   ],
   "source": [
    "import requests\n",
    "import json\n",
    "import geopandas as gpd\n",
    "import matplotlib.pyplot as plt\n",
    "\n",
    "def get_zip_features_osm(postal_code):\n",
    "    overpass_url = \"https://overpass-api.de/api/interpreter\"\n",
    "\n",
    "    overpass_query = f\"\"\"\n",
    "        [out:json];\n",
    "        area[name=\"Kassel\"][admin_level=6][boundary=administrative]->.myarea;\n",
    "        rel(area.myarea)[\"boundary\"=\"postal_code\"][admin_level=6][postal_code=\"{postal_code}\"];\n",
    "        out geom;\n",
    "    \"\"\"\n",
    "\n",
    "    response = requests.get(overpass_url, params={'data': overpass_query})\n",
    "    data = response.json()\n",
    "\n",
    "    features = []\n",
    "    for element in data['elements']:\n",
    "        if 'geometry' in element:\n",
    "            features.append(element)\n",
    "\n",
    "    gdf = gpd.GeoDataFrame.from_features(features)\n",
    "    return gdf\n",
    "\n",
    "def plot_zip(zip_gdf):\n",
    "    zip_gdf.boundary.plot(color=\"black\", linewidth=2)\n",
    "    plt.title(f'Postal Code {postal_code}')\n",
    "    plt.gca().set_facecolor('white')\n",
    "    plt.show()\n",
    "\n",
    "def main():\n",
    "    postal_code = \"34131\"\n",
    "\n",
    "    postal_code_geometry = get_zip_features_osm(postal_code)\n",
    "\n",
    "    if not postal_code_geometry.empty:\n",
    "        plot_zip(postal_code_geometry)\n",
    "    else:\n",
    "        print(f\"No features found for postal code {postal_code}. Please check and try again.\")\n",
    "\n",
    "if __name__ == \"__main__\":\n",
    "    main()\n"
   ]
  }
 ],
 "metadata": {
  "kernelspec": {
   "display_name": "Python 3",
   "language": "python",
   "name": "python3"
  },
  "language_info": {
   "codemirror_mode": {
    "name": "ipython",
    "version": 3
   },
   "file_extension": ".py",
   "mimetype": "text/x-python",
   "name": "python",
   "nbconvert_exporter": "python",
   "pygments_lexer": "ipython3",
   "version": "3.12.1"
  }
 },
 "nbformat": 4,
 "nbformat_minor": 2
}
