{
 "cells": [
  {
   "cell_type": "code",
   "execution_count": 6,
   "metadata": {},
   "outputs": [
    {
     "name": "stdout",
     "output_type": "stream",
     "text": [
      "Connected to MongoDB\n",
      "Collection 'ZIP_Polygon' created or accessed.\n",
      "GeoJSON data inserted into MongoDB collection 'ZIP_Polygon'.\n"
     ]
    }
   ],
   "source": [
    "from pymongo import MongoClient\n",
    "from config import username, password, host, database_name\n",
    "import json\n",
    "from urllib.parse import quote_plus\n",
    "\n",
    "def connect_to_mongodb():\n",
    "    \"\"\"\n",
    "    Establishes a connection to MongoDB and returns the client and collection objects.\n",
    "    \"\"\"\n",
    "    # Escape the username and password for MongoDB connection\n",
    "    escaped_username = quote_plus(username)\n",
    "    escaped_password = quote_plus(password)\n",
    "\n",
    "    # Create the MongoDB connection string using an F-string\n",
    "    uri = f\"mongodb+srv://{escaped_username}:{escaped_password}@{host}/?retryWrites=true&w=majority\"\n",
    "\n",
    "    # Connect to the MongoDB instance\n",
    "    client = MongoClient(uri)\n",
    "\n",
    "    # Access the specified MongoDB database\n",
    "    db = client[database_name]\n",
    "\n",
    "    print(\"Connected to MongoDB\")\n",
    "\n",
    "    # Specify the MongoDB collection name\n",
    "    collection_name = 'ZIP_Polygon'\n",
    "\n",
    "    # Create or access the 'ZIP_Polygon' collection\n",
    "    zip_polygon_collection = db[collection_name]\n",
    "    print(f\"Collection '{collection_name}' created or accessed.\")\n",
    "\n",
    "    return client, zip_polygon_collection\n",
    "\n",
    "def insert_geojson_data_into_mongodb(collection, geojson_file_path):\n",
    "    \"\"\"\n",
    "    Inserts GeoJSON data into the specified MongoDB collection.\n",
    "    \"\"\"\n",
    "    with open(geojson_file_path, 'r') as file:\n",
    "        # Load GeoJSON data from the file\n",
    "        geojson_data = json.load(file)\n",
    "\n",
    "    # Insert GeoJSON data into the specified collection\n",
    "    collection.insert_many(geojson_data['features'])\n",
    "    print(f\"GeoJSON data inserted into MongoDB collection '{collection.name}'.\")\n",
    "\n",
    "# Example usage of the functions\n",
    "mongo_client, zip_polygon_collection = connect_to_mongodb()\n",
    "geojson_file_path = 'kassel_geojson_data.geojson'\n",
    "insert_geojson_data_into_mongodb(zip_polygon_collection, geojson_file_path)\n",
    "\n",
    "# Close the MongoDB connection when done\n",
    "mongo_client.close()\n"
   ]
  }
 ],
 "metadata": {
  "kernelspec": {
   "display_name": "Python 3",
   "language": "python",
   "name": "python3"
  },
  "language_info": {
   "codemirror_mode": {
    "name": "ipython",
    "version": 3
   },
   "file_extension": ".py",
   "mimetype": "text/x-python",
   "name": "python",
   "nbconvert_exporter": "python",
   "pygments_lexer": "ipython3",
   "version": "3.12.1"
  }
 },
 "nbformat": 4,
 "nbformat_minor": 2
}
