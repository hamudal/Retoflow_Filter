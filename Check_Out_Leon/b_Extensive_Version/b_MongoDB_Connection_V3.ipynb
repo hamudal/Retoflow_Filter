{
 "cells": [
  {
   "cell_type": "code",
   "execution_count": 2,
   "metadata": {},
   "outputs": [
    {
     "name": "stdout",
     "output_type": "stream",
     "text": [
      "Connected to local MongoDB\n",
      "Inserted 1000 features into local MongoDB collection 'ZIP_Poly_Ger_Collection_b'.\n",
      "Inserted 1000 features into local MongoDB collection 'ZIP_Poly_Ger_Collection_b'.\n",
      "Inserted 1000 features into local MongoDB collection 'ZIP_Poly_Ger_Collection_b'.\n",
      "Inserted 1000 features into local MongoDB collection 'ZIP_Poly_Ger_Collection_b'.\n",
      "Inserted 1000 features into local MongoDB collection 'ZIP_Poly_Ger_Collection_b'.\n",
      "Inserted 1000 features into local MongoDB collection 'ZIP_Poly_Ger_Collection_b'.\n",
      "Inserted 1000 features into local MongoDB collection 'ZIP_Poly_Ger_Collection_b'.\n",
      "Inserted 1000 features into local MongoDB collection 'ZIP_Poly_Ger_Collection_b'.\n",
      "Inserted 803 features into local MongoDB collection 'ZIP_Poly_Ger_Collection_b'.\n",
      "Closed MongoDB connection.\n"
     ]
    }
   ],
   "source": [
    "# Importing necessary libraries\n",
    "from pymongo import MongoClient\n",
    "import json\n",
    "\n",
    "# MongoDB Connector Class\n",
    "class MongoDBConnector:\n",
    "    def __init__(self, database_name, collection_name):\n",
    "        self.client = MongoClient('localhost', 27017)\n",
    "        self.db = self.client[database_name]\n",
    "        self.collection = self.db[collection_name]\n",
    "\n",
    "    # Method to connect to the local MongoDB\n",
    "    def connect_to_local_mongodb(self):\n",
    "        print(\"Connected to local MongoDB\")\n",
    "        return self.client, self.collection\n",
    "\n",
    "    # Method to insert GeoJSON data into MongoDB in chunks\n",
    "    def insert_geojson_data(self, geojson_file_path, chunk_size=1000):\n",
    "        with open(geojson_file_path, 'r') as file:\n",
    "            geojson_data = json.load(file)\n",
    "\n",
    "        # Assuming GeoJSON is a list of features directly\n",
    "        features = geojson_data\n",
    "        for i in range(0, len(features), chunk_size):\n",
    "            chunk = features[i:i + chunk_size]\n",
    "            self.collection.insert_many(chunk)\n",
    "            print(f\"Inserted {len(chunk)} features into local MongoDB collection '{self.collection.name}'.\")\n",
    "\n",
    "    # Method to close the MongoDB connection\n",
    "    def close_connection(self):\n",
    "        self.client.close()\n",
    "        print(\"Closed MongoDB connection.\")\n",
    "\n",
    "# Example usage of the class\n",
    "if __name__ == \"__main__\":\n",
    "    # User input for the database and collection names\n",
    "    database_name = \"ZIP_Poly_Ger_DB_b\"\n",
    "    collection_name = \"ZIP_Poly_Ger_Collection_b\"\n",
    "\n",
    "    # Create an instance of MongoDBConnector\n",
    "    mongo_connector = MongoDBConnector(database_name, collection_name)\n",
    "\n",
    "    # Connect to MongoDB\n",
    "    mongo_client, mongo_collection = mongo_connector.connect_to_local_mongodb()\n",
    "\n",
    "    # Example GeoJSON file path\n",
    "    geojson_file_path = 'Germany_postal_codes.geojson'  # Update the file path accordingly\n",
    "\n",
    "    # Insert GeoJSON data into MongoDB\n",
    "    mongo_connector.insert_geojson_data(geojson_file_path, chunk_size=1000)\n",
    "\n",
    "    # Close MongoDB connection when done\n",
    "    mongo_connector.close_connection()\n"
   ]
  }
 ],
 "metadata": {
  "kernelspec": {
   "display_name": "Python 3",
   "language": "python",
   "name": "python3"
  },
  "language_info": {
   "codemirror_mode": {
    "name": "ipython",
    "version": 3
   },
   "file_extension": ".py",
   "mimetype": "text/x-python",
   "name": "python",
   "nbconvert_exporter": "python",
   "pygments_lexer": "ipython3",
   "version": "3.12.1"
  }
 },
 "nbformat": 4,
 "nbformat_minor": 2
}
