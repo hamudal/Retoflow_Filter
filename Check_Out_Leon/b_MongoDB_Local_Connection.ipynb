{
 "cells": [
  {
   "cell_type": "markdown",
   "metadata": {},
   "source": [
    "MongoDB Local Connector: Splittet große GeoJson Data in mehrere Insertions in MongoDB"
   ]
  },
  {
   "cell_type": "code",
   "execution_count": 13,
   "metadata": {},
   "outputs": [
    {
     "name": "stdout",
     "output_type": "stream",
     "text": [
      "Connected to local MongoDB\n",
      "Collection 'ZIP_Polygon_Local_Ger' created or accessed.\n",
      "Inserted 1000 features into local MongoDB collection 'ZIP_Polygon_Local_Ger'.\n",
      "Inserted 1000 features into local MongoDB collection 'ZIP_Polygon_Local_Ger'.\n",
      "Inserted 1000 features into local MongoDB collection 'ZIP_Polygon_Local_Ger'.\n",
      "Inserted 1000 features into local MongoDB collection 'ZIP_Polygon_Local_Ger'.\n",
      "Inserted 1000 features into local MongoDB collection 'ZIP_Polygon_Local_Ger'.\n",
      "Inserted 1000 features into local MongoDB collection 'ZIP_Polygon_Local_Ger'.\n",
      "Inserted 1000 features into local MongoDB collection 'ZIP_Polygon_Local_Ger'.\n",
      "Inserted 1000 features into local MongoDB collection 'ZIP_Polygon_Local_Ger'.\n",
      "Inserted 264 features into local MongoDB collection 'ZIP_Polygon_Local_Ger'.\n"
     ]
    }
   ],
   "source": [
    "from pymongo import MongoClient\n",
    "import json\n",
    "\n",
    "def connect_to_local_mongodb():\n",
    "    \"\"\"\n",
    "    Establishes a connection to a local MongoDB instance and returns the client and collection objects.\n",
    "    \"\"\"\n",
    "    # Connect to the local MongoDB instance (assuming it's running on the default port 27017)\n",
    "    client = MongoClient('localhost', 27017)\n",
    "\n",
    "    # Access the specified MongoDB database\n",
    "    db = client['ZIP_Polygon_Ger']  # Replace 'your_local_database_name' with your desired local database name\n",
    "\n",
    "    print(\"Connected to local MongoDB\")\n",
    "\n",
    "    # Specify the MongoDB collection name\n",
    "    collection_name = 'ZIP_Polygon_Local_Ger'\n",
    "\n",
    "    # Create or access the 'ZIP_Polygon' collection\n",
    "    zip_polygon_collection = db[collection_name]\n",
    "    print(f\"Collection '{collection_name}' created or accessed.\")\n",
    "\n",
    "    return client, zip_polygon_collection\n",
    "\n",
    "def insert_geojson_data_into_local_mongodb(collection, geojson_file_path, chunk_size=1000):\n",
    "    \"\"\"\n",
    "    Inserts GeoJSON data into the specified local MongoDB collection in chunks.\n",
    "    \"\"\"\n",
    "    with open(geojson_file_path, 'r') as file:\n",
    "        # Load GeoJSON data from the file\n",
    "        geojson_data = json.load(file)\n",
    "\n",
    "    # Split the GeoJSON features into chunks\n",
    "    features = geojson_data['features']\n",
    "    for i in range(0, len(features), chunk_size):\n",
    "        chunk = features[i:i+chunk_size]\n",
    "        # Insert the chunk into the specified collection\n",
    "        collection.insert_many(chunk)\n",
    "        print(f\"Inserted {len(chunk)} features into local MongoDB collection '{collection.name}'.\")\n",
    "\n",
    "# Example usage of the function with a chunk size of 1000 features\n",
    "mongo_client, zip_polygon_collection = connect_to_local_mongodb()\n",
    "geojson_file_path = 'Germany_geojson_data.geojson'  # Update the file path accordingly\n",
    "insert_geojson_data_into_local_mongodb(zip_polygon_collection, geojson_file_path, chunk_size=1000)\n",
    "\n",
    "# Close the local MongoDB connection when done\n",
    "mongo_client.close()\n"
   ]
  },
  {
   "cell_type": "code",
   "execution_count": null,
   "metadata": {},
   "outputs": [],
   "source": []
  }
 ],
 "metadata": {
  "kernelspec": {
   "display_name": "Python 3",
   "language": "python",
   "name": "python3"
  },
  "language_info": {
   "codemirror_mode": {
    "name": "ipython",
    "version": 3
   },
   "file_extension": ".py",
   "mimetype": "text/x-python",
   "name": "python",
   "nbconvert_exporter": "python",
   "pygments_lexer": "ipython3",
   "version": "3.12.1"
  }
 },
 "nbformat": 4,
 "nbformat_minor": 2
}
