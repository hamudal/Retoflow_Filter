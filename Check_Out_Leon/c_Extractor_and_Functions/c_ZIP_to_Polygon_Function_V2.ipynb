{
 "cells": [
  {
   "cell_type": "markdown",
   "metadata": {},
   "source": [
    "Input a Postal Code, Output Polygon Plot & Polygon Data"
   ]
  },
  {
   "cell_type": "code",
   "execution_count": 1,
   "metadata": {},
   "outputs": [
    {
     "ename": "TypeError",
     "evalue": "'float' object is not iterable",
     "output_type": "error",
     "traceback": [
      "\u001b[1;31m---------------------------------------------------------------------------\u001b[0m",
      "\u001b[1;31mTypeError\u001b[0m                                 Traceback (most recent call last)",
      "Cell \u001b[1;32mIn[1], line 64\u001b[0m\n\u001b[0;32m     61\u001b[0m geojson_data_from_mongo \u001b[38;5;241m=\u001b[39m retrieve_data_from_mongodb(mongo_collection)\n\u001b[0;32m     63\u001b[0m \u001b[38;5;66;03m# Load GeoJSON data from MongoDB for comparison\u001b[39;00m\n\u001b[1;32m---> 64\u001b[0m postal_code_polygons_mongo \u001b[38;5;241m=\u001b[39m {document\u001b[38;5;241m.\u001b[39mget(\u001b[38;5;124m'\u001b[39m\u001b[38;5;124mpostal_code\u001b[39m\u001b[38;5;124m'\u001b[39m): \u001b[43mcoordinates_to_polygon\u001b[49m\u001b[43m(\u001b[49m\u001b[43mdocument\u001b[49m\u001b[38;5;241;43m.\u001b[39;49m\u001b[43mget\u001b[49m\u001b[43m(\u001b[49m\u001b[38;5;124;43m'\u001b[39;49m\u001b[38;5;124;43mgeometry\u001b[39;49m\u001b[38;5;124;43m'\u001b[39;49m\u001b[43m)\u001b[49m\u001b[43m[\u001b[49m\u001b[38;5;124;43m'\u001b[39;49m\u001b[38;5;124;43mcoordinates\u001b[39;49m\u001b[38;5;124;43m'\u001b[39;49m\u001b[43m]\u001b[49m\u001b[43m[\u001b[49m\u001b[38;5;241;43m0\u001b[39;49m\u001b[43m]\u001b[49m\u001b[43m)\u001b[49m \u001b[38;5;28;01mfor\u001b[39;00m document \u001b[38;5;129;01min\u001b[39;00m geojson_data_from_mongo[\u001b[38;5;124m'\u001b[39m\u001b[38;5;124mfeatures\u001b[39m\u001b[38;5;124m'\u001b[39m]}\n\u001b[0;32m     66\u001b[0m \u001b[38;5;66;03m# Input the postal code you want to plot\u001b[39;00m\n\u001b[0;32m     67\u001b[0m input_postal_code \u001b[38;5;241m=\u001b[39m \u001b[38;5;28minput\u001b[39m(\u001b[38;5;124m\"\u001b[39m\u001b[38;5;124mEnter a postal code: \u001b[39m\u001b[38;5;124m\"\u001b[39m)\n",
      "Cell \u001b[1;32mIn[1], line 32\u001b[0m, in \u001b[0;36mcoordinates_to_polygon\u001b[1;34m(coordinates)\u001b[0m\n\u001b[0;32m     28\u001b[0m \u001b[38;5;28;01mdef\u001b[39;00m \u001b[38;5;21mcoordinates_to_polygon\u001b[39m(coordinates):\n\u001b[0;32m     29\u001b[0m \u001b[38;5;250m    \u001b[39m\u001b[38;5;124;03m\"\"\"\u001b[39;00m\n\u001b[0;32m     30\u001b[0m \u001b[38;5;124;03m    Converts coordinates to a Shapely Polygon.\u001b[39;00m\n\u001b[0;32m     31\u001b[0m \u001b[38;5;124;03m    \"\"\"\u001b[39;00m\n\u001b[1;32m---> 32\u001b[0m     \u001b[38;5;28;01mreturn\u001b[39;00m \u001b[43mPolygon\u001b[49m\u001b[43m(\u001b[49m\u001b[43mcoordinates\u001b[49m\u001b[43m)\u001b[49m\n",
      "File \u001b[1;32m~\\AppData\\Roaming\\Python\\Python312\\site-packages\\shapely\\geometry\\polygon.py:230\u001b[0m, in \u001b[0;36mPolygon.__new__\u001b[1;34m(self, shell, holes)\u001b[0m\n\u001b[0;32m    228\u001b[0m     \u001b[38;5;28;01mreturn\u001b[39;00m shell\n\u001b[0;32m    229\u001b[0m \u001b[38;5;28;01melse\u001b[39;00m:\n\u001b[1;32m--> 230\u001b[0m     shell \u001b[38;5;241m=\u001b[39m \u001b[43mLinearRing\u001b[49m\u001b[43m(\u001b[49m\u001b[43mshell\u001b[49m\u001b[43m)\u001b[49m\n\u001b[0;32m    232\u001b[0m \u001b[38;5;28;01mif\u001b[39;00m holes \u001b[38;5;129;01mis\u001b[39;00m \u001b[38;5;129;01mnot\u001b[39;00m \u001b[38;5;28;01mNone\u001b[39;00m:\n\u001b[0;32m    233\u001b[0m     \u001b[38;5;28;01mif\u001b[39;00m \u001b[38;5;28mlen\u001b[39m(holes) \u001b[38;5;241m==\u001b[39m \u001b[38;5;241m0\u001b[39m:\n\u001b[0;32m    234\u001b[0m         \u001b[38;5;66;03m# shapely constructor cannot handle holes=[]\u001b[39;00m\n",
      "File \u001b[1;32m~\\AppData\\Roaming\\Python\\Python312\\site-packages\\shapely\\geometry\\polygon.py:93\u001b[0m, in \u001b[0;36mLinearRing.__new__\u001b[1;34m(self, coordinates)\u001b[0m\n\u001b[0;32m     90\u001b[0m     \u001b[38;5;28;01melse\u001b[39;00m:\n\u001b[0;32m     91\u001b[0m         \u001b[38;5;28;01mreturn\u001b[39;00m [\u001b[38;5;28mfloat\u001b[39m(c) \u001b[38;5;28;01mfor\u001b[39;00m c \u001b[38;5;129;01min\u001b[39;00m o]\n\u001b[1;32m---> 93\u001b[0m coordinates \u001b[38;5;241m=\u001b[39m np\u001b[38;5;241m.\u001b[39marray([\u001b[43m_coords\u001b[49m\u001b[43m(\u001b[49m\u001b[43mo\u001b[49m\u001b[43m)\u001b[49m \u001b[38;5;28;01mfor\u001b[39;00m o \u001b[38;5;129;01min\u001b[39;00m coordinates])\n\u001b[0;32m     94\u001b[0m \u001b[38;5;28;01mif\u001b[39;00m \u001b[38;5;129;01mnot\u001b[39;00m np\u001b[38;5;241m.\u001b[39missubdtype(coordinates\u001b[38;5;241m.\u001b[39mdtype, np\u001b[38;5;241m.\u001b[39mnumber):\n\u001b[0;32m     95\u001b[0m     \u001b[38;5;66;03m# conversion of coords to 2D array failed, this might be due\u001b[39;00m\n\u001b[0;32m     96\u001b[0m     \u001b[38;5;66;03m# to inconsistent coordinate dimensionality\u001b[39;00m\n\u001b[0;32m     97\u001b[0m     \u001b[38;5;28;01mraise\u001b[39;00m \u001b[38;5;167;01mValueError\u001b[39;00m(\u001b[38;5;124m\"\u001b[39m\u001b[38;5;124mInconsistent coordinate dimensionality\u001b[39m\u001b[38;5;124m\"\u001b[39m)\n",
      "File \u001b[1;32m~\\AppData\\Roaming\\Python\\Python312\\site-packages\\shapely\\geometry\\polygon.py:91\u001b[0m, in \u001b[0;36mLinearRing.__new__.<locals>._coords\u001b[1;34m(o)\u001b[0m\n\u001b[0;32m     89\u001b[0m     \u001b[38;5;28;01mreturn\u001b[39;00m o\u001b[38;5;241m.\u001b[39mcoords[\u001b[38;5;241m0\u001b[39m]\n\u001b[0;32m     90\u001b[0m \u001b[38;5;28;01melse\u001b[39;00m:\n\u001b[1;32m---> 91\u001b[0m     \u001b[38;5;28;01mreturn\u001b[39;00m \u001b[43m[\u001b[49m\u001b[38;5;28;43mfloat\u001b[39;49m\u001b[43m(\u001b[49m\u001b[43mc\u001b[49m\u001b[43m)\u001b[49m\u001b[43m \u001b[49m\u001b[38;5;28;43;01mfor\u001b[39;49;00m\u001b[43m \u001b[49m\u001b[43mc\u001b[49m\u001b[43m \u001b[49m\u001b[38;5;129;43;01min\u001b[39;49;00m\u001b[43m \u001b[49m\u001b[43mo\u001b[49m\u001b[43m]\u001b[49m\n",
      "\u001b[1;31mTypeError\u001b[0m: 'float' object is not iterable"
     ]
    }
   ],
   "source": [
    "import json\n",
    "from shapely.geometry import shape, Polygon\n",
    "import geopandas as gpd\n",
    "import matplotlib.pyplot as plt\n",
    "from pymongo import MongoClient\n",
    "\n",
    "def connect_to_mongodb(database_name, collection_name):\n",
    "    \"\"\"\n",
    "    Connects to MongoDB and returns the MongoDB client and collection.\n",
    "    \"\"\"\n",
    "    client = MongoClient('localhost', 27017)\n",
    "    db = client[database_name]\n",
    "    collection = db[collection_name]\n",
    "    return client, collection\n",
    "\n",
    "def retrieve_data_from_mongodb(collection):\n",
    "    \"\"\"\n",
    "    Retrieves GeoJSON data from MongoDB collection.\n",
    "    \"\"\"\n",
    "    cursor = collection.find()\n",
    "    geojson_data = {\"type\": \"FeatureCollection\", \"features\": []}\n",
    "\n",
    "    for document in cursor:\n",
    "        geojson_data[\"features\"].append(document)\n",
    "\n",
    "    return geojson_data\n",
    "\n",
    "def coordinates_to_polygon(coordinates):\n",
    "    \"\"\"\n",
    "    Converts coordinates to a Shapely Polygon.\n",
    "    \"\"\"\n",
    "    return Polygon(coordinates)\n",
    "\n",
    "def plot_polygon(postal_code_polygons, postal_code):\n",
    "    \"\"\"\n",
    "    Plots the polygon for a given postal code and returns the polygon.\n",
    "    \"\"\"\n",
    "    polygon = postal_code_polygons.get(postal_code)\n",
    "    if polygon:\n",
    "        gdf = gpd.GeoDataFrame(geometry=[polygon])\n",
    "        gdf.plot()\n",
    "        plt.title(f\"Postal Code Polygon: {postal_code}\")\n",
    "        plt.xlabel(\"Longitude\")\n",
    "        plt.ylabel(\"Latitude\")\n",
    "        plt.show()\n",
    "        return polygon\n",
    "    else:\n",
    "        print(f\"No polygon found for postal code: {postal_code}\")\n",
    "        return None\n",
    "\n",
    "# Example usage\n",
    "if __name__ == \"__main__\":\n",
    "    # MongoDB configuration\n",
    "    database_name = \"ZIP_Poly_Ger_Test\"\n",
    "    collection_name = \"ZIP_Poly_Ger_Collection_Test\"\n",
    "\n",
    "    # Connect to MongoDB\n",
    "    mongo_client, mongo_collection = connect_to_mongodb(database_name, collection_name)\n",
    "\n",
    "    # Retrieve GeoJSON data from MongoDB\n",
    "    geojson_data_from_mongo = retrieve_data_from_mongodb(mongo_collection)\n",
    "\n",
    "    # Load GeoJSON data from MongoDB for comparison\n",
    "    postal_code_polygons_mongo = {document.get('postal_code'): coordinates_to_polygon(document.get('geometry')['coordinates'][0]) for document in geojson_data_from_mongo['features']}\n",
    "\n",
    "    # Input the postal code you want to plot\n",
    "    input_postal_code = input(\"Enter a postal code: \")\n",
    "\n",
    "    # Plot the polygon for the specified postal code and get the polygon\n",
    "    selected_polygon = plot_polygon(postal_code_polygons_mongo, input_postal_code)\n",
    "\n",
    "    # Output the polygon information\n",
    "    if selected_polygon:\n",
    "        print(\"Selected Polygon Information:\")\n",
    "        print(selected_polygon)\n",
    "\n",
    "    # Close MongoDB connection when done\n",
    "    mongo_client.close()\n"
   ]
  }
 ],
 "metadata": {
  "kernelspec": {
   "display_name": "Python 3",
   "language": "python",
   "name": "python3"
  },
  "language_info": {
   "codemirror_mode": {
    "name": "ipython",
    "version": 3
   },
   "file_extension": ".py",
   "mimetype": "text/x-python",
   "name": "python",
   "nbconvert_exporter": "python",
   "pygments_lexer": "ipython3",
   "version": "3.12.1"
  }
 },
 "nbformat": 4,
 "nbformat_minor": 2
}
