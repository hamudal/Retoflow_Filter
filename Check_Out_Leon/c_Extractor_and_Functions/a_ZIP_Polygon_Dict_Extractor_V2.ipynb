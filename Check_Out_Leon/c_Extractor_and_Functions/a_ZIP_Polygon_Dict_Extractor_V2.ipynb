{
 "cells": [
  {
   "cell_type": "markdown",
   "metadata": {},
   "source": [
    "Input Place Name (Kassel/Germany), Output Place Polygone in GeoJson Format"
   ]
  },
  {
   "cell_type": "code",
   "execution_count": 1,
   "metadata": {},
   "outputs": [
    {
     "name": "stdout",
     "output_type": "stream",
     "text": [
      "Germany GeoJSON data saved to c:\\Users\\Admin\\OneDrive\\Dokumente\\Projects\\Retoflow_Filter-1\\Check_Out_Leon\\c_Extractor_and_Functions\\Germany_geojson_data.geojson\n"
     ]
    }
   ],
   "source": [
    "import osmnx as ox\n",
    "import geojson\n",
    "import pandas as pd\n",
    "import os\n",
    "\n",
    "ox.settings.default_crs = \"epsg:25832\"\n",
    "\n",
    "\n",
    "def get_place_postal_code_polygons(place_name):\n",
    "    \"\"\"\n",
    "    Fetches postal code polygons for the specified place using OSMnx.\n",
    "    \"\"\"\n",
    "    postal_code_polygons = ox.features_from_place(place_name, tags={\"boundary\": \"postal_code\"})\n",
    "    \n",
    "    # Create a DataFrame from the OSMnx features\n",
    "    df = pd.DataFrame(postal_code_polygons).dropna(subset=['postal_code', 'geometry'])\n",
    "\n",
    "    # Create a dictionary mapping postal codes to their respective geometries\n",
    "    postal_code_polygon_dict = {feature['postal_code']: feature['geometry'] for _, feature in df.iterrows()}\n",
    "    return postal_code_polygon_dict\n",
    "\n",
    "def format_geojson_data(data):\n",
    "    \"\"\"\n",
    "    Formats data into GeoJSON format.\n",
    "    \"\"\"\n",
    "    geojson_features = []\n",
    "    for postal_code, geometry in data.items():\n",
    "        if geometry.is_empty:\n",
    "            continue  # Skip empty geometries\n",
    "\n",
    "        coordinates = []\n",
    "\n",
    "        if geometry.geom_type == 'Polygon':\n",
    "            coordinates = [list(geometry.exterior.coords)]\n",
    "        elif geometry.geom_type == 'MultiPolygon':\n",
    "            coordinates = [list(poly.exterior.coords) for poly in geometry.geoms]\n",
    "        else:\n",
    "            raise ValueError(f\"Unsupported geometry type: {geometry.geom_type}\")\n",
    "\n",
    "        # Update \"type\" to \"postal_code\" and add the corresponding postal code\n",
    "        feature = {\n",
    "            \"postal_code\": postal_code,\n",
    "            \"geometry\": {\n",
    "                \"type\": geometry.geom_type,\n",
    "                \"coordinates\": coordinates\n",
    "            }\n",
    "        }\n",
    "\n",
    "        geojson_features.append(feature)\n",
    "\n",
    "    # Create a GeoJSON FeatureCollection\n",
    "    return geojson.FeatureCollection(geojson_features)\n",
    "\n",
    "def save_geojson_to_file(geojson_data, file_name):\n",
    "    \"\"\"\n",
    "    Saves GeoJSON data to a file in the same directory.\n",
    "    \"\"\"\n",
    "    script_dir = os.path.dirname(os.path.abspath(__file__)) if \"__file__\" in locals() else os.getcwd()\n",
    "    file_path = os.path.join(script_dir, file_name)\n",
    "    \n",
    "    # Save the GeoJSON data to the file\n",
    "    with open(file_path, 'w') as file:\n",
    "        geojson.dump(geojson_data, file, indent=2)\n",
    "    return file_path\n",
    "\n",
    "def main():\n",
    "    place_input = input(\"Geben Sie den Stadtnamen oder Ländernamen ein: \")\n",
    "\n",
    "    place_postal_code_polygons = get_place_postal_code_polygons(place_input)\n",
    "    place_geojson_data = format_geojson_data(place_postal_code_polygons)\n",
    "\n",
    "    file_name = f\"{place_input}_geojson_data.geojson\"\n",
    "    saved_file_path = save_geojson_to_file(place_geojson_data, file_name)\n",
    "\n",
    "    print(f\"{place_input} GeoJSON data saved to {saved_file_path}\")\n",
    "\n",
    "if __name__ == \"__main__\":\n",
    "    main()\n"
   ]
  },
  {
   "cell_type": "markdown",
   "metadata": {},
   "source": [
    "Plot"
   ]
  },
  {
   "cell_type": "code",
   "execution_count": 13,
   "metadata": {},
   "outputs": [
    {
     "data": {
      "image/png": "[encoded data removed]",
      "text/plain": [
       "<Figure size 1000x1000 with 1 Axes>"
      ]
     },
     "metadata": {},
     "output_type": "display_data"
    }
   ],
   "source": [
    "import geopandas as gpd\n",
    "import matplotlib.pyplot as plt\n",
    "import os\n",
    "\n",
    "def plot_geojson_file(file_path):\n",
    "    # Read the GeoJSON file into a GeoDataFrame\n",
    "    gdf = gpd.read_file(file_path)\n",
    "\n",
    "    # Plot the polygons\n",
    "    fig, ax = plt.subplots(figsize=(10, 10))  # Set the figure size as needed\n",
    "\n",
    "    for idx, row in gdf.iterrows():\n",
    "        geometry_type = row['geometry'].geom_type\n",
    "\n",
    "        if geometry_type == 'Polygon':\n",
    "            row['geometry'].boundary.plot(ax=ax, color='blue', linewidth=0.5)\n",
    "        elif geometry_type == 'MultiPolygon':\n",
    "            for poly in row['geometry']:\n",
    "                poly.boundary.plot(ax=ax, color='blue', linewidth=0.5)\n",
    "\n",
    "    ax.set_title(\"Postal Code Polygons\")\n",
    "    plt.show()\n",
    "\n",
    "# Example usage\n",
    "file_name = \"Germany_geojson_data.geojson\"  # Update with your actual file name\n",
    "script_dir = os.path.dirname(os.path.abspath(__file__)) if \"__file__\" in locals() else os.getcwd()\n",
    "file_path = os.path.join(script_dir, file_name)\n",
    "\n",
    "plot_geojson_file(file_path)\n"
   ]
  },
  {
   "cell_type": "markdown",
   "metadata": {},
   "source": [
    "----------------------------------------------"
   ]
  },
  {
   "cell_type": "markdown",
   "metadata": {},
   "source": [
    "Testing Area"
   ]
  }
 ],
 "metadata": {
  "kernelspec": {
   "display_name": "Python 3",
   "language": "python",
   "name": "python3"
  },
  "language_info": {
   "codemirror_mode": {
    "name": "ipython",
    "version": 3
   },
   "file_extension": ".py",
   "mimetype": "text/x-python",
   "name": "python",
   "nbconvert_exporter": "python",
   "pygments_lexer": "ipython3",
   "version": "3.12.1"
  }
 },
 "nbformat": 4,
 "nbformat_minor": 2
}
