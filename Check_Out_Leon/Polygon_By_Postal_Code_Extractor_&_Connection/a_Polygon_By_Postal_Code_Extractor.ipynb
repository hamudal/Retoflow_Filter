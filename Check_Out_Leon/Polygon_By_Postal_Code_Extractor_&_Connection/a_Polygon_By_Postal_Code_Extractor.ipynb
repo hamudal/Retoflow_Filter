{
 "cells": [
  {
   "cell_type": "markdown",
   "metadata": {},
   "source": [
    "Polygon Extraction, Filtering & Save to GeoJson"
   ]
  },
  {
   "cell_type": "code",
   "execution_count": 3,
   "metadata": {},
   "outputs": [],
   "source": [
    "# Script 1: fetch_and_save_postal_codes.py\n",
    "import osmnx as ox\n",
    "import geopandas as gpd\n",
    "import json\n",
    "from shapely.geometry import MultiPolygon, Polygon\n",
    "\n",
    "\n",
    "def fetch_and_save_postal_codes(place_name=\"Germany\", tags={\"boundary\": \"postal_code\"}, save_file=True):\n",
    "    # Set the default CRS to EPSG:25832\n",
    "    ox.settings.default_crs = \"epsg:25832\"\n",
    "\n",
    "    # Fetch place polygons\n",
    "    place_polygons = ox.features_from_place(place_name, tags)\n",
    "\n",
    "    # Filter for both Polygons and MultiPolygons\n",
    "    polygon_mask = place_polygons['geometry'].apply(lambda geom: isinstance(geom, (Polygon, MultiPolygon)))\n",
    "\n",
    "    # Create GeoDataFrame and drop rows with missing postal_code or geometry\n",
    "    gdf = gpd.GeoDataFrame(place_polygons[polygon_mask].dropna(subset=['postal_code', 'geometry']))\n",
    "\n",
    "    # Keep only the necessary columns\n",
    "    columns_to_keep = ['geometry', 'postal_code']\n",
    "    gdf = gdf[columns_to_keep]\n",
    "\n",
    "    # Convert and store each row's data\n",
    "    mongo_data_list = []\n",
    "    for idx, row in gdf.iterrows():\n",
    "        postal_code = row['postal_code']\n",
    "        geometry = row['geometry']\n",
    "\n",
    "        # Convert Shapely geometry to GeoJSON format\n",
    "        geojson_geometry = json.loads(gpd.GeoSeries(geometry).to_json())['features'][0]['geometry']\n",
    "\n",
    "        # Create a dictionary with postal code and GeoJSON geometry\n",
    "        postal_code_data = {\n",
    "            \"postal_code\": postal_code,\n",
    "            \"geometry\": geojson_geometry\n",
    "        }\n",
    "\n",
    "        # Add the dictionary to the list\n",
    "        mongo_data_list.append(postal_code_data)\n",
    "\n",
    "    # Save GeoJSON data to a file for further use\n",
    "    if save_file:\n",
    "        with open(f'{place_name}_postal_codes.geojson', 'w') as file:\n",
    "            json.dump({\"type\": \"FeatureCollection\", \"features\": mongo_data_list}, file, indent=2)\n",
    "\n",
    "    return mongo_data_list\n",
    "\n",
    "# Example usage\n",
    "result_data = fetch_and_save_postal_codes(place_name=\"Germany\", tags={\"boundary\": \"postal_code\"}, save_file=True)\n"
   ]
  }
 ],
 "metadata": {
  "kernelspec": {
   "display_name": "Python 3",
   "language": "python",
   "name": "python3"
  },
  "language_info": {
   "codemirror_mode": {
    "name": "ipython",
    "version": 3
   },
   "file_extension": ".py",
   "mimetype": "text/x-python",
   "name": "python",
   "nbconvert_exporter": "python",
   "pygments_lexer": "ipython3",
   "version": "3.12.1"
  }
 },
 "nbformat": 4,
 "nbformat_minor": 2
}
