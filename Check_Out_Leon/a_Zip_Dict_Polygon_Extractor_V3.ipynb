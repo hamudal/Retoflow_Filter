{
 "cells": [
  {
   "cell_type": "code",
   "execution_count": 1,
   "metadata": {},
   "outputs": [
    {
     "name": "stdout",
     "output_type": "stream",
     "text": [
      "Kassel GeoJSON data saved to c:\\Users\\hamud\\Documents\\Retoflow\\Project_Filter\\Retoflow_Filter\\Check_Out_Leon\\Kassel_geojson_data.geojson\n"
     ]
    },
    {
     "name": "stderr",
     "output_type": "stream",
     "text": [
      "C:\\Users\\hamud\\AppData\\Roaming\\Python\\Python312\\site-packages\\jupyter_client\\session.py:200: DeprecationWarning: datetime.datetime.utcnow() is deprecated and scheduled for removal in a future version. Use timezone-aware objects to represent datetimes in UTC: datetime.datetime.now(datetime.UTC).\n",
      "  return datetime.utcnow().replace(tzinfo=utc)  # noqa\n"
     ]
    }
   ],
   "source": [
    "import osmnx as ox\n",
    "import geojson\n",
    "import pandas as pd\n",
    "import os\n",
    "\n",
    "def get_place_postal_code_polygons(place_name):\n",
    "    \"\"\"\n",
    "    Fetches postal code polygons for the specified place using OSMnx.\n",
    "    \"\"\"\n",
    "    # Fetch postal code polygons from OSMnx\n",
    "    postal_code_polygons = ox.features_from_place(place_name, tags={\"boundary\": \"postal_code\"})\n",
    "    \n",
    "    # Create a DataFrame from the OSMnx features\n",
    "    df = pd.DataFrame(postal_code_polygons).dropna(subset=['postal_code', 'geometry'])\n",
    "\n",
    "    # Create a dictionary mapping postal codes to their respective geometries\n",
    "    postal_code_polygon_dict = {feature['postal_code']: feature['geometry'] for _, feature in df.iterrows()}\n",
    "    return postal_code_polygon_dict\n",
    "\n",
    "def format_geojson_data(data):\n",
    "    \"\"\"\n",
    "    Formats data into GeoJSON format.\n",
    "    \"\"\"\n",
    "    # Create GeoJSON features from the input data\n",
    "    geojson_features = [geojson.Feature(geometry=polygon, properties={\"postal_code\": postal_code}) for postal_code, polygon in data.items()]\n",
    "    \n",
    "    # Create a GeoJSON FeatureCollection\n",
    "    return geojson.FeatureCollection(geojson_features)\n",
    "\n",
    "def save_geojson_to_file(geojson_data, file_name):\n",
    "    \"\"\"\n",
    "    Saves GeoJSON data to a file in the same directory.\n",
    "    \"\"\"\n",
    "    # Determine the script's directory\n",
    "    script_dir = os.path.dirname(os.path.abspath(__file__)) if \"__file__\" in locals() else os.getcwd()\n",
    "    \n",
    "    # Create the full path for the GeoJSON file\n",
    "    file_path = os.path.join(script_dir, file_name)\n",
    "    \n",
    "    # Save the GeoJSON data to the file\n",
    "    with open(file_path, 'w') as file:\n",
    "        geojson.dump(geojson_data, file, indent=2)\n",
    "    return file_path\n",
    "\n",
    "# User input for the city or country name\n",
    "place_input = input(\"Geben Sie den Stadtnamen oder Ländernamen ein: \")\n",
    "\n",
    "# Example call for user input\n",
    "place_postal_code_polygons = get_place_postal_code_polygons(place_input)\n",
    "place_geojson_data = format_geojson_data(place_postal_code_polygons)\n",
    "\n",
    "# Automatically create the filename in the same folder\n",
    "file_name = f\"{place_input}_geojson_data.geojson\"\n",
    "\n",
    "# Example call to save GeoJSON data to a file\n",
    "saved_file_path = save_geojson_to_file(place_geojson_data, file_name)\n",
    "\n",
    "print(f\"{place_input} GeoJSON data saved to {saved_file_path}\")\n"
   ]
  }
 ],
 "metadata": {
  "kernelspec": {
   "display_name": "Python 3",
   "language": "python",
   "name": "python3"
  },
  "language_info": {
   "codemirror_mode": {
    "name": "ipython",
    "version": 3
   },
   "file_extension": ".py",
   "mimetype": "text/x-python",
   "name": "python",
   "nbconvert_exporter": "python",
   "pygments_lexer": "ipython3",
   "version": "3.12.1"
  }
 },
 "nbformat": 4,
 "nbformat_minor": 2
}
