{
 "cells": [
  {
   "cell_type": "code",
   "execution_count": 1,
   "metadata": {},
   "outputs": [
    {
     "data": {
      "text/html": [
       "\n",
       "        <iframe\n",
       "            width=\"100%\"\n",
       "            height=\"650\"\n",
       "            src=\"http://127.0.0.1:8050/\"\n",
       "            frameborder=\"0\"\n",
       "            allowfullscreen\n",
       "            \n",
       "        ></iframe>\n",
       "        "
      ],
      "text/plain": [
       "<IPython.lib.display.IFrame at 0x2cc8ecf9f70>"
      ]
     },
     "metadata": {},
     "output_type": "display_data"
    }
   ],
   "source": [
    "from dash import Dash, dcc, html\n",
    "import dash_leaflet as dl\n",
    "import json\n",
    "\n",
    "# Load GeoJSON data\n",
    "file_path = r'C:\\Users\\hamud\\Documents\\Retoflow\\Project_Filter\\Retoflow_Filter\\Check_Out_Leon\\Germany_geojson_data.geojson'\n",
    "with open(file_path, 'r') as file:\n",
    "    geojson_data = json.load(file)\n",
    "\n",
    "# Convert the GeoJSON data to a GeoJSON string\n",
    "geojson_string = json.dumps(geojson_data)\n",
    "\n",
    "# Create a Dash app\n",
    "app = Dash(__name__)\n",
    "\n",
    "# Layout of the app\n",
    "app.layout = html.Div([\n",
    "    dl.Map([\n",
    "        dl.TileLayer(),\n",
    "        dl.GeoJSON(data=geojson_string, id='geojson')\n",
    "    ], center=[51.316669, 9.500000], zoom=6, style={'height': '50vh'})\n",
    "])\n",
    "\n",
    "# Run the app\n",
    "if __name__ == '__main__':\n",
    "    app.run_server()\n"
   ]
  }
 ],
 "metadata": {
  "kernelspec": {
   "display_name": "Python 3",
   "language": "python",
   "name": "python3"
  },
  "language_info": {
   "codemirror_mode": {
    "name": "ipython",
    "version": 3
   },
   "file_extension": ".py",
   "mimetype": "text/x-python",
   "name": "python",
   "nbconvert_exporter": "python",
   "pygments_lexer": "ipython3",
   "version": "3.12.1"
  }
 },
 "nbformat": 4,
 "nbformat_minor": 2
}
