{
 "cells": [
  {
   "cell_type": "code",
   "execution_count": 7,
   "metadata": {},
   "outputs": [
    {
     "name": "stdout",
     "output_type": "stream",
     "text": [
      "Example Polygon:\n",
      "POLYGON ((0 0, 0 1, 1 1, 1 0, 0 0))\n"
     ]
    }
   ],
   "source": [
    "from shapely.geometry import Polygon\n",
    "\n",
    "# Example coordinates for a Polygon\n",
    "polygon_coords = [(0, 0), (0, 1), (1, 1), (1, 0), (0, 0)]\n",
    "\n",
    "# Creating a Shapely Polygon\n",
    "polygon = Polygon(polygon_coords)\n",
    "\n",
    "# Displaying the Polygon\n",
    "print(\"Example Polygon:\")\n",
    "print(polygon)\n"
   ]
  },
  {
   "cell_type": "code",
   "execution_count": 19,
   "metadata": {},
   "outputs": [
    {
     "data": {
      "image/png": "[encoded data removed]",
      "text/plain": [
       "<Figure size 640x480 with 1 Axes>"
      ]
     },
     "metadata": {},
     "output_type": "display_data"
    }
   ],
   "source": [
    "import geopandas as gpd\n",
    "from shapely.geometry import Polygon\n",
    "import matplotlib.pyplot as plt\n",
    "\n",
    "# Example coordinates for a Polygon\n",
    "polygon_coords = [(0, 0), (0, 1), (1, 1), (1, 0), (0, 0)]\n",
    "\n",
    "# Create a GeoDataFrame with the Polygon\n",
    "gdf = gpd.GeoDataFrame(geometry=[Polygon(polygon_coords)])\n",
    "\n",
    "# Plot the Polygon\n",
    "gdf.plot()\n",
    "plt.title(\"Example Polygon\")\n",
    "plt.xlabel(\"Longitude\")\n",
    "plt.ylabel(\"Latitude\")\n",
    "plt.show()\n"
   ]
  },
  {
   "cell_type": "code",
   "execution_count": 8,
   "metadata": {},
   "outputs": [
    {
     "name": "stdout",
     "output_type": "stream",
     "text": [
      "\n",
      "Example MultiPolygon:\n",
      "MULTIPOLYGON (((0 0, 0 1, 1 1, 1 0, 0 0)), ((1 1, 1 2, 2 2, 2 1, 1 1)))\n"
     ]
    }
   ],
   "source": [
    "from shapely.geometry import Polygon, MultiPolygon\n",
    "\n",
    "# Example coordinates for two Polygons forming a MultiPolygon\n",
    "polygon_coords1 = [(0, 0), (0, 1), (1, 1), (1, 0), (0, 0)]\n",
    "polygon_coords2 = [(1, 1), (1, 2), (2, 2), (2, 1), (1, 1)]\n",
    "\n",
    "# Creating Shapely Polygons\n",
    "polygon1 = Polygon(polygon_coords1)\n",
    "polygon2 = Polygon(polygon_coords2)\n",
    "\n",
    "# Creating a Shapely MultiPolygon\n",
    "multi_polygon = MultiPolygon([polygon1, polygon2])\n",
    "\n",
    "# Displaying the MultiPolygon\n",
    "print(\"\\nExample MultiPolygon:\")\n",
    "print(multi_polygon)\n"
   ]
  },
  {
   "cell_type": "code",
   "execution_count": 9,
   "metadata": {},
   "outputs": [
    {
     "name": "stdout",
     "output_type": "stream",
     "text": [
      "\n",
      "Example Coordinate:\n",
      "(0.5, 0.5)\n"
     ]
    }
   ],
   "source": [
    "# Example coordinate for a point\n",
    "coordinate = (0.5, 0.5)\n",
    "\n",
    "# Displaying the Coordinate\n",
    "print(\"\\nExample Coordinate:\")\n",
    "print(coordinate)\n"
   ]
  },
  {
   "cell_type": "markdown",
   "metadata": {},
   "source": [
    "Properties & Methods\n"
   ]
  },
  {
   "cell_type": "code",
   "execution_count": 10,
   "metadata": {},
   "outputs": [
    {
     "name": "stdout",
     "output_type": "stream",
     "text": [
      "Polygon Area: 1.0\n",
      "Polygon Perimeter: 4.0\n"
     ]
    }
   ],
   "source": [
    "# Calculate area and perimeter of the Polygon\n",
    "area = polygon.area\n",
    "perimeter = polygon.length\n",
    "\n",
    "print(\"Polygon Area:\", area)\n",
    "print(\"Polygon Perimeter:\", perimeter)\n"
   ]
  },
  {
   "cell_type": "code",
   "execution_count": 11,
   "metadata": {},
   "outputs": [
    {
     "name": "stdout",
     "output_type": "stream",
     "text": [
      "Polygon Centroid: POINT (0.5 0.5)\n",
      "Exterior Coordinates: [(0.0, 0.0), (0.0, 1.0), (1.0, 1.0), (1.0, 0.0), (0.0, 0.0)]\n"
     ]
    }
   ],
   "source": [
    "# Calculate centroid and exterior coordinates of the Polygon\n",
    "centroid = polygon.centroid\n",
    "exterior_coords = list(polygon.exterior.coords)\n",
    "\n",
    "print(\"Polygon Centroid:\", centroid)\n",
    "print(\"Exterior Coordinates:\", exterior_coords)\n"
   ]
  },
  {
   "cell_type": "code",
   "execution_count": 12,
   "metadata": {},
   "outputs": [
    {
     "name": "stdout",
     "output_type": "stream",
     "text": [
      "Polygon 1: POLYGON ((0 0, 0 1, 1 1, 1 0, 0 0))\n",
      "Polygon 2: POLYGON ((1 1, 1 2, 2 2, 2 1, 1 1))\n"
     ]
    }
   ],
   "source": [
    "# Accessing individual Polygons in MultiPolygon\n",
    "individual_polygons = multi_polygon.geoms\n",
    "\n",
    "for i, poly in enumerate(individual_polygons):\n",
    "    print(f\"Polygon {i + 1}:\", poly)\n"
   ]
  },
  {
   "cell_type": "code",
   "execution_count": 13,
   "metadata": {},
   "outputs": [
    {
     "name": "stdout",
     "output_type": "stream",
     "text": [
      "Total Area of MultiPolygon: 2.0\n",
      "Total Perimeter of MultiPolygon: 8.0\n"
     ]
    }
   ],
   "source": [
    "# Calculate total area and perimeter of the MultiPolygon\n",
    "total_area = multi_polygon.area\n",
    "total_perimeter = multi_polygon.length\n",
    "\n",
    "print(\"Total Area of MultiPolygon:\", total_area)\n",
    "print(\"Total Perimeter of MultiPolygon:\", total_perimeter)\n"
   ]
  },
  {
   "cell_type": "code",
   "execution_count": 14,
   "metadata": {},
   "outputs": [
    {
     "name": "stdout",
     "output_type": "stream",
     "text": [
      "Distance between Points: 1.4142135623730951\n"
     ]
    }
   ],
   "source": [
    "from shapely.geometry import Point\n",
    "\n",
    "# Create two Point objects\n",
    "point1 = Point(0, 0)\n",
    "point2 = Point(1, 1)\n",
    "\n",
    "# Calculate distance between points\n",
    "distance = point1.distance(point2)\n",
    "\n",
    "print(\"Distance between Points:\", distance)\n"
   ]
  },
  {
   "cell_type": "code",
   "execution_count": 15,
   "metadata": {},
   "outputs": [
    {
     "name": "stdout",
     "output_type": "stream",
     "text": [
      "Buffered Polygon: POLYGON ((0.5 0, 0.4975923633360985 -0.0490085701647803, 0.4903926402016152 -0.0975451610080641, 0.4784701678661044 -0.1451423386272312, 0.4619397662556434 -0.1913417161825449, 0.4409606321741775 -0.2356983684129988, 0.4157348061512726 -0.2777851165098011, 0.3865052266813685 -0.3171966420818227, 0.3535533905932738 -0.3535533905932738, 0.3171966420818227 -0.3865052266813684, 0.2777851165098011 -0.4157348061512726, 0.2356983684129989 -0.4409606321741775, 0.1913417161825449 -0.4619397662556434, 0.1451423386272312 -0.4784701678661045, 0.0975451610080642 -0.4903926402016152, 0.0490085701647804 -0.4975923633360984, 0 -0.5, -0.0490085701647803 -0.4975923633360985, -0.0975451610080641 -0.4903926402016152, -0.1451423386272311 -0.4784701678661045, -0.1913417161825449 -0.4619397662556434, -0.2356983684129988 -0.4409606321741775, -0.277785116509801 -0.4157348061512727, -0.3171966420818227 -0.3865052266813686, -0.3535533905932737 -0.3535533905932738, -0.3865052266813685 -0.3171966420818227, -0.4157348061512727 -0.2777851165098011, -0.4409606321741775 -0.2356983684129989, -0.4619397662556434 -0.191341716182545, -0.4784701678661044 -0.1451423386272312, -0.4903926402016152 -0.0975451610080643, -0.4975923633360984 -0.0490085701647804, -0.5 -0.0000000000000001, -0.4975923633360985 0.0490085701647803, -0.4903926402016152 0.0975451610080642, -0.4784701678661045 0.145142338627231, -0.4619397662556434 0.1913417161825448, -0.4409606321741775 0.2356983684129988, -0.4157348061512727 0.277785116509801, -0.3865052266813686 0.3171966420818226, -0.3535533905932738 0.3535533905932737, -0.317196642081823 0.3865052266813683, -0.2777851165098011 0.4157348061512726, -0.2356983684129989 0.4409606321741775, -0.1913417161825452 0.4619397662556433, -0.1451423386272312 0.4784701678661044, -0.0975451610080643 0.4903926402016152, -0.0490085701647802 0.4975923633360985, -0.0000000000000001 0.5, 0.04900857016478 0.4975923633360985, 0.0975451610080642 0.4903926402016152, 0.145142338627231 0.4784701678661045, 0.191341716182545 0.4619397662556433, 0.2356983684129988 0.4409606321741775, 0.2777851165098009 0.4157348061512727, 0.3171966420818228 0.3865052266813684, 0.3535533905932737 0.3535533905932738, 0.3865052266813683 0.317196642081823, 0.4157348061512726 0.2777851165098011, 0.4409606321741774 0.235698368412999, 0.4619397662556433 0.1913417161825452, 0.4784701678661044 0.1451423386272312, 0.4903926402016152 0.0975451610080644, 0.4975923633360985 0.0490085701647802, 0.5 0))\n"
     ]
    }
   ],
   "source": [
    "# Buffer a Point to create a Polygon\n",
    "buffered_polygon = point1.buffer(0.5)\n",
    "\n",
    "print(\"Buffered Polygon:\", buffered_polygon)\n"
   ]
  },
  {
   "cell_type": "code",
   "execution_count": 16,
   "metadata": {},
   "outputs": [
    {
     "name": "stdout",
     "output_type": "stream",
     "text": [
      "Is Polygon Valid: True\n"
     ]
    }
   ],
   "source": [
    "# Validate if a Polygon is valid\n",
    "is_valid = polygon.is_valid\n",
    "\n",
    "print(\"Is Polygon Valid:\", is_valid)\n"
   ]
  },
  {
   "cell_type": "code",
   "execution_count": 17,
   "metadata": {},
   "outputs": [
    {
     "name": "stdout",
     "output_type": "stream",
     "text": [
      "Union Result: MULTIPOLYGON (((0 1, 1 1, 1 0, 0 0, 0 1)), ((1 2, 2 2, 2 1, 1 1, 1 2)))\n",
      "Intersection Result: POINT (1 1)\n",
      "Difference Result: POLYGON ((0 1, 1 1, 1 0, 0 0, 0 1))\n"
     ]
    }
   ],
   "source": [
    "# Example of Union, Intersection, and Difference operations\n",
    "union_result = polygon1.union(polygon2)\n",
    "intersection_result = polygon1.intersection(polygon2)\n",
    "difference_result = polygon1.difference(polygon2)\n",
    "\n",
    "print(\"Union Result:\", union_result)\n",
    "print(\"Intersection Result:\", intersection_result)\n",
    "print(\"Difference Result:\", difference_result)\n"
   ]
  }
 ],
 "metadata": {
  "kernelspec": {
   "display_name": "Python 3",
   "language": "python",
   "name": "python3"
  },
  "language_info": {
   "codemirror_mode": {
    "name": "ipython",
    "version": 3
   },
   "file_extension": ".py",
   "mimetype": "text/x-python",
   "name": "python",
   "nbconvert_exporter": "python",
   "pygments_lexer": "ipython3",
   "version": "3.12.1"
  }
 },
 "nbformat": 4,
 "nbformat_minor": 2
}
