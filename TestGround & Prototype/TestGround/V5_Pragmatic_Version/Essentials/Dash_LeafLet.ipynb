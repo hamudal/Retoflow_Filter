{
 "cells": [
  {
   "cell_type": "code",
   "execution_count": 1,
   "metadata": {},
   "outputs": [
    {
     "ename": "ModuleNotFoundError",
     "evalue": "No module named 'dash'",
     "output_type": "error",
     "traceback": [
      "\u001b[1;31m---------------------------------------------------------------------------\u001b[0m",
      "\u001b[1;31mModuleNotFoundError\u001b[0m                       Traceback (most recent call last)",
      "Cell \u001b[1;32mIn[1], line 1\u001b[0m\n\u001b[1;32m----> 1\u001b[0m \u001b[38;5;28;01mimport\u001b[39;00m \u001b[38;5;21;01mdash\u001b[39;00m\n\u001b[0;32m      2\u001b[0m \u001b[38;5;28;01mimport\u001b[39;00m \u001b[38;5;21;01mdash_leaflet\u001b[39;00m \u001b[38;5;28;01mas\u001b[39;00m \u001b[38;5;21;01mdl\u001b[39;00m\n\u001b[0;32m      3\u001b[0m \u001b[38;5;28;01mfrom\u001b[39;00m \u001b[38;5;21;01mdash\u001b[39;00m \u001b[38;5;28;01mimport\u001b[39;00m html\n",
      "\u001b[1;31mModuleNotFoundError\u001b[0m: No module named 'dash'"
     ]
    }
   ],
   "source": [
    "import dash\n",
    "import dash_leaflet as dl\n",
    "from dash import html\n",
    "import json\n",
    "# ... (previous code)\n",
    "\n",
    "# Function to create a GeoJSON object for Dash Leaflet\n",
    "def create_geojson_object(geojson_filename):\n",
    "    with open(geojson_filename, 'r') as file:\n",
    "        geojson_data = json.load(file)\n",
    "    \n",
    "    return dl.GeoJSON(data=geojson_data, id=\"geojson-layer\", options=dict(style={'opacity': 1, 'dashArray': '9', 'fillOpacity': 0.5, 'weight': 1}))\n",
    "\n",
    "# Example usage for Germany with saving GeoJSON data\n",
    "place_postal_code_polygons_germany = postal_code_polygon_dict_extractor(\"Germany\", save_geojson=True)\n",
    "\n",
    "# Specify the GeoJSON filename\n",
    "geojson_filename_germany = \"Germany_postal_codes.geojson\"\n",
    "\n",
    "# Create the Dash app\n",
    "app = dash.Dash(__name__)\n",
    "\n",
    "# Layout of the app\n",
    "app.layout = html.Div([\n",
    "    dl.Map([\n",
    "        dl.TileLayer(),\n",
    "        create_geojson_object(geojson_filename_germany)\n",
    "    ],\n",
    "    center=[51.1657, 10.4515],  # Specify the center coordinates of the map\n",
    "    zoom=6  # Specify the initial zoom level\n",
    "    )\n",
    "])\n",
    "\n",
    "if __name__ == '__main__':\n",
    "    app.run_server(debug=True)\n"
   ]
  }
 ],
 "metadata": {
  "kernelspec": {
   "display_name": "Python 3",
   "language": "python",
   "name": "python3"
  },
  "language_info": {
   "codemirror_mode": {
    "name": "ipython",
    "version": 3
   },
   "file_extension": ".py",
   "mimetype": "text/x-python",
   "name": "python",
   "nbconvert_exporter": "python",
   "pygments_lexer": "ipython3",
   "version": "3.12.1"
  }
 },
 "nbformat": 4,
 "nbformat_minor": 2
}
