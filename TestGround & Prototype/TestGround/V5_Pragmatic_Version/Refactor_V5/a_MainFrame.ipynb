{
 "cells": [
  {
   "cell_type": "code",
   "execution_count": 3,
   "metadata": {},
   "outputs": [
    {
     "ename": "ImportError",
     "evalue": "cannot import name 'main' from 'd_mongo_db_connector' (c:\\Users\\Admin\\OneDrive\\Dokumente\\Projects\\Retoflow_Filter-1\\ZIP_Dict_Extractor_Valid\\TestGround\\V5_Pragmatic_Version\\Refactor_V5\\d_mongo_db_connector.py)",
     "output_type": "error",
     "traceback": [
      "\u001b[1;31m---------------------------------------------------------------------------\u001b[0m",
      "\u001b[1;31mImportError\u001b[0m                               Traceback (most recent call last)",
      "Cell \u001b[1;32mIn[3], line 3\u001b[0m\n\u001b[0;32m      1\u001b[0m \u001b[38;5;28;01mfrom\u001b[39;00m \u001b[38;5;21;01mb_common_functions\u001b[39;00m \u001b[38;5;28;01mimport\u001b[39;00m format_geojson_data, save_geojson_to_file\n\u001b[0;32m      2\u001b[0m \u001b[38;5;28;01mfrom\u001b[39;00m \u001b[38;5;21;01mc_get_place_postal_code_polygons\u001b[39;00m \u001b[38;5;28;01mimport\u001b[39;00m get_place_postal_code_polygons, main \u001b[38;5;28;01mas\u001b[39;00m get_place_main\n\u001b[1;32m----> 3\u001b[0m \u001b[38;5;28;01mfrom\u001b[39;00m \u001b[38;5;21;01md_mongo_db_connector\u001b[39;00m \u001b[38;5;28;01mimport\u001b[39;00m MongoDBConnector, main \u001b[38;5;28;01mas\u001b[39;00m mongo_connector_main\n\u001b[0;32m      4\u001b[0m \u001b[38;5;28;01mfrom\u001b[39;00m \u001b[38;5;21;01me_plot_postal_code_polygon\u001b[39;00m \u001b[38;5;28;01mimport\u001b[39;00m load_geojson, plot_polygon\n\u001b[0;32m      5\u001b[0m \u001b[38;5;28;01mfrom\u001b[39;00m \u001b[38;5;21;01mf_get_postal_code_for_point\u001b[39;00m \u001b[38;5;28;01mimport\u001b[39;00m get_postal_code_for_point\n",
      "\u001b[1;31mImportError\u001b[0m: cannot import name 'main' from 'd_mongo_db_connector' (c:\\Users\\Admin\\OneDrive\\Dokumente\\Projects\\Retoflow_Filter-1\\ZIP_Dict_Extractor_Valid\\TestGround\\V5_Pragmatic_Version\\Refactor_V5\\d_mongo_db_connector.py)"
     ]
    }
   ],
   "source": [
    "from b_common_functions import format_geojson_data, save_geojson_to_file\n",
    "from c_get_place_postal_code_polygons import get_place_postal_code_polygons, main as get_place_main\n",
    "from d_mongo_db_connector import MongoDBConnector, main as mongo_connector_main\n",
    "from e_plot_postal_code_polygon import load_geojson, plot_polygon\n",
    "from f_get_postal_code_for_point import get_postal_code_for_point\n",
    "\n",
    "def main_frame():\n",
    "    # Call the main functions of each module as needed\n",
    "    print(\"\\n=== Common Functions Module ===\")\n",
    "    # You can provide sample data or user input here if needed\n",
    "    # Example:\n",
    "    sample_data = {\"12345\": some_shapely_polygon_object, \"67890\": another_shapely_polygon_object}\n",
    "    formatted_data = format_geojson_data(sample_data)\n",
    "    save_geojson_to_file(formatted_data, \"output_geojson_data.geojson\")\n",
    "\n",
    "    print(\"\\n=== Get Place Postal Code Polygons Module ===\")\n",
    "    get_place_main()\n",
    "\n",
    "    print(\"\\n=== MongoDB Connector Module ===\")\n",
    "    # You can provide sample data or user input here if needed\n",
    "    # Example:\n",
    "    sample_geojson_file_path = 'sample_geojson_data.geojson'\n",
    "    connector = MongoDBConnector(\"Sample_DB\", \"Sample_Collection\")\n",
    "    connector.connect_to_local_mongodb()\n",
    "    connector.insert_geojson_data(sample_geojson_file_path, chunk_size=1000)\n",
    "    connector.close_connection()\n",
    "\n",
    "    print(\"\\n=== Plot Postal Code Polygon Module ===\")\n",
    "    # You can provide sample data or user input here if needed\n",
    "    # Example:\n",
    "    sample_file_path = 'sample_geojson_data.geojson'\n",
    "    postal_code_polygons = load_geojson(sample_file_path)\n",
    "    input_postal_code = input(\"Enter a postal code: \")\n",
    "    plot_polygon(postal_code_polygons, input_postal_code)\n",
    "\n",
    "    print(\"\\n=== Get Postal Code for Point Module ===\")\n",
    "    # You can provide sample data or user input here if needed\n",
    "    # Example:\n",
    "    sample_saved_file_path = 'sample_geojson_data.geojson'\n",
    "    with open(sample_saved_file_path, 'r') as file:\n",
    "        sample_geojson_data = json.load(file)\n",
    "\n",
    "    sample_postal_code_polygons = {feature['properties']['postal_code']: shape(feature['geometry']) for feature in sample_geojson_data['features']}\n",
    "    sample_latitude = 51.316669\n",
    "    sample_longitude = 9.500000\n",
    "    sample_postal_code = get_postal_code_for_point(sample_latitude, sample_longitude, sample_postal_code_polygons)\n",
    "    print(f\"The postal code for the point ({sample_latitude}, {sample_longitude}) is: {sample_postal_code}\")\n",
    "\n",
    "if __name__ == \"__main__\":\n",
    "    main_frame()\n"
   ]
  }
 ],
 "metadata": {
  "kernelspec": {
   "display_name": "Python 3",
   "language": "python",
   "name": "python3"
  },
  "language_info": {
   "codemirror_mode": {
    "name": "ipython",
    "version": 3
   },
   "file_extension": ".py",
   "mimetype": "text/x-python",
   "name": "python",
   "nbconvert_exporter": "python",
   "pygments_lexer": "ipython3",
   "version": "3.12.1"
  }
 },
 "nbformat": 4,
 "nbformat_minor": 2
}
