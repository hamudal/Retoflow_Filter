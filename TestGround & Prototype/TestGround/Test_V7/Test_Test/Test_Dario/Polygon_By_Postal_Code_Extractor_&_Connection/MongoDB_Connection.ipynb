{
 "cells": [
  {
   "cell_type": "markdown",
   "metadata": {},
   "source": [
    "MongoDB Connection & Data Insertion"
   ]
  },
  {
   "cell_type": "code",
   "execution_count": 9,
   "metadata": {},
   "outputs": [
    {
     "name": "stdout",
     "output_type": "stream",
     "text": [
      "Inserted 8273 features into MongoDB collection 'Polygon_By_Postal_Code_Collection'.\n",
      "Created 2D spatial index on the 'geometry' field.\n",
      "Closed MongoDB connection.\n"
     ]
    }
   ],
   "source": [
    "# Script 2: insert_geojson_data.py\n",
    "from pymongo import MongoClient, GEO2D\n",
    "import json\n",
    "\n",
    "\n",
    "def insert_geojson_data(database_name, collection_name, host, port, geojson_file_path):\n",
    "    try:\n",
    "        # Initialize MongoDB connection parameters\n",
    "        client = MongoClient(host, port)\n",
    "        db = client[database_name]\n",
    "        collection = db[collection_name]\n",
    "\n",
    "        # Read GeoJSON file\n",
    "        with open(geojson_file_path, 'r') as file:\n",
    "            geojson_data = json.load(file)\n",
    "\n",
    "        # Extract features from GeoJSON\n",
    "        features = geojson_data.get('features', [])\n",
    "\n",
    "        # Insert all data into MongoDB at once\n",
    "        collection.insert_many(features)\n",
    "        print(f\"Inserted {len(features)} features into MongoDB collection '{collection.name}'.\")\n",
    "\n",
    "        # Create a 2D spatial index on the \"geometry\" field\n",
    "        collection.create_index([(\"geometry\", \"2dsphere\")])\n",
    "        print(\"Created 2D spatial index on the 'geometry' field.\")\n",
    "\n",
    "        # Close MongoDB connection\n",
    "        client.close()\n",
    "        print(\"Closed MongoDB connection.\")\n",
    "\n",
    "    except Exception as e:\n",
    "        print(f\"Error inserting data into MongoDB: {e}\")\n",
    "\n",
    "\n",
    "if __name__ == \"__main__\":\n",
    "    # Read configuration from the separate config file\n",
    "    with open('config.json', 'r') as config_file:\n",
    "        config = json.load(config_file)\n",
    "\n",
    "    # Call the function with the provided configuration\n",
    "    insert_geojson_data(**config)\n"
   ]
  }
 ],
 "metadata": {
  "kernelspec": {
   "display_name": "Python 3",
   "language": "python",
   "name": "python3"
  },
  "language_info": {
   "codemirror_mode": {
    "name": "ipython",
    "version": 3
   },
   "file_extension": ".py",
   "mimetype": "text/x-python",
   "name": "python",
   "nbconvert_exporter": "python",
   "pygments_lexer": "ipython3",
   "version": "3.12.1"
  }
 },
 "nbformat": 4,
 "nbformat_minor": 2
}
